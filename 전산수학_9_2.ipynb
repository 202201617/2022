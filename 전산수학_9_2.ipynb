{
  "nbformat": 4,
  "nbformat_minor": 0,
  "metadata": {
    "colab": {
      "provenance": [],
      "authorship_tag": "ABX9TyO5uKBfddb5hqvzqmXGgZM6",
      "include_colab_link": true
    },
    "kernelspec": {
      "name": "python3",
      "display_name": "Python 3"
    },
    "language_info": {
      "name": "python"
    }
  },
  "cells": [
    {
      "cell_type": "markdown",
      "metadata": {
        "id": "view-in-github",
        "colab_type": "text"
      },
      "source": [
        "<a href=\"https://colab.research.google.com/github/202201617/2022/blob/main/%EC%A0%84%EC%82%B0%EC%88%98%ED%95%99_9_2.ipynb\" target=\"_parent\"><img src=\"https://colab.research.google.com/assets/colab-badge.svg\" alt=\"Open In Colab\"/></a>"
      ]
    },
    {
      "cell_type": "code",
      "execution_count": null,
      "metadata": {
        "colab": {
          "base_uri": "https://localhost:8080/"
        },
        "id": "r5pq2vQQGx6r",
        "outputId": "2baaf2dd-bf81-40fa-8cfc-4033d8d63014"
      },
      "outputs": [
        {
          "output_type": "stream",
          "name": "stdout",
          "text": [
            "3\n",
            "[2, 7]\n",
            "2\n"
          ]
        }
      ],
      "source": [
        "#행렬\n",
        "A = [[2,7], [3, 4], [6, 1]]\n",
        "print(len(A))\n",
        "print(A[0])\n",
        "print(len(A[0]))"
      ]
    },
    {
      "cell_type": "code",
      "source": [
        "#행렬의 원소곱\n",
        "A = [[2,7], [3, 4], [6, 1]]\n",
        "B = [[1,4], [4, -1], [2, 5]]\n",
        "\n",
        "def element_product(A, B):\n",
        "  C = []\n",
        "  m = len(A)\n",
        "  n = len(A[0])\n",
        "  for i in range(m):\n",
        "    D = []\n",
        "    for j in range(n):\n",
        "      value = A[i][j]*B[i][j]\n",
        "      D.append(value)\n",
        "    C.append(D)\n",
        "  \n",
        "  return C\n",
        "\n",
        "C = element_product(A,B)\n",
        "print(C)"
      ],
      "metadata": {
        "id": "2WEm8bMuL9Jz",
        "colab": {
          "base_uri": "https://localhost:8080/"
        },
        "outputId": "68c4b86d-f417-4498-dcbb-fa959d369144"
      },
      "execution_count": null,
      "outputs": [
        {
          "output_type": "stream",
          "name": "stdout",
          "text": [
            "[[2, 28], [12, -4], [12, 5]]\n"
          ]
        }
      ]
    },
    {
      "cell_type": "code",
      "source": [
        "# 행렬곱\n",
        "A = [[2,7], [3,4], [6,1]]\n",
        "B = [[3, -3, 5], [-1, 2, -1]]\n",
        "\n",
        "print(len(A))\n",
        "print(len(A[0]))\n",
        "print(len(B[0]))\n",
        "\n",
        "def matrix_mul(A,B):\n",
        "  C = []\n",
        "  m = len(A)\n",
        "  p = len(A[0])\n",
        "  n = len(B[0])\n",
        "  for i in range(m):\n",
        "    D = []\n",
        "    for j in range(n):\n",
        "      sum_k = 0\n",
        "      for k in range(p):\n",
        "        sum_k += A[i][k]*B[k][j]\n",
        "      D.append(sum_k)\n",
        "    C.append(D)\n",
        "  return C\n",
        "\n",
        "C = matrix_mul(A,B)\n",
        "print(C)"
      ],
      "metadata": {
        "colab": {
          "base_uri": "https://localhost:8080/"
        },
        "id": "UDnTzawNZnYS",
        "outputId": "1261919c-f4d9-45d3-a516-2d08c012a44c"
      },
      "execution_count": null,
      "outputs": [
        {
          "output_type": "stream",
          "name": "stdout",
          "text": [
            "3\n",
            "2\n",
            "3\n",
            "[[-1, 8, 3], [5, -1, 11], [17, -16, 29]]\n"
          ]
        }
      ]
    },
    {
      "cell_type": "code",
      "source": [
        "#Ax=b 풀기\n",
        "A = [[1, -1, 2, 1], [5, 8, 6, 3], [4, 2, 5, 3], [3, 2, 1, 4]]\n",
        "B = [2, 10, 3, 1]\n",
        "x = list(range(0,4)) #[0,1,2,3]"
      ],
      "metadata": {
        "id": "4X3YVGDcYdS0"
      },
      "execution_count": null,
      "outputs": []
    },
    {
      "cell_type": "code",
      "source": [
        "#Ax=b 풀기\n",
        "A = [[1, -1, 2, 1], [5, 8, 6, 3], [4, 2, 5, 3], [3, 2, 1, 4]]\n",
        "b = [2, 10, 3, 1]\n",
        "x = list(range(0,4)) #[0,1,2,3]\n",
        "\n",
        "#forward elimination (upper triangular matrix)\n",
        "for k in range(0,3):\n",
        "  for i in range(k+1, 4):\n",
        "    mult = A[i][k]/A[k][k]\n",
        "    for j in range(k,4):\n",
        "      A[i][j] = A[i][j] - mult*A[k][j]\n",
        "    b[i] = b[i]-mult*b[k]\n",
        "\n",
        "print(A)\n",
        "print(b)\n",
        "print('='*20)\n",
        "\n",
        "#Back substitution\n",
        "x[3] = b[3]/A[3][3]\n",
        "for i in range(2, -1, -1):\n",
        "  sum_j = 0\n",
        "  for j in range(i+1, 4):\n",
        "    sum_j += A[i][j]*x[j]\n",
        "  x[i] = (b[i] - sum_j)/A[i][i]\n",
        "\n",
        "print('x=', x)"
      ],
      "metadata": {
        "id": "AWEsodDYM6B2",
        "colab": {
          "base_uri": "https://localhost:8080/"
        },
        "outputId": "9577ca64-071e-4bab-81b2-8604befb5ac1"
      },
      "execution_count": null,
      "outputs": [
        {
          "output_type": "stream",
          "name": "stdout",
          "text": [
            "[[1, -1, 2, 1], [0.0, 13.0, -4.0, -2.0], [0.0, 0.0, -1.1538461538461537, -0.07692307692307687], [0.0, 0.0, 0.0, 1.9999999999999998]]\n",
            "[2, 0.0, -5.0, 10.000000000000002]\n",
            "====================\n",
            "x= [-9.000000000000004, 2.0000000000000004, 4.000000000000001, 5.000000000000002]\n"
          ]
        }
      ]
    },
    {
      "cell_type": "code",
      "source": [
        "def solve(A,b):\n",
        "  n = len(A)\n",
        "  for k in range(0,n-1):\n",
        "    for i in range(k+1, n):\n",
        "      mult = A[i][k]/A[k][k]\n",
        "      for j in range(k,n):\n",
        "        A[i][j] = A[i][j] - mult*A[k][j]\n",
        "      b[i] = b[i]-mult*b[k]\n",
        "\n",
        "  x[n-1] = b[n-1]/A[n-1][n-1]\n",
        "  for i in range(n-2, -1, -1):\n",
        "    sum_j = 0\n",
        "    for j in range(i+1, n):\n",
        "      sum_j += A[i][j]*x[j]\n",
        "    x[i] = (b[i] - sum_j)/A[i][i] \n",
        "\n",
        "  return x\n",
        "\n",
        "x = list(range(0,3))\n",
        "A = [[1, -1, 2],\n",
        "    [5, 8, 6],\n",
        "    [4, 2, 5]]\n",
        "b = [2, 10, 3]\n",
        "x = solve(A,b)\n",
        "\n",
        "print(x)"
      ],
      "metadata": {
        "colab": {
          "base_uri": "https://localhost:8080/"
        },
        "id": "kHpDEkw2d6iX",
        "outputId": "0c6491fd-9d33-4cbe-e3b2-9cd5738b06e5"
      },
      "execution_count": null,
      "outputs": [
        {
          "output_type": "stream",
          "name": "stdout",
          "text": [
            "[-5.333333333333334, 1.3333333333333335, 4.333333333333334]\n"
          ]
        }
      ]
    },
    {
      "cell_type": "code",
      "source": [
        "#np.array 이용하여 행렬 계산하기\n",
        "import numpy as np\n",
        "\n",
        "A = np.array([[2,7], [3,4], [6,1]])\n",
        "B = np.array([[1,4], [4, -1], [2,5]])\n",
        "m = len(A)\n",
        "n = len(A[0])\n",
        "\n",
        "#행렬 덧셈, 뺄셈, 곱셈, 스칼라곱, 원소곱, 행렬곱\n",
        "print(A+B)\n",
        "print(A-B)\n",
        "print(2*A)\n",
        "C = np.multiply(A,B) #원소곱\n",
        "print(C)\n",
        "print( )\n",
        "\n",
        "A = np.array([[2,7], [3,4], [6,1]]) #3*2\n",
        "B = np.array([[3,-3,5], [-1,2,-1]]) #2*3\n",
        "C = np.matmul(A,B) #행렬곱\n",
        "print(C)\n",
        "print( )\n",
        "\n",
        "#transpose A^T\n",
        "A = np.array([[3,-3,5], [-1,2,1], [2,4,5]])\n",
        "At = np.transpose(A)\n",
        "print(At)\n",
        "print( )\n",
        "\n",
        "#diagonal matrix\n",
        "D = np.diag(A) #diagonal elements → array\n",
        "print(D)\n",
        "print( )\n",
        " \n",
        "D2 = np.diag(np.diag(A))\n",
        "print(D2)"
      ],
      "metadata": {
        "colab": {
          "base_uri": "https://localhost:8080/"
        },
        "id": "HZ2SxI7-fMje",
        "outputId": "9dcfe50d-7112-4812-f332-4545df2ac452"
      },
      "execution_count": null,
      "outputs": [
        {
          "output_type": "stream",
          "name": "stdout",
          "text": [
            "[[ 3 11]\n",
            " [ 7  3]\n",
            " [ 8  6]]\n",
            "[[ 1  3]\n",
            " [-1  5]\n",
            " [ 4 -4]]\n",
            "[[ 4 14]\n",
            " [ 6  8]\n",
            " [12  2]]\n",
            "[[ 2 28]\n",
            " [12 -4]\n",
            " [12  5]]\n",
            "\n",
            "[[ -1   8   3]\n",
            " [  5  -1  11]\n",
            " [ 17 -16  29]]\n",
            "\n",
            "[[ 3 -1  2]\n",
            " [-3  2  4]\n",
            " [ 5  1  5]]\n",
            "\n",
            "[3 2 5]\n",
            "\n",
            "[[3 0 0]\n",
            " [0 2 0]\n",
            " [0 0 5]]\n"
          ]
        }
      ]
    },
    {
      "cell_type": "code",
      "source": [
        "import numpy as np\n",
        "\n",
        "#Identity matrix\n",
        "I = np.identity(3)\n",
        "print(I)\n",
        "print( )\n",
        "\n",
        "#Upper/lower triangular matrix\n",
        "A = np.array([[3,-3,4], [-1,2,-1], [2,4,5]])\n",
        "U = np.triu(A)\n",
        "print(U)\n",
        "#L = np.trill(A)\n",
        "#print(L)\n",
        "print( )\n",
        "\n",
        "#determinant/inverse/x=A^-1*b\n",
        "A = np.array([[1.0, -1.0, 2.0], [5.0, 8.0, 6.0], [4.0, 2.0, 5.0]])\n",
        "D = np.linalg.det(A)\n",
        "print(D)\n",
        "\n",
        "Ainv = np.linalg.inv(A)\n",
        "print(Ainv)\n",
        "print( )\n",
        "\n",
        "#Ax=b → x=A^-1*b\n",
        "b = np.array([2, 10, 3])\n",
        "Ainv = np.linalg.inv(A)\n",
        "x = np.matmul(Ainv, b)\n",
        "print(x)"
      ],
      "metadata": {
        "id": "SQlumv3qRSjF",
        "colab": {
          "base_uri": "https://localhost:8080/"
        },
        "outputId": "799afbfd-58c6-4906-a4cf-61440a86b6d9"
      },
      "execution_count": null,
      "outputs": [
        {
          "output_type": "stream",
          "name": "stdout",
          "text": [
            "[[1. 0. 0.]\n",
            " [0. 1. 0.]\n",
            " [0. 0. 1.]]\n",
            "\n",
            "[[ 3 -3  4]\n",
            " [ 0  2 -1]\n",
            " [ 0  0  5]]\n",
            "\n",
            "-15.000000000000007\n",
            "[[-1.86666667 -0.6         1.46666667]\n",
            " [ 0.06666667  0.2        -0.26666667]\n",
            " [ 1.46666667  0.4        -0.86666667]]\n",
            "\n",
            "[-5.33333333  1.33333333  4.33333333]\n"
          ]
        }
      ]
    },
    {
      "cell_type": "code",
      "source": [
        "#다음시간 숙제\n",
        "#A = L + D + U\n",
        "\n",
        "def decomposition(A):\n",
        "  L = []\n",
        "  D = []\n",
        "  U = []\n",
        "\n",
        "  m = len(A)\n",
        "  n = len(A[0])\n",
        "\n",
        "  for i in range(m):\n",
        "    L_low = []\n",
        "    D_low = []\n",
        "    U_low = []\n",
        "    for j in range(n):\n",
        "      if i == j:\n",
        "        L_low.append(0)\n",
        "        D_low.append(A[i][j])\n",
        "        U_low.append(0)\n",
        "      elif i < j:\n",
        "        L_low.append(0)\n",
        "        D_low.append(0)\n",
        "        U_low.append(A[i][j])\n",
        "      elif j < i:\n",
        "        L_low.append(A[i][j])\n",
        "        D_low.append(0)\n",
        "        U_low.append(0)\n",
        "    L.append(L_low)\n",
        "    D.append(D_low)\n",
        "    U.append(U_low)\n",
        "\n",
        "    print(L, D, U)\n",
        "\n",
        "A = [[1, -1, 2, 1], [5, 8, 6, 3], [4, 2, 5, 3], [3, 2, 1, 4]]\n",
        "\n",
        "decomposition(A)"
      ],
      "metadata": {
        "id": "AAt7guRaNGHw",
        "colab": {
          "base_uri": "https://localhost:8080/"
        },
        "outputId": "541c8780-188b-4251-b783-da9bfc4742ee"
      },
      "execution_count": 15,
      "outputs": [
        {
          "output_type": "stream",
          "name": "stdout",
          "text": [
            "[[0, 0, 0, 0]] [[1, 0, 0, 0]] [[0, -1, 2, 1]]\n",
            "[[0, 0, 0, 0], [5, 0, 0, 0]] [[1, 0, 0, 0], [0, 8, 0, 0]] [[0, -1, 2, 1], [0, 0, 6, 3]]\n",
            "[[0, 0, 0, 0], [5, 0, 0, 0], [4, 2, 0, 0]] [[1, 0, 0, 0], [0, 8, 0, 0], [0, 0, 5, 0]] [[0, -1, 2, 1], [0, 0, 6, 3], [0, 0, 0, 3]]\n",
            "[[0, 0, 0, 0], [5, 0, 0, 0], [4, 2, 0, 0], [3, 2, 1, 0]] [[1, 0, 0, 0], [0, 8, 0, 0], [0, 0, 5, 0], [0, 0, 0, 4]] [[0, -1, 2, 1], [0, 0, 6, 3], [0, 0, 0, 3], [0, 0, 0, 0]]\n"
          ]
        }
      ]
    },
    {
      "cell_type": "code",
      "source": [
        "A = [[1, -1, 2, 1], [5, 8, 6, 3], [4, 2, 5, 3], [3, 2, 1, 4]]\n",
        "\n",
        "L = []\n",
        "D = []\n",
        "U = []\n",
        "\n",
        "m = len(A)\n",
        "n = len(A[0])\n",
        "\n",
        "for i in range(m):\n",
        "    L_low = []\n",
        "    D_low = []\n",
        "    U_low = []\n",
        "    for j in range(n):\n",
        "      if i == j:\n",
        "        L_low.append(0)\n",
        "        D_low.append(A[i][j])\n",
        "        U_low.append(0)\n",
        "      elif i < j:\n",
        "        L_low.append(0)\n",
        "        D_low.append(0)\n",
        "        U_low.append(A[i][j])\n",
        "      elif j < i:\n",
        "        L_low.append(A[i][j])\n",
        "        D_low.append(0)\n",
        "        U_low.append(0)\n",
        "    L.append(L_low)\n",
        "    D.append(D_low)\n",
        "    U.append(U_low)\n",
        "\n",
        "print(L, D, U)"
      ],
      "metadata": {
        "colab": {
          "base_uri": "https://localhost:8080/"
        },
        "id": "g_lyhNhPxAPK",
        "outputId": "ead6551a-85e8-4a1f-e379-b1abbcb78785"
      },
      "execution_count": 18,
      "outputs": [
        {
          "output_type": "stream",
          "name": "stdout",
          "text": [
            "[[0, 0, 0, 0], [5, 0, 0, 0], [4, 2, 0, 0], [3, 2, 1, 0]] [[1, 0, 0, 0], [0, 8, 0, 0], [0, 0, 5, 0], [0, 0, 0, 4]] [[0, -1, 2, 1], [0, 0, 6, 3], [0, 0, 0, 3], [0, 0, 0, 0]]\n"
          ]
        }
      ]
    },
    {
      "cell_type": "code",
      "source": [
        "# 퀴즈, f(x)=0\n",
        "# 안보여"
      ],
      "metadata": {
        "id": "ft6gub2LqgRY"
      },
      "execution_count": null,
      "outputs": []
    }
  ]
}