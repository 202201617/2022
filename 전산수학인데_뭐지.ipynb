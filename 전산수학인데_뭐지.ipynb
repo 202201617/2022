{
  "nbformat": 4,
  "nbformat_minor": 0,
  "metadata": {
    "colab": {
      "provenance": [],
      "authorship_tag": "ABX9TyNdUbocyZIfal3SkwOFvC0B",
      "include_colab_link": true
    },
    "kernelspec": {
      "name": "python3",
      "display_name": "Python 3"
    },
    "language_info": {
      "name": "python"
    }
  },
  "cells": [
    {
      "cell_type": "markdown",
      "metadata": {
        "id": "view-in-github",
        "colab_type": "text"
      },
      "source": [
        "<a href=\"https://colab.research.google.com/github/202201617/2022/blob/main/%EC%A0%84%EC%82%B0%EC%88%98%ED%95%99%EC%9D%B8%EB%8D%B0_%EB%AD%90%EC%A7%80.ipynb\" target=\"_parent\"><img src=\"https://colab.research.google.com/assets/colab-badge.svg\" alt=\"Open In Colab\"/></a>"
      ]
    },
    {
      "cell_type": "code",
      "source": [
        "#1.\n",
        "tmp = f[0]+2*sum([2:2:n-3])+4*sum(f[1:2:n-2])+f[n-1]\n",
        "sim_sum(dx/3)*tmp\n",
        "error_sim = sim_sum - exact\n",
        "print(e)"
      ],
      "metadata": {
        "id": "__PCeqT5qA0W"
      },
      "execution_count": null,
      "outputs": []
    },
    {
      "cell_type": "code",
      "source": [
        "#2.\n",
        "import numpy as np\n",
        "import matplotlib.pyplot as plt\n",
        "\n",
        "t0 = 0\n",
        "tn = 2\n",
        "dt = 0.01\n",
        "t = np.arange(t0, tn+dt, dt)\n",
        "y = np.zeros_like(t)\n",
        "\n",
        "y[0] = 1\n",
        "\n",
        "f = lambda t, y: t**3+2*(t**2)+4\n",
        "y_exact = (t**4)/4+2*(t**3)/3+4*t+1\n",
        "\n",
        "for i in range(len(t)-1):\n",
        "  y[i+1] = y[i] +dt*f(t[i], y[i])\n",
        "\n",
        "plt.plot(t, y, 'r', label = \"Euler's method\")\n",
        "plt.plot(t, y_exact, label = 'exact solution')\n",
        "plt.legend()\n",
        "plt.show()"
      ],
      "metadata": {
        "colab": {
          "base_uri": "https://localhost:8080/",
          "height": 430
        },
        "id": "99eREY9mqBeN",
        "outputId": "6395851a-ee8c-4e72-817d-c7d4dc426596"
      },
      "execution_count": null,
      "outputs": [
        {
          "output_type": "display_data",
          "data": {
            "text/plain": [
              "<Figure size 640x480 with 1 Axes>"
            ],
            "image/png": "[encoded data removed]"
          },
          "metadata": {}
        }
      ]
    },
    {
      "cell_type": "code",
      "source": [
        "#3."
      ],
      "metadata": {
        "id": "gU7AiDvlqDQ1"
      },
      "execution_count": null,
      "outputs": []
    },
    {
      "cell_type": "code",
      "execution_count": null,
      "metadata": {
        "colab": {
          "base_uri": "https://localhost:8080/"
        },
        "id": "8s8PChK8oXtg",
        "outputId": "83ad176f-b85c-4a9a-b29e-0f52ddd1cd54"
      },
      "outputs": [
        {
          "output_type": "stream",
          "name": "stdout",
          "text": [
            "Drive already mounted at /content/drive; to attempt to forcibly remount, call drive.mount(\"/content/drive\", force_remount=True).\n"
          ]
        }
      ],
      "source": [
        "#4.\n",
        "from google.colab import drive\n",
        "drive.mount('/content/drive')\n",
        "\n",
        "import os\n",
        "os.chdir('/content/drive/MyDrive/2023-1st/')\n",
        "\n",
        "import csv\n",
        "\n",
        "data = [['학생', '국어', '영어', '수학', '과학'],\n",
        "['A', 100, 90, 80, 70],\n",
        "['B', 90, 80, 78, 94],\n",
        "['C', 60, 93, 87, 57]]\n",
        "\n",
        "f = open('score.csv', 'w')\n",
        "g = csv.writer(f)\n",
        "g.writerows(data)\n",
        "f.close()"
      ]
    },
    {
      "cell_type": "code",
      "source": [
        "#6.\n",
        "import numpy as np\n",
        "def matirx_decompose(A):\n",
        "  A = np.array(A)\n",
        "  U = np.triu(A)\n",
        "  L = np.trill(A)\n",
        "  D = np.linalg.det(A)\n",
        "  return L, D, U\n",
        "\n",
        "A = [[1, -1, 2, 1],\n",
        "     [5, 8, 6, 3,],\n",
        "     [4, 2, 5, 3],\n",
        "     [3, 2, 1, 4]]\n",
        "\n",
        "print('L=', L, 'D=', D, 'U=', U, )"
      ],
      "metadata": {
        "colab": {
          "base_uri": "https://localhost:8080/",
          "height": 211
        },
        "id": "KK7MRck1o7Te",
        "outputId": "47f2d65d-53c6-48da-8d57-cd21ce902d9d"
      },
      "execution_count": null,
      "outputs": [
        {
          "output_type": "error",
          "ename": "NameError",
          "evalue": "ignored",
          "traceback": [
            "\u001b[0;31m---------------------------------------------------------------------------\u001b[0m",
            "\u001b[0;31mNameError\u001b[0m                                 Traceback (most recent call last)",
            "\u001b[0;32m<ipython-input-9-571976321cc8>\u001b[0m in \u001b[0;36m<cell line: 15>\u001b[0;34m()\u001b[0m\n\u001b[1;32m     13\u001b[0m      [3, 2, 1, 4]]\n\u001b[1;32m     14\u001b[0m \u001b[0;34m\u001b[0m\u001b[0m\n\u001b[0;32m---> 15\u001b[0;31m \u001b[0mprint\u001b[0m\u001b[0;34m(\u001b[0m\u001b[0;34m'L='\u001b[0m\u001b[0;34m,\u001b[0m \u001b[0mL\u001b[0m\u001b[0;34m,\u001b[0m \u001b[0;34m'D='\u001b[0m\u001b[0;34m,\u001b[0m \u001b[0mD\u001b[0m\u001b[0;34m,\u001b[0m \u001b[0;34m'U='\u001b[0m\u001b[0;34m,\u001b[0m \u001b[0mU\u001b[0m\u001b[0;34m,\u001b[0m \u001b[0;34m)\u001b[0m\u001b[0;34m\u001b[0m\u001b[0;34m\u001b[0m\u001b[0m\n\u001b[0m",
            "\u001b[0;31mNameError\u001b[0m: name 'L' is not defined"
          ]
        }
      ]
    },
    {
      "cell_type": "code",
      "source": [
        "A = [[1, -1, 2, 1],\n",
        "     [5, 8, 6, 3,],\n",
        "     [4, 2, 5, 3],\n",
        "     [3, 2, 1, 4]]\n",
        "\n",
        "A = np.array(A)"
      ],
      "metadata": {
        "id": "IMA6CHz3vi0l"
      },
      "execution_count": null,
      "outputs": []
    },
    {
      "cell_type": "code",
      "source": [],
      "metadata": {
        "id": "FsCrkU41voQk"
      },
      "execution_count": null,
      "outputs": []
    }
  ]
}