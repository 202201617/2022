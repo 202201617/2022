{
  "nbformat": 4,
  "nbformat_minor": 0,
  "metadata": {
    "colab": {
      "provenance": [],
      "authorship_tag": "ABX9TyOfVS4jMji9pcWzP1LOzZLV",
      "include_colab_link": true
    },
    "kernelspec": {
      "name": "python3",
      "display_name": "Python 3"
    },
    "language_info": {
      "name": "python"
    }
  },
  "cells": [
    {
      "cell_type": "markdown",
      "metadata": {
        "id": "view-in-github",
        "colab_type": "text"
      },
      "source": [
        "<a href=\"https://colab.research.google.com/github/202201617/2022/blob/main/0609.ipynb\" target=\"_parent\"><img src=\"https://colab.research.google.com/assets/colab-badge.svg\" alt=\"Open In Colab\"/></a>"
      ]
    },
    {
      "cell_type": "code",
      "execution_count": null,
      "metadata": {
        "colab": {
          "base_uri": "https://localhost:8080/"
        },
        "id": "L7P0VbPEd2gl",
        "outputId": "095ae5cd-c76b-4fc9-885b-3be4313e47e2"
      },
      "outputs": [
        {
          "output_type": "stream",
          "name": "stdout",
          "text": [
            "이름\t총점\t평균\n",
            "홍길동\t347\t86.75\n",
            "가나다\t368\t92.0\n"
          ]
        }
      ],
      "source": [
        "## 클래스메서드(클래스함수) ====================================================\n",
        "## @classmethod : 데코레이터(Decorator)\n",
        "# class 클래스 이름:\n",
        "##     @classmethod\n",
        "#     def 클래스함수(cls, 매개변수);\n",
        "#           pass\n",
        "# => 호출시: 클래스이름.함수이름(매개변수)\n",
        "\n",
        "class Student:\n",
        "  \n",
        "  #클래스 변수\n",
        "  count = 0\n",
        "  students = []\n",
        "\n",
        "  #크래스 메서드/함수\n",
        "  @classmethod\n",
        "  def print(cls):\n",
        "    print('이름', '총점', '평균', sep = '\\t')\n",
        "    for person in cls.students:\n",
        "      print(str(person))\n",
        "\n",
        "#인스턴스 메서드/함수\n",
        "  def __init__(self, name, korean, math, english, science):\n",
        "    self.name = name\n",
        "    self.korean = korean\n",
        "    self.math = math\n",
        "    self.english = english\n",
        "    self.science = science\n",
        "    #클래스 변수\n",
        "    Student.count += 1 #객체 하나 늘어날 때마다 숫자 늘어남\n",
        "    Student.students.append(self) #self = 객체\n",
        "\n",
        "  def get_sum(self):\n",
        "    return sum([self.korean, self.math, self.english, self.science])\n",
        "\n",
        "  def get_average(self):\n",
        "    return self.get_sum()/4\n",
        "\n",
        "  def __str__(self):\n",
        "    return f'{self.name}\\t{self.get_sum()}\\t{self.get_average()}'\n",
        "\n",
        "#학생추가\n",
        "Student('홍길동', 90, 87, 82, 88)\n",
        "Student('가나다', 100, 84, 89, 95)\n",
        "\n",
        "Student.print()"
      ]
    },
    {
      "cell_type": "code",
      "source": [
        "## Staticmethod(정적메서드) ======================================================\n",
        "#인스턴스 메서드가 객체의 인스턴스 필드를 self를 통해 엑세스할 수 있는 반면,\n",
        "#정적 메서드는 이러한 self 파라미터를 갖지 않고 인스턴스 변수에 엑세스할 수 없다.\n",
        "#따라서, 정적 메서드는 보통 객체 필드와 독립적이지만 로직상 클래스내에 포함되는 메서드에 사용된다.\n",
        "#정적 메서드는 메서드 앞에 @staticmethod 라는 Decorator를 표시하여 해당 메서드가 정적 메서드임을 표시\n",
        "#==================================================================================\n",
        "\n",
        "class Rectangle:\n",
        "    count = 0  # 클래스 변수\n",
        " \n",
        "    def __init__(self, width, height):\n",
        "      self.width = width\n",
        "      self.height = height\n",
        "      Rectangle.count += 1\n",
        " \n",
        "    # 인스턴스 메서드/함수\n",
        "    def Area(self):\n",
        "      return self.width * self.height\n",
        " \n",
        "    # 정적 메서드/함수\n",
        "    @staticmethod\n",
        "    def isSquare(recwidth, recheight):\n",
        "      return recwidth == recheight\n",
        "\n",
        "    # 클래스 메서드/함수\n",
        "    @classmethod\n",
        "    def printCount(cls):\n",
        "      print(cls.count)\n",
        "\n",
        "#인스턴스 함수 실행\n",
        "a = Rectangle(4, 3)\n",
        "print(a.Area())"
      ],
      "metadata": {
        "colab": {
          "base_uri": "https://localhost:8080/"
        },
        "id": "nFxlue3BhGeK",
        "outputId": "0142a6f4-e154-468e-efd5-70404efc0438"
      },
      "execution_count": null,
      "outputs": [
        {
          "output_type": "stream",
          "name": "stdout",
          "text": [
            "12\n"
          ]
        }
      ]
    },
    {
      "cell_type": "code",
      "source": [
        "# 클래스 메서드 실행\n",
        "Rectangle.printCount()\n",
        "b = Rectangle(5, 5)\n",
        "Rectangle.printCount() #또는 b.printCount()\n",
        "\n",
        "#정적메서드 실행\n",
        "print(Rectangle.isSquare(4,3))\n",
        "print(Rectangle.isSquare(5,5))"
      ],
      "metadata": {
        "colab": {
          "base_uri": "https://localhost:8080/"
        },
        "id": "5dCnQ-JOjB3A",
        "outputId": "73284476-2e63-4234-83d2-9685c32c5fc5"
      },
      "execution_count": null,
      "outputs": [
        {
          "output_type": "stream",
          "name": "stdout",
          "text": [
            "2\n",
            "3\n",
            "False\n",
            "True\n"
          ]
        }
      ]
    },
    {
      "cell_type": "code",
      "source": [
        "'''\n",
        "============================================================\n",
        "Module(모듈): 함수, 변수, 클래스를 모아 놓은 파일\n",
        "============================================================\n",
        "'''\n",
        "\n",
        "from google.colab import drive\n",
        "drive.mount('/content/drive')\n",
        "\n",
        "import os\n",
        "os.chdir('/content/drive/MyDrive/2023-1st/')\n",
        "\n",
        "#import 모듈\n",
        "import module1\n",
        "\n",
        "print(module1.add(4,3))\n",
        "print(module1.sub(4,3))"
      ],
      "metadata": {
        "id": "sRW20CzRjOyQ",
        "colab": {
          "base_uri": "https://localhost:8080/"
        },
        "outputId": "945c16ad-0b6b-43c9-dfd0-b87ae0fffa22"
      },
      "execution_count": null,
      "outputs": [
        {
          "output_type": "stream",
          "name": "stdout",
          "text": [
            "Drive already mounted at /content/drive; to attempt to forcibly remount, call drive.mount(\"/content/drive\", force_remount=True).\n",
            "7\n",
            "1\n"
          ]
        }
      ]
    },
    {
      "cell_type": "code",
      "source": [
        "from module1 import* #모든 함수 불러오기\n",
        "print(add(4,3))\n",
        "print(sub(4,3))\n",
        "\n",
        "import module2\n",
        "\n",
        "a = module2.Math() #객체\n",
        "print(a.solv(2))"
      ],
      "metadata": {
        "colab": {
          "base_uri": "https://localhost:8080/"
        },
        "id": "su4N_oqkmP1r",
        "outputId": "4f17328f-3f6e-44ce-a29c-2fd72b8a1abe"
      },
      "execution_count": null,
      "outputs": [
        {
          "output_type": "stream",
          "name": "stdout",
          "text": [
            "7\n",
            "1\n",
            "12.566368\n"
          ]
        }
      ]
    },
    {
      "cell_type": "code",
      "source": [
        "# if__name__==\"__main__\": 의 의미\n",
        "\n",
        "# module2.py 파일======================== \n",
        "#def add(a,b):\n",
        "#    return a+b\n",
        "#def sub(a,b):\n",
        "#    return a-b\n",
        "#print(add(1,4))\n",
        "#print(add(4,2))\n",
        "# =======================================\n",
        "\n",
        "import module12\n",
        "\n",
        "#============================================================\n",
        "# 이를 방지하기 위해 if__name__==\"__main__\": 사용\n",
        "# __name__==\"__main__\": 현재 파일이 엔트리 포인트인지 확인할 때 사용하는 코드\n",
        "# 엔트리 포인트(entry point) 또는 메인: 프로그램의 진입점\n",
        "#===========================================================\n",
        "\n",
        "import module13\n",
        "\n",
        "print(module13.add(4,3))\n",
        "print(module13.sub(4,3))\n",
        "\n",
        "\n",
        "# 클래스나 변수를 포함한 모듈"
      ],
      "metadata": {
        "id": "Nbquz75LlT9h",
        "colab": {
          "base_uri": "https://localhost:8080/"
        },
        "outputId": "a8b9b54c-6d8d-41b9-ab07-2b0bd8883c7a"
      },
      "execution_count": null,
      "outputs": [
        {
          "output_type": "stream",
          "name": "stdout",
          "text": [
            "5\n",
            "6\n",
            "7\n",
            "1\n"
          ]
        }
      ]
    },
    {
      "cell_type": "code",
      "source": [],
      "metadata": {
        "id": "_387tVhqnrYJ"
      },
      "execution_count": null,
      "outputs": []
    }
  ]
}