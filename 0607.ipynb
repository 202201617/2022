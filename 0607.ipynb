{
  "nbformat": 4,
  "nbformat_minor": 0,
  "metadata": {
    "colab": {
      "provenance": [],
      "authorship_tag": "ABX9TyOdshEv7Q2WLv2rmFoRCcTU",
      "include_colab_link": true
    },
    "kernelspec": {
      "name": "python3",
      "display_name": "Python 3"
    },
    "language_info": {
      "name": "python"
    }
  },
  "cells": [
    {
      "cell_type": "markdown",
      "metadata": {
        "id": "view-in-github",
        "colab_type": "text"
      },
      "source": [
        "<a href=\"https://colab.research.google.com/github/202201617/2022/blob/main/0607.ipynb\" target=\"_parent\"><img src=\"https://colab.research.google.com/assets/colab-badge.svg\" alt=\"Open In Colab\"/></a>"
      ]
    },
    {
      "cell_type": "code",
      "execution_count": null,
      "metadata": {
        "colab": {
          "base_uri": "https://localhost:8080/"
        },
        "id": "mSJ40QeWl4D5",
        "outputId": "202f15d6-1a71-4cdf-d5cf-dd83bd4a8b40"
      },
      "outputs": [
        {
          "output_type": "stream",
          "name": "stdout",
          "text": [
            "저희는 가족입니다.\n",
            "저희는 가족입니다.\n"
          ]
        }
      ],
      "source": [
        "# 메서드 오버라이딩 (method overriding)\n",
        "# 자식 클래스에 동일한 이름의 메서드가 있으면, 부모 클래스의 메서드는 호출되지 않고, 자식 클래스의 메서드가 호출됨\n",
        "\n",
        "# 부모 클래스\n",
        "class Family:\n",
        "  def introduce(self):\n",
        "    print('저희는 가족입니다.')\n",
        "# 자식 클래스\n",
        "class Person(Family):\n",
        "  pass\n",
        "\n",
        "a = Family() #Family 객체 = 인스턴스\n",
        "a.introduce()\n",
        "\n",
        "b = Person() #Person 객체 = 인스턴스\n",
        "b.introduce()"
      ]
    },
    {
      "cell_type": "code",
      "source": [
        "# 부모 클래스\n",
        "class Family:\n",
        "  def introduce(self):\n",
        "    print('저희는 가족입니다.')\n",
        "# 자식 클래스\n",
        "class Person(Family):\n",
        "  def introduce(self):\n",
        "    print('저는 가족의 구성원입니다.')\n",
        "\n",
        "a = Family() #Family의 객체 = 인스턴스\n",
        "a.introduce()\n",
        "\n",
        "b = Person() #Person의 객체 = 인스턴스\n",
        "b.introduce()"
      ],
      "metadata": {
        "colab": {
          "base_uri": "https://localhost:8080/"
        },
        "id": "QT9TACXlmj9M",
        "outputId": "10b20dd1-cc62-4c2a-df88-9f9fd5dec6ea"
      },
      "execution_count": null,
      "outputs": [
        {
          "output_type": "stream",
          "name": "stdout",
          "text": [
            "저희는 가족입니다.\n",
            "저는 가족의 구성원입니다.\n"
          ]
        }
      ]
    },
    {
      "cell_type": "code",
      "source": [
        "# 해결 방법\n",
        "# 부모 클래스\n",
        "class Family:\n",
        "  def introduce(self):\n",
        "    print('저희는 가족입니다.')\n",
        "# 자식 클래스\n",
        "class Person(Family):\n",
        "  def introduce(self): \n",
        "    super().introduce() #부모클래스의 introduce 메서드를 호출할 수 있는 방법\n",
        "    print('저는 가족의 구성원입니다.')\n",
        "\n",
        "a = Family()\n",
        "a.introduce()\n",
        "\n",
        "b = Person()\n",
        "b.introduce()"
      ],
      "metadata": {
        "colab": {
          "base_uri": "https://localhost:8080/"
        },
        "id": "EKMyIJIknTWH",
        "outputId": "d2e490d9-6090-45b7-8667-0e559baf9156"
      },
      "execution_count": null,
      "outputs": [
        {
          "output_type": "stream",
          "name": "stdout",
          "text": [
            "저희는 가족입니다.\n",
            "저희는 가족입니다.\n",
            "저는 가족의 구성원입니다.\n"
          ]
        }
      ]
    },
    {
      "cell_type": "code",
      "source": [
        "# 용어정리 ===============================================================\n",
        "# 객체(object): 속성을 가질 수 있는 모든 것\n",
        "# 클래스(class): 객체를 쉽고 편리하게 생성하기 위해 만들어진 구문\n",
        "# 인스턴스(instance): 클래스를 기반으로 생성한 객체\n",
        "# 생성자(constructor): 클래스 이름과 같은 인스턴스를 생성할 때 사용하는 함수\n",
        "# 메소드(method): 클래스가 가진 함수\n",
        "#==========================================================================\n",
        "\n",
        "#===========================\n",
        "# isinstance(인스턴스,클래스) 함수\n",
        "#===========================\n",
        "class Student:\n",
        "    def __init__(self):\n",
        "        pass\n",
        "\n",
        "a = Student() #instnace 객체\n",
        "print(isinstance(a, Student))"
      ],
      "metadata": {
        "colab": {
          "base_uri": "https://localhost:8080/"
        },
        "id": "mCTj4N2GoVs1",
        "outputId": "dedcdbd8-bbb8-4541-ed71-4784f899bae0"
      },
      "execution_count": null,
      "outputs": [
        {
          "output_type": "stream",
          "name": "stdout",
          "text": [
            "True\n"
          ]
        }
      ]
    },
    {
      "cell_type": "code",
      "source": [
        "#클래스의 상속\n",
        "class Human: #부모 클래스\n",
        "  def __init__(self):\n",
        "    pass\n",
        "\n",
        "class Student(Human):\n",
        "  def __init__(self):\n",
        "    pass\n",
        "\n",
        "a = Student()\n",
        "print(isinstance(a, Human))\n",
        "print(isinstance(a, Student))"
      ],
      "metadata": {
        "colab": {
          "base_uri": "https://localhost:8080/"
        },
        "id": "m-59jmbdpLUj",
        "outputId": "7df6bfef-e60d-4a0b-ffb2-aa5005b9f134"
      },
      "execution_count": null,
      "outputs": [
        {
          "output_type": "stream",
          "name": "stdout",
          "text": [
            "True\n",
            "True\n"
          ]
        }
      ]
    },
    {
      "cell_type": "code",
      "source": [
        "#예제\n",
        "class Student:\n",
        "  def study(self):\n",
        "    print('공부를 합니다.')\n",
        "\n",
        "class Teacher:\n",
        "  def teach(self):\n",
        "    print('학생을 가르칩니다.')\n",
        "\n",
        "classroom = [Student(), Student(), Teacher()] #객체(인스턴스)를 모아놓은 리스트\n",
        "\n",
        "for person in classroom:\n",
        "  if isinstance(person, Student):\n",
        "    person.study()\n",
        "  elif isinstance(person, Teacher):\n",
        "    person.teach()"
      ],
      "metadata": {
        "colab": {
          "base_uri": "https://localhost:8080/"
        },
        "id": "cQPgIQTFpZGT",
        "outputId": "192d20c0-40a0-4014-87ff-164ec80628a6"
      },
      "execution_count": null,
      "outputs": [
        {
          "output_type": "stream",
          "name": "stdout",
          "text": [
            "공부를 합니다.\n",
            "공부를 합니다.\n",
            "학생을 가르칩니다.\n"
          ]
        }
      ]
    },
    {
      "cell_type": "code",
      "source": [
        "a = 1\n",
        "print(type(a))\n",
        "\n",
        "print(isinstance(1, int))"
      ],
      "metadata": {
        "colab": {
          "base_uri": "https://localhost:8080/"
        },
        "id": "P7-LtV60qJeV",
        "outputId": "c6bf85f4-3c34-4a2a-b6fb-3c06c309dadb"
      },
      "execution_count": null,
      "outputs": [
        {
          "output_type": "stream",
          "name": "stdout",
          "text": [
            "<class 'int'>\n",
            "True\n"
          ]
        }
      ]
    },
    {
      "cell_type": "code",
      "source": [
        "#isinstance는 주로 객체의 자료횽을 판단할 때 사용\n",
        "def factorial(n):\n",
        "  if not isinstance(n, int) or n < 0:\n",
        "    return None\n",
        "\n",
        "\n",
        "  if n == 1:\n",
        "    return 1\n",
        "  \n",
        "  return n*factorial(n-1)"
      ],
      "metadata": {
        "id": "ridZiHsJqu6M"
      },
      "execution_count": null,
      "outputs": []
    },
    {
      "cell_type": "code",
      "source": [
        "# __이름__() 함수: 특수한 상황에 자동으로 호출\n",
        "class Student:\n",
        "  def __init__(self, name, korean, math, english, science):\n",
        "    self.name = name\n",
        "    self.korean = korean\n",
        "    self.math = math\n",
        "    self.english = english\n",
        "    self.science = science\n",
        "\n",
        "  def get_sum(self):\n",
        "    return sum([self.korean, self.math, self.english, self.science])\n",
        "  \n",
        "  def get_average(self):\n",
        "    return self.get_sum()/4\n",
        "  \n",
        "  def to_string(self):\n",
        "    return f'{self.name}\\t{self.get_sum()}\\t{self.get_average()}'\n",
        "\n",
        "students = [Student('홍길동', 90, 87, 92, 88), Student('가나다', 100, 84, 89, 95)]\n",
        "\n",
        "# 실행\n",
        "print('이름', '총점', '평균', sep = '\\t') #마지막 것이 없으면 쭉 붙어서 출력됨\n",
        "#print('이름\\t총점\\t평균')\n",
        "\n",
        "for person in students:\n",
        "  print(person.to_string())"
      ],
      "metadata": {
        "colab": {
          "base_uri": "https://localhost:8080/"
        },
        "id": "kWZRe0KTrvvE",
        "outputId": "44ba3554-ef91-45f3-e0e4-ac1ede84cc0f"
      },
      "execution_count": null,
      "outputs": [
        {
          "output_type": "stream",
          "name": "stdout",
          "text": [
            "이름\t총점\t평균\n",
            "홍길동\t357\t89.25\n",
            "가나다\t368\t92.0\n"
          ]
        }
      ]
    },
    {
      "cell_type": "code",
      "source": [
        "# __이름__() 함수: 특수한 상황에 자동으로 호출\n",
        "class Student:\n",
        "  def __init__(self, name, korean, math, english, science):\n",
        "    self.name = name\n",
        "    self.korean = korean\n",
        "    self.math = math\n",
        "    self.english = english\n",
        "    self.science = science\n",
        "\n",
        "  def get_sum(self):\n",
        "    return sum([self.korean, self.math, self.english, self.science])\n",
        "  \n",
        "  def get_average(self):\n",
        "    return self.get_sum()/4\n",
        "  \n",
        "  def __str__(self):\n",
        "    return f'{self.name}\\t{self.get_sum()}\\t{self.get_average()}'\n",
        "\n",
        "students = [Student('홍길동', 90, 87, 92, 88), Student('가나다', 100, 84, 89, 95)]\n",
        "\n",
        "# 실행\n",
        "print('이름', '총점', '평균', sep = '\\t') #마지막 것이 없으면 쭉 붙어서 출력됨\n",
        "#print('이름\\t총점\\t평균')\n",
        "\n",
        "for person in students:\n",
        "  print(str(person))"
      ],
      "metadata": {
        "colab": {
          "base_uri": "https://localhost:8080/"
        },
        "id": "ZLubo0s8s83s",
        "outputId": "2d2958cb-12e3-45fa-8def-1cf73c243d73"
      },
      "execution_count": null,
      "outputs": [
        {
          "output_type": "stream",
          "name": "stdout",
          "text": [
            "이름\t총점\t평균\n",
            "홍길동\t357\t89.25\n",
            "가나다\t368\t92.0\n"
          ]
        }
      ]
    },
    {
      "cell_type": "code",
      "source": [
        "# 클래스 변수(클래스 안에 들어있는 변수)  vs 인스턴스 변수(객체가 바뀌면 변수도 변함) =================================\n",
        "class Student:\n",
        "  count = 0 #클래스 변수\n",
        "\n",
        "  def __init__(self, name, korean, math, english, science):\n",
        "   self.name = name\n",
        "   self.korean = korean\n",
        "   self.math = math\n",
        "   self.english = english\n",
        "   self.science = science\n",
        "   #클래스 변수 설정 -> 호출 시 클래스이름, 변수이름 사용\n",
        "   Student.count += 1\n",
        "\n",
        "students = [Student('홍길동', 90, 87, 92, 88), Student('가나다', 100, 84, 89, 95)] #객체\n",
        "\n",
        "print(Student.count)"
      ],
      "metadata": {
        "colab": {
          "base_uri": "https://localhost:8080/"
        },
        "id": "TFEgnByPuREj",
        "outputId": "db759b4d-df50-47a2-bb99-a3dffefefdf9"
      },
      "execution_count": null,
      "outputs": [
        {
          "output_type": "stream",
          "name": "stdout",
          "text": [
            "2\n"
          ]
        }
      ]
    },
    {
      "cell_type": "code",
      "source": [
        "## 클래스메서드(클래스함수) ====================================================\n",
        "## @classmethod : 데코레이터(Decorator)\n",
        "# class 클래스 이름:\n",
        "# #    @classmethod\n",
        "#     def 클래스함수(cls, 매개변수);\n",
        "#           pass\n",
        "# => 호출시: 클래스이름.함수이름(매개변수)\n",
        "\n",
        "class Student:\n",
        "\n",
        "    # 클래스 변수 \n",
        "    count = 0\n",
        "\n",
        "    # 클래스 메서드/함수\n",
        "    @classmethod\n",
        "    def print(cls):\n",
        "\n",
        "    # 인스턴스 메서드/함수\n",
        "    def __init__(self, name, korean, math, english, science):\n",
        "        self.name = name\n",
        "        self.korean = korean\n",
        "        self.math = math\n",
        "        self.english = english\n",
        "        self.science = science"
      ],
      "metadata": {
        "id": "pJ6_uTijvzA7"
      },
      "execution_count": null,
      "outputs": []
    }
  ]
}