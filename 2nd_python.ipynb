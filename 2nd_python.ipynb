{
  "nbformat": 4,
  "nbformat_minor": 0,
  "metadata": {
    "colab": {
      "provenance": [],
      "collapsed_sections": [],
      "authorship_tag": "ABX9TyNasaeUFpb+xRPQSp/ngJoF",
      "include_colab_link": true
    },
    "kernelspec": {
      "name": "python3",
      "display_name": "Python 3"
    },
    "language_info": {
      "name": "python"
    }
  },
  "cells": [
    {
      "cell_type": "markdown",
      "metadata": {
        "id": "view-in-github",
        "colab_type": "text"
      },
      "source": [
        "<a href=\"https://colab.research.google.com/github/gundaminpde/2022/blob/main/2nd_python.ipynb\" target=\"_parent\"><img src=\"https://colab.research.google.com/assets/colab-badge.svg\" alt=\"Open In Colab\"/></a>"
      ]
    },
    {
      "cell_type": "code",
      "source": [
        "sample=[5,24,5,'ddd']\n",
        "\n",
        "print(sample)\n",
        "\n",
        "print(type(sample))\n",
        "\n",
        "print(sample[0])\n",
        "\n",
        "print(sample[2:])\n",
        "print(sample[:3])\n",
        "\n",
        "print(sample[-1])\n",
        "print(sample[-2])\n",
        "\n",
        "print(len(sample))\n"
      ],
      "metadata": {
        "colab": {
          "base_uri": "https://localhost:8080/"
        },
        "id": "M4JvNXan4r_Y",
        "outputId": "07feac4e-3944-4711-ccaa-cd4637c47388"
      },
      "execution_count": 21,
      "outputs": [
        {
          "output_type": "stream",
          "name": "stdout",
          "text": [
            "[5, 24, 5, 'ddd']\n",
            "<class 'list'>\n",
            "5\n",
            "[5, 'ddd']\n",
            "[5, 24, 5]\n",
            "ddd\n",
            "5\n",
            "4\n"
          ]
        }
      ]
    },
    {
      "cell_type": "code",
      "source": [
        "basket = ['a','aa','aaa']\n",
        "\n",
        "for x in basket:\n",
        "  print(x,\", a가 모두\" ,len(x),\"개\")\n",
        "  for y in basket:\n",
        "    print(x,'와',y, ',a가 모두', len(x)+len(y))"
      ],
      "metadata": {
        "colab": {
          "base_uri": "https://localhost:8080/"
        },
        "id": "z-cAGCx-BuU6",
        "outputId": "3b8f6d46-2f10-4222-9357-4b77a8a1b7dd"
      },
      "execution_count": 27,
      "outputs": [
        {
          "output_type": "stream",
          "name": "stdout",
          "text": [
            "a , a가 모두 1 개\n",
            "a 와 a ,a가 모두 2\n",
            "a 와 aa ,a가 모두 3\n",
            "a 와 aaa ,a가 모두 4\n",
            "aa , a가 모두 2 개\n",
            "aa 와 a ,a가 모두 3\n",
            "aa 와 aa ,a가 모두 4\n",
            "aa 와 aaa ,a가 모두 5\n",
            "aaa , a가 모두 3 개\n",
            "aaa 와 a ,a가 모두 4\n",
            "aaa 와 aa ,a가 모두 5\n",
            "aaa 와 aaa ,a가 모두 6\n"
          ]
        }
      ]
    },
    {
      "cell_type": "code",
      "source": [
        "s = 'DaDsasdfAAAghj'\n",
        "\n",
        "print(s[0])\n",
        "print(s[3])\n",
        "print(s[-3])\n",
        "\n",
        "changed_s=str()\n",
        "\n",
        "for x in s:\n",
        "  if x.islower():\n",
        "    changed_s+=x.upper()\n",
        "  else:\n",
        "    changed_s+=x.lower()\n",
        "\n",
        "print(changed_s)\n",
        "\n",
        "print(s)\n",
        "\n",
        "print(s.swapcase())"
      ],
      "metadata": {
        "colab": {
          "base_uri": "https://localhost:8080/"
        },
        "id": "efP97JUVTnu0",
        "outputId": "c23cde60-4c9e-44ff-de40-425e8f4e0cc4"
      },
      "execution_count": 33,
      "outputs": [
        {
          "output_type": "stream",
          "name": "stdout",
          "text": [
            "D\n",
            "s\n",
            "g\n",
            "dAdSASDFaaaGHJ\n",
            "DaDsasdfAAAghj\n",
            "dAdSASDFaaaGHJ\n"
          ]
        }
      ]
    },
    {
      "cell_type": "code",
      "source": [
        "aaa=input(\"알파벳만 입력해라.\")\n",
        "\n",
        "\n",
        "if not aaa.isalpha():\n",
        "    print(\"내 말 좀 들어라\")\n",
        "else:\n",
        "    print(\"잘했어.\")\n"
      ],
      "metadata": {
        "colab": {
          "base_uri": "https://localhost:8080/"
        },
        "id": "GAqxpCudWQWJ",
        "outputId": "7e41c0c7-a38f-4f17-890f-c1d8ff5189fb"
      },
      "execution_count": 34,
      "outputs": [
        {
          "output_type": "stream",
          "name": "stdout",
          "text": [
            "알파벳만 입력해라.123\n",
            "내 말 좀 들어라\n"
          ]
        }
      ]
    },
    {
      "cell_type": "code",
      "source": [
        "## 우영우, 역삼역 같은 대칭문 확인하기\n",
        "\n",
        "txt= input(\"입력해보시라. \\n\")\n",
        "\n",
        "modified_1 = txt.replace(' ','')\n",
        "\n",
        "reversed_1=str()\n",
        "\n",
        "indx=len(modified_1)-1\n",
        "\n",
        "while indx >=0:\n",
        "  reversed_1 +=modified_1[indx]\n",
        "  ##print(reversed_1)\n",
        "  indx -= 1\n",
        "\n",
        "if modified_1 == reversed_1:\n",
        "  print(\"이것은 대칭문\")\n",
        "else:\n",
        "  print(\"대칭문이 아니다.\")"
      ],
      "metadata": {
        "colab": {
          "base_uri": "https://localhost:8080/"
        },
        "id": "NebuMRasW9Gd",
        "outputId": "07d90b88-ad75-447b-e570-967571449db7"
      },
      "execution_count": 44,
      "outputs": [
        {
          "output_type": "stream",
          "name": "stdout",
          "text": [
            "입력해보시라. \n",
            "살모사\n",
            "대칭문이 아니다.\n"
          ]
        }
      ]
    },
    {
      "cell_type": "code",
      "source": [
        "aaa=[12,6,3,4,5,34,6,6,5]\n",
        "\n",
        "print(aaa[1:5])\n",
        "\n",
        "aaa.append(20)\n",
        "print(aaa)\n",
        "\n",
        "aaa+=[30]\n",
        "print(aaa)\n",
        "\n",
        "bbb=aaa\n",
        "print(bbb)\n",
        "\n",
        "del bbb[2:8]\n",
        "print(bbb)\n",
        "print(aaa)\n",
        "\n",
        "aaa=aaa+[2,3]\n",
        "print(aaa)"
      ],
      "metadata": {
        "colab": {
          "base_uri": "https://localhost:8080/"
        },
        "id": "W1IGTWeRTnkx",
        "outputId": "dd8a8dcd-068a-4f62-dbb3-2ca17ecdce76"
      },
      "execution_count": 52,
      "outputs": [
        {
          "output_type": "stream",
          "name": "stdout",
          "text": [
            "[6, 3, 4, 5]\n",
            "[12, 6, 3, 4, 5, 34, 6, 6, 5, 20]\n",
            "[12, 6, 3, 4, 5, 34, 6, 6, 5, 20, 30]\n",
            "[12, 6, 3, 4, 5, 34, 6, 6, 5, 20, 30]\n",
            "[12, 6, 5, 20, 30]\n",
            "[12, 6, 5, 20, 30]\n",
            "[12, 6, 5, 20, 30, 2, 3]\n"
          ]
        }
      ]
    },
    {
      "cell_type": "code",
      "source": [
        "ccc= [[1,2,3],[2,2,3],[1,1]]\n",
        "\n",
        "print(ccc)\n",
        "\n",
        "\n",
        "threeby3= [[1,2,3],[2,2,3],[1,1,2]]\n",
        "\n",
        "print(threeby3)\n",
        "\n",
        "ccc[1][0]\n",
        "\n",
        "empty=[]\n",
        "\n",
        "empty2=list()\n",
        "\n",
        "print(empty)\n",
        "print(empty2)\n"
      ],
      "metadata": {
        "colab": {
          "base_uri": "https://localhost:8080/"
        },
        "id": "vcretpEJdFD2",
        "outputId": "fa7b8554-14fa-4278-a1a8-32ecc2476fb5"
      },
      "execution_count": 59,
      "outputs": [
        {
          "output_type": "stream",
          "name": "stdout",
          "text": [
            "[[1, 2, 3], [2, 2, 3], [1, 1]]\n",
            "[[1, 2, 3], [2, 2, 3], [1, 1, 2]]\n",
            "[]\n",
            "[]\n"
          ]
        }
      ]
    },
    {
      "cell_type": "code",
      "execution_count": 61,
      "metadata": {
        "colab": {
          "base_uri": "https://localhost:8080/"
        },
        "id": "meX59YIhRu5Y",
        "outputId": "e18173de-928b-49e8-afd5-a7f5b57d576c"
      },
      "outputs": [
        {
          "output_type": "stream",
          "name": "stdout",
          "text": [
            "[[1 2 3]\n",
            " [4 5 6]\n",
            " [7 8 9]]\n",
            "[[1]\n",
            " [4]\n",
            " [7]]\n",
            "3\n",
            "행렬크기 (3, 1)\n",
            "행렬곱 AX =  [[ 30]\n",
            " [ 66]\n",
            " [102]]\n",
            "matmul 사용\n",
            "[[ 30]\n",
            " [ 66]\n",
            " [102]]\n",
            "dot 사용\n",
            "[[ 30]\n",
            " [ 66]\n",
            " [102]]\n",
            "[[ 2  3  4]\n",
            " [ 8  9 10]\n",
            " [14 15 16]]\n"
          ]
        }
      ],
      "source": [
        "## 행렬\n",
        "\n",
        "import numpy as np\n",
        "\n",
        "A = np.array([[1,2,3],[4,5,6],[7,8,9]])\n",
        "\n",
        "X = np.array([[1],[4],[7]])\n",
        "\n",
        "print(A)\n",
        "print(X)\n",
        "print(len(A))\n",
        "print(\"행렬크기\", np.shape(X))\n",
        "\n",
        "print('행렬곱 AX = ', A@X)\n",
        "\n",
        "print('matmul 사용',np.matmul(A, X), sep ='\\n')\n",
        "\n",
        "print('dot 사용',np.dot(A, X), sep ='\\n')\n",
        "print(A+X)\n"
      ]
    },
    {
      "cell_type": "code",
      "source": [
        "## 행렬\n",
        "\n",
        "import numpy as np\n",
        "\n",
        "A = np.array([[1,2,3],[4,5,6],[7,8,9]])\n",
        "X = np.array([[1],[4],[7]])\n",
        "Y = np.array([[2,3,5],[1,0,1],[-1,3,5]])\n",
        "\n",
        "print(\"행렬 A 크기 =\", np.shape(A))\n",
        "print(\"행렬 Y 크기 =\", np.shape(Y))\n",
        "print(\"행렬 X 크기 =\", np.shape(X))\n",
        "print(\"행렬 A =\", A, sep='\\n')\n",
        "print(\"행렬 Y =\", Y, sep='\\n')\n",
        "print(\"행렬 X =\", X, sep='\\n')\n",
        "\n",
        "print('A+Y =',A+Y, sep='\\n')\n",
        "print('A*Y =',A*Y, sep='\\n')\n",
        "\n",
        "print('A+X =',A+Y, sep='\\n') # Numpy Broadcasting\n",
        "print('A*X =',A*Y, sep='\\n')"
      ],
      "metadata": {
        "colab": {
          "base_uri": "https://localhost:8080/"
        },
        "id": "LOWE0YN-fvyc",
        "outputId": "fedc70b0-82ab-4cd7-c942-fb3c18f2dabd"
      },
      "execution_count": 33,
      "outputs": [
        {
          "output_type": "stream",
          "name": "stdout",
          "text": [
            "행렬 A 크기 = (3, 3)\n",
            "행렬 Y 크기 = (3, 3)\n",
            "행렬 X 크기 = (3, 1)\n",
            "행렬 A =\n",
            "[[1 2 3]\n",
            " [4 5 6]\n",
            " [7 8 9]]\n",
            "행렬 Y =\n",
            "[[ 2  3  5]\n",
            " [ 1  0  1]\n",
            " [-1  3  5]]\n",
            "행렬 X =\n",
            "[[1]\n",
            " [4]\n",
            " [7]]\n",
            "A+Y =\n",
            "[[ 3  5  8]\n",
            " [ 5  5  7]\n",
            " [ 6 11 14]]\n",
            "A*Y =\n",
            "[[ 2  6 15]\n",
            " [ 4  0  6]\n",
            " [-7 24 45]]\n",
            "A+X =\n",
            "[[ 3  5  8]\n",
            " [ 5  5  7]\n",
            " [ 6 11 14]]\n",
            "A*X =\n",
            "[[ 2  6 15]\n",
            " [ 4  0  6]\n",
            " [-7 24 45]]\n"
          ]
        }
      ]
    },
    {
      "cell_type": "code",
      "source": [
        "aaa=tuple()\n",
        "aaa=1,2,3,4\n",
        "print(aaa)\n",
        "aaa=5,6,7,8\n",
        "print(aaa)\n",
        "bbb=()\n",
        "print(bbb)\n",
        "aaa[2]=100\n"
      ],
      "metadata": {
        "colab": {
          "base_uri": "https://localhost:8080/",
          "height": 258
        },
        "id": "AIUVbE_v7Ocm",
        "outputId": "452cf66b-94d5-481d-9c85-944fa2acb7fa"
      },
      "execution_count": 62,
      "outputs": [
        {
          "output_type": "stream",
          "name": "stdout",
          "text": [
            "(1, 2, 3, 4)\n",
            "(5, 6, 7, 8)\n",
            "()\n"
          ]
        },
        {
          "output_type": "error",
          "ename": "TypeError",
          "evalue": "ignored",
          "traceback": [
            "\u001b[0;31m---------------------------------------------------------------------------\u001b[0m",
            "\u001b[0;31mTypeError\u001b[0m                                 Traceback (most recent call last)",
            "\u001b[0;32m<ipython-input-62-e9eedd51e8f6>\u001b[0m in \u001b[0;36m<module>\u001b[0;34m\u001b[0m\n\u001b[1;32m      6\u001b[0m \u001b[0mbbb\u001b[0m\u001b[0;34m=\u001b[0m\u001b[0;34m(\u001b[0m\u001b[0;34m)\u001b[0m\u001b[0;34m\u001b[0m\u001b[0;34m\u001b[0m\u001b[0m\n\u001b[1;32m      7\u001b[0m \u001b[0mprint\u001b[0m\u001b[0;34m(\u001b[0m\u001b[0mbbb\u001b[0m\u001b[0;34m)\u001b[0m\u001b[0;34m\u001b[0m\u001b[0;34m\u001b[0m\u001b[0m\n\u001b[0;32m----> 8\u001b[0;31m \u001b[0maaa\u001b[0m\u001b[0;34m[\u001b[0m\u001b[0;36m2\u001b[0m\u001b[0;34m]\u001b[0m\u001b[0;34m=\u001b[0m\u001b[0;36m100\u001b[0m\u001b[0;34m\u001b[0m\u001b[0;34m\u001b[0m\u001b[0m\n\u001b[0m",
            "\u001b[0;31mTypeError\u001b[0m: 'tuple' object does not support item assignment"
          ]
        }
      ]
    },
    {
      "cell_type": "code",
      "source": [
        "## string도 마찬가지\n",
        "\n",
        "prince='바다의 왕자 박명수'\n",
        "\n",
        "print(prince[2])\n",
        "\n",
        "print[2]='에'"
      ],
      "metadata": {
        "colab": {
          "base_uri": "https://localhost:8080/",
          "height": 222
        },
        "id": "wJHoiQ6tftLy",
        "outputId": "35c656cb-ecab-4216-873e-f64110e17dec"
      },
      "execution_count": 64,
      "outputs": [
        {
          "output_type": "stream",
          "name": "stdout",
          "text": [
            "의\n"
          ]
        },
        {
          "output_type": "error",
          "ename": "TypeError",
          "evalue": "ignored",
          "traceback": [
            "\u001b[0;31m---------------------------------------------------------------------------\u001b[0m",
            "\u001b[0;31mTypeError\u001b[0m                                 Traceback (most recent call last)",
            "\u001b[0;32m<ipython-input-64-9bada1b80515>\u001b[0m in \u001b[0;36m<module>\u001b[0;34m\u001b[0m\n\u001b[1;32m      3\u001b[0m \u001b[0mprint\u001b[0m\u001b[0;34m(\u001b[0m\u001b[0mprince\u001b[0m\u001b[0;34m[\u001b[0m\u001b[0;36m2\u001b[0m\u001b[0;34m]\u001b[0m\u001b[0;34m)\u001b[0m\u001b[0;34m\u001b[0m\u001b[0;34m\u001b[0m\u001b[0m\n\u001b[1;32m      4\u001b[0m \u001b[0;34m\u001b[0m\u001b[0m\n\u001b[0;32m----> 5\u001b[0;31m \u001b[0mprint\u001b[0m\u001b[0;34m[\u001b[0m\u001b[0;36m2\u001b[0m\u001b[0;34m]\u001b[0m\u001b[0;34m=\u001b[0m\u001b[0;34m'에'\u001b[0m\u001b[0;34m\u001b[0m\u001b[0;34m\u001b[0m\u001b[0m\n\u001b[0m",
            "\u001b[0;31mTypeError\u001b[0m: 'builtin_function_or_method' object does not support item assignment"
          ]
        }
      ]
    },
    {
      "cell_type": "code",
      "source": [
        "### unpacking\n",
        "\n",
        "aaa = '바', '다', '에', '왕', '자'\n",
        "q,w,r,t,y=aaa\n",
        "print(w)\n",
        "\n",
        "## 리스트도 가능\n",
        "\n",
        "bbb=[1,2,3,4]\n",
        "x,y,z,w = bbb \n",
        "print(x)\n",
        "\n",
        "## x,y,z,w,l = bbb "
      ],
      "metadata": {
        "colab": {
          "base_uri": "https://localhost:8080/"
        },
        "id": "mTG1Ns3B8pOz",
        "outputId": "127bd636-03cc-471e-aea4-59a6ecd17147"
      },
      "execution_count": 68,
      "outputs": [
        {
          "output_type": "stream",
          "name": "stdout",
          "text": [
            "다\n",
            "1\n"
          ]
        }
      ]
    },
    {
      "cell_type": "code",
      "source": [
        "# 진짜 공집합 만들기\n",
        "\n",
        "empty_set = set()\n",
        "empty_set"
      ],
      "metadata": {
        "id": "ThvYdlQMg0Gk"
      },
      "execution_count": null,
      "outputs": []
    },
    {
      "cell_type": "code",
      "source": [
        "A_set = {'aaaabbbcccc'}\n",
        "\n",
        "print(A_set)\n",
        "\n",
        "Another_set =set('aaaabbbcccc')\n",
        "\n",
        "print(Another_set)\n",
        "\n",
        "print('b' in Another_set)\n",
        "\n",
        "other_set=set(\"weshyijkxfcgv\")\n",
        "\n",
        "print(Another_set | other_set)\n",
        "\n",
        "print(Another_set & other_set)\n",
        "\n",
        "print(Another_set ^ other_set)\n",
        "\n",
        "thing1 = {}\n",
        "print(type(thing1))\n",
        "\n",
        "thing2 = set()\n",
        "print(type(thing2))"
      ],
      "metadata": {
        "colab": {
          "base_uri": "https://localhost:8080/"
        },
        "id": "fPvCc2guhZTi",
        "outputId": "e9b7afb5-e986-4094-a04e-ea5105160b5b"
      },
      "execution_count": 79,
      "outputs": [
        {
          "output_type": "stream",
          "name": "stdout",
          "text": [
            "{'aaaabbbcccc'}\n",
            "{'a', 'c', 'b'}\n",
            "True\n",
            "{'b', 'e', 'i', 's', 'k', 'x', 'v', 'g', 'y', 'a', 'j', 'c', 'w', 'f', 'h'}\n",
            "{'c'}\n",
            "{'e', 'i', 's', 'k', 'b', 'x', 'a', 'j', 'v', 'g', 'w', 'f', 'y', 'h'}\n",
            "<class 'dict'>\n",
            "<class 'set'>\n"
          ]
        }
      ]
    },
    {
      "cell_type": "code",
      "source": [
        "### Dictionary \n",
        "\n",
        "Ex_dic = {\"영어\":10, \"수학\":20, \"국어\":'F'}\n",
        "\n",
        "print(type(Ex_dic))\n",
        "\n",
        "print(Ex_dic[\"수학\"])\n",
        "\n",
        "print(len(Ex_dic))\n",
        "\n",
        "print(Ex_dic.keys())\n",
        "\n",
        "print(Ex_dic.values())\n",
        "\n",
        "print('국어' in Ex_dic)\n",
        "\n",
        "print('체육' in Ex_dic)\n"
      ],
      "metadata": {
        "colab": {
          "base_uri": "https://localhost:8080/"
        },
        "id": "Q1qzkpDDk0fh",
        "outputId": "0e4d3e19-d2be-492b-d8a7-393b9b8403f2"
      },
      "execution_count": 83,
      "outputs": [
        {
          "output_type": "stream",
          "name": "stdout",
          "text": [
            "<class 'dict'>\n",
            "20\n",
            "3\n",
            "dict_keys(['영어', '수학', '국어'])\n",
            "dict_values([10, 20, 'F'])\n",
            "True\n",
            "False\n"
          ]
        }
      ]
    }
  ]
}