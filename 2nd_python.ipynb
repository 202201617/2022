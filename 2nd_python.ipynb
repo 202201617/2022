{
  "nbformat": 4,
  "nbformat_minor": 0,
  "metadata": {
    "colab": {
      "provenance": [],
      "authorship_tag": "ABX9TyMqkt4NeDHSBcaG2ElLHFbB",
      "include_colab_link": true
    },
    "kernelspec": {
      "name": "python3",
      "display_name": "Python 3"
    },
    "language_info": {
      "name": "python"
    }
  },
  "cells": [
    {
      "cell_type": "markdown",
      "metadata": {
        "id": "view-in-github",
        "colab_type": "text"
      },
      "source": [
        "<a href=\"https://colab.research.google.com/github/gundaminpde/2022/blob/main/2nd_python.ipynb\" target=\"_parent\"><img src=\"https://colab.research.google.com/assets/colab-badge.svg\" alt=\"Open In Colab\"/></a>"
      ]
    },
    {
      "cell_type": "code",
      "source": [
        "sample=[5,24,5,'ddd']\n",
        "\n",
        "print(sample)\n",
        "\n",
        "print(type(sample))\n",
        "\n",
        "print(sample[0])\n",
        "\n",
        "print(sample[2:])\n",
        "print(sample[:3])\n",
        "\n",
        "print(sample[-1])\n",
        "print(sample[-2])\n",
        "\n",
        "print(len(sample))\n"
      ],
      "metadata": {
        "colab": {
          "base_uri": "https://localhost:8080/"
        },
        "id": "M4JvNXan4r_Y",
        "outputId": "07feac4e-3944-4711-ccaa-cd4637c47388"
      },
      "execution_count": 21,
      "outputs": [
        {
          "output_type": "stream",
          "name": "stdout",
          "text": [
            "[5, 24, 5, 'ddd']\n",
            "<class 'list'>\n",
            "5\n",
            "[5, 'ddd']\n",
            "[5, 24, 5]\n",
            "ddd\n",
            "5\n",
            "4\n"
          ]
        }
      ]
    },
    {
      "cell_type": "code",
      "source": [
        "basket = ['a','aa','aaa']\n",
        "\n",
        "for x in basket:\n",
        "  print(x,\", a가 모두\" ,len(x),\"개\")"
      ],
      "metadata": {
        "colab": {
          "base_uri": "https://localhost:8080/"
        },
        "id": "z-cAGCx-BuU6",
        "outputId": "60645b9b-dbd7-4bea-ed5a-1595e9b66172"
      },
      "execution_count": 24,
      "outputs": [
        {
          "output_type": "stream",
          "name": "stdout",
          "text": [
            "a , a가 모두 1 개\n",
            "aa , a가 모두 2 개\n",
            "aaa , a가 모두 3 개\n"
          ]
        }
      ]
    },
    {
      "cell_type": "code",
      "execution_count": 25,
      "metadata": {
        "colab": {
          "base_uri": "https://localhost:8080/"
        },
        "id": "meX59YIhRu5Y",
        "outputId": "a8f23bde-4bc1-4c71-c7c5-81f8441ccb0e"
      },
      "outputs": [
        {
          "output_type": "stream",
          "name": "stdout",
          "text": [
            "[[1 2 3]\n",
            " [4 5 6]\n",
            " [7 8 9]]\n",
            "[[1]\n",
            " [4]\n",
            " [7]]\n",
            "3\n",
            "행렬크기 (3, 1)\n",
            "행렬곱 AX =  [[ 30]\n",
            " [ 66]\n",
            " [102]]\n",
            "matmul 사용\n",
            "[[ 30]\n",
            " [ 66]\n",
            " [102]]\n"
          ]
        }
      ],
      "source": [
        "## 행렬\n",
        "\n",
        "import numpy as np\n",
        "\n",
        "A = np.array([[1,2,3],[4,5,6],[7,8,9]])\n",
        "\n",
        "X = np.array([[1],[4],[7]])\n",
        "\n",
        "print(A)\n",
        "print(X)\n",
        "print(len(A))\n",
        "print(\"행렬크기\", np.shape(X))\n",
        "\n",
        "print('행렬곱 AX = ', A@X)\n",
        "\n",
        "print('matmul 사용',np.matmul(A, X), sep ='\\n')\n",
        "\n",
        "\n",
        "\n"
      ]
    },
    {
      "cell_type": "code",
      "source": [
        "## 행렬\n",
        "\n",
        "import numpy as np\n",
        "\n",
        "A = np.array([[1,2,3],[4,5,6],[7,8,9]])\n",
        "X = np.array([[1],[4],[7]])\n",
        "Y = np.array([[2,3,5],[1,0,1],[-1,3,5]])\n",
        "\n",
        "print(\"행렬 A 크기 =\", np.shape(A))\n",
        "print(\"행렬 Y 크기 =\", np.shape(Y))\n",
        "print(\"행렬 X 크기 =\", np.shape(X))\n",
        "print(\"행렬 A =\", A, sep='\\n')\n",
        "print(\"행렬 Y =\", Y, sep='\\n')\n",
        "print(\"행렬 X =\", X, sep='\\n')\n",
        "\n",
        "print('A+Y =',A+Y, sep='\\n')\n",
        "print('A*Y =',A*Y, sep='\\n')\n",
        "\n",
        "print('A+X =',A+Y, sep='\\n') # Numpy Broadcasting\n",
        "print('A*X =',A*Y, sep='\\n')"
      ],
      "metadata": {
        "colab": {
          "base_uri": "https://localhost:8080/"
        },
        "id": "LOWE0YN-fvyc",
        "outputId": "fedc70b0-82ab-4cd7-c942-fb3c18f2dabd"
      },
      "execution_count": 33,
      "outputs": [
        {
          "output_type": "stream",
          "name": "stdout",
          "text": [
            "행렬 A 크기 = (3, 3)\n",
            "행렬 Y 크기 = (3, 3)\n",
            "행렬 X 크기 = (3, 1)\n",
            "행렬 A =\n",
            "[[1 2 3]\n",
            " [4 5 6]\n",
            " [7 8 9]]\n",
            "행렬 Y =\n",
            "[[ 2  3  5]\n",
            " [ 1  0  1]\n",
            " [-1  3  5]]\n",
            "행렬 X =\n",
            "[[1]\n",
            " [4]\n",
            " [7]]\n",
            "A+Y =\n",
            "[[ 3  5  8]\n",
            " [ 5  5  7]\n",
            " [ 6 11 14]]\n",
            "A*Y =\n",
            "[[ 2  6 15]\n",
            " [ 4  0  6]\n",
            " [-7 24 45]]\n",
            "A+X =\n",
            "[[ 3  5  8]\n",
            " [ 5  5  7]\n",
            " [ 6 11 14]]\n",
            "A*X =\n",
            "[[ 2  6 15]\n",
            " [ 4  0  6]\n",
            " [-7 24 45]]\n"
          ]
        }
      ]
    },
    {
      "cell_type": "code",
      "source": [
        "aaa=tuple()\n",
        "aaa=1,2,3,4\n",
        "print(aaa)\n",
        "aaa=5,6,7,8\n",
        "print(aaa)\n",
        "aaa[2]=100\n"
      ],
      "metadata": {
        "colab": {
          "base_uri": "https://localhost:8080/",
          "height": 240
        },
        "id": "AIUVbE_v7Ocm",
        "outputId": "9ed0b036-4004-4dad-90d4-bbc85121d4d5"
      },
      "execution_count": 39,
      "outputs": [
        {
          "output_type": "stream",
          "name": "stdout",
          "text": [
            "(1, 2, 3, 4)\n",
            "(5, 6, 7, 8)\n"
          ]
        },
        {
          "output_type": "error",
          "ename": "TypeError",
          "evalue": "ignored",
          "traceback": [
            "\u001b[0;31m---------------------------------------------------------------------------\u001b[0m",
            "\u001b[0;31mTypeError\u001b[0m                                 Traceback (most recent call last)",
            "\u001b[0;32m<ipython-input-39-0db5c4a9a973>\u001b[0m in \u001b[0;36m<module>\u001b[0;34m\u001b[0m\n\u001b[1;32m      4\u001b[0m \u001b[0maaa\u001b[0m\u001b[0;34m=\u001b[0m\u001b[0;36m5\u001b[0m\u001b[0;34m,\u001b[0m\u001b[0;36m6\u001b[0m\u001b[0;34m,\u001b[0m\u001b[0;36m7\u001b[0m\u001b[0;34m,\u001b[0m\u001b[0;36m8\u001b[0m\u001b[0;34m\u001b[0m\u001b[0;34m\u001b[0m\u001b[0m\n\u001b[1;32m      5\u001b[0m \u001b[0mprint\u001b[0m\u001b[0;34m(\u001b[0m\u001b[0maaa\u001b[0m\u001b[0;34m)\u001b[0m\u001b[0;34m\u001b[0m\u001b[0;34m\u001b[0m\u001b[0m\n\u001b[0;32m----> 6\u001b[0;31m \u001b[0maaa\u001b[0m\u001b[0;34m[\u001b[0m\u001b[0;36m2\u001b[0m\u001b[0;34m]\u001b[0m\u001b[0;34m=\u001b[0m\u001b[0;36m100\u001b[0m\u001b[0;34m\u001b[0m\u001b[0;34m\u001b[0m\u001b[0m\n\u001b[0m",
            "\u001b[0;31mTypeError\u001b[0m: 'tuple' object does not support item assignment"
          ]
        }
      ]
    },
    {
      "cell_type": "code",
      "source": [
        "## 리스트도 가능\n",
        "\n",
        "bbb=[1,2,3,4]\n",
        "x,y,z,w,l = bbb \n",
        "x"
      ],
      "metadata": {
        "colab": {
          "base_uri": "https://localhost:8080/",
          "height": 222
        },
        "id": "mTG1Ns3B8pOz",
        "outputId": "4810e220-22c8-4510-86dc-32e7b727c5ed"
      },
      "execution_count": 1,
      "outputs": [
        {
          "output_type": "error",
          "ename": "ValueError",
          "evalue": "ignored",
          "traceback": [
            "\u001b[0;31m---------------------------------------------------------------------------\u001b[0m",
            "\u001b[0;31mValueError\u001b[0m                                Traceback (most recent call last)",
            "\u001b[0;32m<ipython-input-1-6fb5fa433dc9>\u001b[0m in \u001b[0;36m<module>\u001b[0;34m\u001b[0m\n\u001b[1;32m      2\u001b[0m \u001b[0;34m\u001b[0m\u001b[0m\n\u001b[1;32m      3\u001b[0m \u001b[0mbbb\u001b[0m\u001b[0;34m=\u001b[0m\u001b[0;34m[\u001b[0m\u001b[0;36m1\u001b[0m\u001b[0;34m,\u001b[0m\u001b[0;36m2\u001b[0m\u001b[0;34m,\u001b[0m\u001b[0;36m3\u001b[0m\u001b[0;34m,\u001b[0m\u001b[0;36m4\u001b[0m\u001b[0;34m]\u001b[0m\u001b[0;34m\u001b[0m\u001b[0;34m\u001b[0m\u001b[0m\n\u001b[0;32m----> 4\u001b[0;31m \u001b[0mx\u001b[0m\u001b[0;34m,\u001b[0m\u001b[0my\u001b[0m\u001b[0;34m,\u001b[0m\u001b[0mz\u001b[0m\u001b[0;34m,\u001b[0m\u001b[0mw\u001b[0m\u001b[0;34m,\u001b[0m\u001b[0ml\u001b[0m \u001b[0;34m=\u001b[0m \u001b[0mbbb\u001b[0m\u001b[0;34m\u001b[0m\u001b[0;34m\u001b[0m\u001b[0m\n\u001b[0m\u001b[1;32m      5\u001b[0m \u001b[0mx\u001b[0m\u001b[0;34m\u001b[0m\u001b[0;34m\u001b[0m\u001b[0m\n",
            "\u001b[0;31mValueError\u001b[0m: not enough values to unpack (expected 5, got 4)"
          ]
        }
      ]
    },
    {
      "cell_type": "code",
      "source": [
        "# 진짜 공집합 만들기\n",
        "\n",
        "empty_set = set()\n",
        "empty_set"
      ],
      "metadata": {
        "colab": {
          "base_uri": "https://localhost:8080/"
        },
        "id": "ThvYdlQMg0Gk",
        "outputId": "fed11589-e02f-499b-a3c0-a31767d93799"
      },
      "execution_count": 4,
      "outputs": [
        {
          "output_type": "execute_result",
          "data": {
            "text/plain": [
              "set()"
            ]
          },
          "metadata": {},
          "execution_count": 4
        }
      ]
    },
    {
      "cell_type": "code",
      "source": [
        "A_set = {'aaaabbbcccc'}\n",
        "\n",
        "print(A_set)\n",
        "\n",
        "Another_set =set('aaaabbbcccc')\n",
        "\n",
        "Another_set"
      ],
      "metadata": {
        "colab": {
          "base_uri": "https://localhost:8080/"
        },
        "id": "fPvCc2guhZTi",
        "outputId": "97b5d792-f040-4d29-8e43-acca9078547b"
      },
      "execution_count": 9,
      "outputs": [
        {
          "output_type": "stream",
          "name": "stdout",
          "text": [
            "{'aaaabbbcccc'}\n"
          ]
        },
        {
          "output_type": "execute_result",
          "data": {
            "text/plain": [
              "{'a', 'b', 'c'}"
            ]
          },
          "metadata": {},
          "execution_count": 9
        }
      ]
    }
  ]
}