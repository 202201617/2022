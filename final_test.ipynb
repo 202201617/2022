{
  "nbformat": 4,
  "nbformat_minor": 0,
  "metadata": {
    "colab": {
      "provenance": [],
      "authorship_tag": "ABX9TyPn0w0QWSOpZQWpJMI9I5je",
      "include_colab_link": true
    },
    "kernelspec": {
      "name": "python3",
      "display_name": "Python 3"
    },
    "language_info": {
      "name": "python"
    }
  },
  "cells": [
    {
      "cell_type": "markdown",
      "metadata": {
        "id": "view-in-github",
        "colab_type": "text"
      },
      "source": [
        "<a href=\"https://colab.research.google.com/github/202201617/2022/blob/main/final_test.ipynb\" target=\"_parent\"><img src=\"https://colab.research.google.com/assets/colab-badge.svg\" alt=\"Open In Colab\"/></a>"
      ]
    },
    {
      "cell_type": "code",
      "execution_count": 1,
      "metadata": {
        "colab": {
          "base_uri": "https://localhost:8080/"
        },
        "id": "92rfkhR1nNTR",
        "outputId": "a7f5f985-abc0-485e-cd3a-ebc0ebb30164"
      },
      "outputs": [
        {
          "output_type": "stream",
          "name": "stdout",
          "text": [
            "3\n",
            "[2, 7]\n",
            "2\n"
          ]
        }
      ],
      "source": [
        "#행렬\n",
        "A = [[2,7], [3, 4], [6, 1]]\n",
        "print(len(A))\n",
        "print(A[0])\n",
        "print(len(A[0]))"
      ]
    },
    {
      "cell_type": "code",
      "source": [
        "#행렬의 원소곱\n",
        "A = [[2,7], [3, 4], [6, 1]]\n",
        "B = [[1,4], [4, -1], [2, 5]]\n",
        "\n",
        "def element_product(A, B):\n",
        "  C = []\n",
        "  m = len(A)\n",
        "  n = len(A[0])\n",
        "  for i in range(m):\n",
        "    D = []\n",
        "    for j in range(n):\n",
        "      value = A[i][j]*B[i][j]\n",
        "      D.append(value)\n",
        "    C.append(D)\n",
        "  \n",
        "  return C\n",
        "\n",
        "C = element_product(A,B)\n",
        "print(C)"
      ],
      "metadata": {
        "colab": {
          "base_uri": "https://localhost:8080/"
        },
        "id": "7ckxSD_GnbPL",
        "outputId": "616cf897-c1c5-446c-f134-370364b85048"
      },
      "execution_count": 2,
      "outputs": [
        {
          "output_type": "stream",
          "name": "stdout",
          "text": [
            "[[2, 28], [12, -4], [12, 5]]\n"
          ]
        }
      ]
    },
    {
      "cell_type": "code",
      "source": [
        "# 행렬곱\n",
        "A = [[2,7], [3,4], [6,1]]\n",
        "B = [[3, -3, 5], [-1, 2, -1]]\n",
        "\n",
        "print(len(A))\n",
        "print(len(A[0]))\n",
        "print(len(B[0]))\n",
        "\n",
        "def matrix_mul(A,B):\n",
        "  C = []\n",
        "  m = len(A)\n",
        "  p = len(A[0])\n",
        "  n = len(B[0])\n",
        "  for i in range(m):\n",
        "    D = []\n",
        "    for j in range(n):\n",
        "      sum_k = 0\n",
        "      for k in range(p):\n",
        "        sum_k += A[i][k]*B[k][j]\n",
        "      D.append(sum_k)\n",
        "    C.append(D)\n",
        "  return C\n",
        "\n",
        "C = matrix_mul(A,B)\n",
        "print(C)"
      ],
      "metadata": {
        "colab": {
          "base_uri": "https://localhost:8080/"
        },
        "id": "NE_fmA2AnfrI",
        "outputId": "e7274f6d-231d-45ab-f0b6-c81eee75f5a1"
      },
      "execution_count": 3,
      "outputs": [
        {
          "output_type": "stream",
          "name": "stdout",
          "text": [
            "3\n",
            "2\n",
            "3\n",
            "[[-1, 8, 3], [5, -1, 11], [17, -16, 29]]\n"
          ]
        }
      ]
    },
    {
      "cell_type": "code",
      "source": [
        "#Ax=b 풀기\n",
        "A = [[1, -1, 2, 1], [5, 8, 6, 3], [4, 2, 5, 3], [3, 2, 1, 4]]\n",
        "B = [2, 10, 3, 1]\n",
        "x = list(range(0,4)) #[0,1,2,3]"
      ],
      "metadata": {
        "id": "YFIwtHyPng0R"
      },
      "execution_count": 4,
      "outputs": []
    },
    {
      "cell_type": "code",
      "source": [
        "#Ax=b 풀기\n",
        "A = [[1, -1, 2, 1], [5, 8, 6, 3], [4, 2, 5, 3], [3, 2, 1, 4]]\n",
        "b = [2, 10, 3, 1]\n",
        "x = list(range(0,4)) #[0,1,2,3]\n",
        "\n",
        "#forward elimination (upper triangular matrix)\n",
        "for k in range(0,3):\n",
        "  for i in range(k+1, 4):\n",
        "    mult = A[i][k]/A[k][k]\n",
        "    for j in range(k,4):\n",
        "      A[i][j] = A[i][j] - mult*A[k][j]\n",
        "    b[i] = b[i]-mult*b[k]\n",
        "\n",
        "print(A)\n",
        "print(b)\n",
        "print('='*20)\n",
        "\n",
        "#Back substitution\n",
        "x[3] = b[3]/A[3][3]\n",
        "for i in range(2, -1, -1):\n",
        "  sum_j = 0\n",
        "  for j in range(i+1, 4):\n",
        "    sum_j += A[i][j]*x[j]\n",
        "  x[i] = (b[i] - sum_j)/A[i][i]\n",
        "\n",
        "print('x=', x)"
      ],
      "metadata": {
        "colab": {
          "base_uri": "https://localhost:8080/"
        },
        "id": "JQvL24ekni0V",
        "outputId": "30f0986d-f148-48e2-fde9-217826a749cd"
      },
      "execution_count": 5,
      "outputs": [
        {
          "output_type": "stream",
          "name": "stdout",
          "text": [
            "[[1, -1, 2, 1], [0.0, 13.0, -4.0, -2.0], [0.0, 0.0, -1.1538461538461537, -0.07692307692307687], [0.0, 0.0, 0.0, 1.9999999999999998]]\n",
            "[2, 0.0, -5.0, 10.000000000000002]\n",
            "====================\n",
            "x= [-9.000000000000004, 2.0000000000000004, 4.000000000000001, 5.000000000000002]\n"
          ]
        }
      ]
    },
    {
      "cell_type": "code",
      "source": [
        "def solve(A,b):\n",
        "  n = len(A)\n",
        "  for k in range(0,n-1):\n",
        "    for i in range(k+1, n):\n",
        "      mult = A[i][k]/A[k][k]\n",
        "      for j in range(k,n):\n",
        "        A[i][j] = A[i][j] - mult*A[k][j]\n",
        "      b[i] = b[i]-mult*b[k]\n",
        "\n",
        "  x[n-1] = b[n-1]/A[n-1][n-1]\n",
        "  for i in range(n-2, -1, -1):\n",
        "    sum_j = 0\n",
        "    for j in range(i+1, n):\n",
        "      sum_j += A[i][j]*x[j]\n",
        "    x[i] = (b[i] - sum_j)/A[i][i] \n",
        "\n",
        "  return x\n",
        "\n",
        "x = list(range(0,3))\n",
        "A = [[1, -1, 2],\n",
        "    [5, 8, 6],\n",
        "    [4, 2, 5]]\n",
        "b = [2, 10, 3]\n",
        "x = solve(A,b)\n",
        "\n",
        "print(x)"
      ],
      "metadata": {
        "colab": {
          "base_uri": "https://localhost:8080/"
        },
        "id": "sSXmx9IHnkFc",
        "outputId": "f8a875a0-50ac-4995-87bd-8686f9424ff6"
      },
      "execution_count": 6,
      "outputs": [
        {
          "output_type": "stream",
          "name": "stdout",
          "text": [
            "[-5.333333333333334, 1.3333333333333335, 4.333333333333334]\n"
          ]
        }
      ]
    },
    {
      "cell_type": "code",
      "source": [
        "#np.array 이용하여 행렬 계산하기\n",
        "import numpy as np\n",
        "\n",
        "A = np.array([[2,7], [3,4], [6,1]])\n",
        "B = np.array([[1,4], [4, -1], [2,5]])\n",
        "m = len(A)\n",
        "n = len(A[0])\n",
        "\n",
        "#행렬 덧셈, 뺄셈, 곱셈, 스칼라곱, 원소곱, 행렬곱\n",
        "print(A+B)\n",
        "print(A-B)\n",
        "print(2*A)\n",
        "C = np.multiply(A,B) #원소곱\n",
        "print(C)\n",
        "print( )\n",
        "\n",
        "A = np.array([[2,7], [3,4], [6,1]]) #3*2\n",
        "B = np.array([[3,-3,5], [-1,2,-1]]) #2*3\n",
        "C = np.matmul(A,B) #행렬곱\n",
        "print(C)\n",
        "print( )\n",
        "\n",
        "#transpose A^T\n",
        "A = np.array([[3,-3,5], [-1,2,1], [2,4,5]])\n",
        "At = np.transpose(A)\n",
        "print(At)\n",
        "print( )\n",
        "\n",
        "#diagonal matrix\n",
        "D = np.diag(A) #diagonal elements → array\n",
        "print(D)\n",
        "print( )\n",
        " \n",
        "D2 = np.diag(np.diag(A))\n",
        "print(D2)"
      ],
      "metadata": {
        "colab": {
          "base_uri": "https://localhost:8080/"
        },
        "id": "nP22COslnlnI",
        "outputId": "9bd01294-843f-4312-a228-4b80d041c5ef"
      },
      "execution_count": 7,
      "outputs": [
        {
          "output_type": "stream",
          "name": "stdout",
          "text": [
            "[[ 3 11]\n",
            " [ 7  3]\n",
            " [ 8  6]]\n",
            "[[ 1  3]\n",
            " [-1  5]\n",
            " [ 4 -4]]\n",
            "[[ 4 14]\n",
            " [ 6  8]\n",
            " [12  2]]\n",
            "[[ 2 28]\n",
            " [12 -4]\n",
            " [12  5]]\n",
            "\n",
            "[[ -1   8   3]\n",
            " [  5  -1  11]\n",
            " [ 17 -16  29]]\n",
            "\n",
            "[[ 3 -1  2]\n",
            " [-3  2  4]\n",
            " [ 5  1  5]]\n",
            "\n",
            "[3 2 5]\n",
            "\n",
            "[[3 0 0]\n",
            " [0 2 0]\n",
            " [0 0 5]]\n"
          ]
        }
      ]
    },
    {
      "cell_type": "code",
      "source": [
        "import numpy as np\n",
        "\n",
        "#Identity matrix\n",
        "I = np.identity(3)\n",
        "print(I)\n",
        "print( )\n",
        "\n",
        "#Upper/lower triangular matrix\n",
        "A = np.array([[3,-3,4], [-1,2,-1], [2,4,5]])\n",
        "U = np.triu(A)\n",
        "print(U)\n",
        "#L = np.trill(A)\n",
        "#print(L)\n",
        "print( )\n",
        "\n",
        "#determinant/inverse/x=A^-1*b\n",
        "A = np.array([[1.0, -1.0, 2.0], [5.0, 8.0, 6.0], [4.0, 2.0, 5.0]])\n",
        "D = np.linalg.det(A)\n",
        "print(D)\n",
        "\n",
        "Ainv = np.linalg.inv(A)\n",
        "print(Ainv)\n",
        "print( )\n",
        "\n",
        "#Ax=b → x=A^-1*b\n",
        "b = np.array([2, 10, 3])\n",
        "Ainv = np.linalg.inv(A)\n",
        "x = np.matmul(Ainv, b)\n",
        "print(x)"
      ],
      "metadata": {
        "colab": {
          "base_uri": "https://localhost:8080/"
        },
        "id": "oqKviS6-nnfj",
        "outputId": "85edd441-1251-4a0e-aee4-07e6e4688308"
      },
      "execution_count": 8,
      "outputs": [
        {
          "output_type": "stream",
          "name": "stdout",
          "text": [
            "[[1. 0. 0.]\n",
            " [0. 1. 0.]\n",
            " [0. 0. 1.]]\n",
            "\n",
            "[[ 3 -3  4]\n",
            " [ 0  2 -1]\n",
            " [ 0  0  5]]\n",
            "\n",
            "-15.000000000000007\n",
            "[[-1.86666667 -0.6         1.46666667]\n",
            " [ 0.06666667  0.2        -0.26666667]\n",
            " [ 1.46666667  0.4        -0.86666667]]\n",
            "\n",
            "[-5.33333333  1.33333333  4.33333333]\n"
          ]
        }
      ]
    },
    {
      "cell_type": "code",
      "source": [
        "#구글 Drive 연동 & 현재 directory 설정\n",
        "#colab에서 google drive와 연결\n",
        "from google.colab import drive\n",
        "drive.mount('/content/drive')\n",
        "\n",
        "import os\n",
        "os.chdir('/content/drive/MyDrive/2023-1st/')"
      ],
      "metadata": {
        "colab": {
          "base_uri": "https://localhost:8080/"
        },
        "id": "0JWcp-shnpWH",
        "outputId": "983ba44b-2996-4c2c-ac77-81216d0798a4"
      },
      "execution_count": 9,
      "outputs": [
        {
          "output_type": "stream",
          "name": "stdout",
          "text": [
            "Mounted at /content/drive\n"
          ]
        }
      ]
    },
    {
      "cell_type": "code",
      "source": [
        "#파일 생성하기 'w'\n",
        "\n",
        "f = open('Newfile.txt', 'w') #write\n",
        "for i in range(1, 11):\n",
        "  data = '%d번째 줄입니다.\\n'%i\n",
        "  f.write(data)\n",
        "f.close()"
      ],
      "metadata": {
        "id": "I2Iyx3TMnwJa"
      },
      "execution_count": 10,
      "outputs": []
    },
    {
      "cell_type": "code",
      "source": [
        "#파일 읽기 'r'\n",
        "#readline 함수: 가장 첫번째 줄이 화면에 출력\n",
        "f = open('Newfile.txt', 'r') #read\n",
        "line = f.readline()\n",
        "print(line)\n",
        "f.close()\n",
        "\n",
        "f = open('Newfile.txt', 'r')\n",
        "lines = f.readlines()\n",
        "#print(lines) #문자열로 구성된 리스트\n",
        "for line in lines: #한줄씩 읽고 싶을 때\n",
        "  print(line)\n",
        "f.close()\n",
        "\n",
        "f = open('Newfile.txt', 'r')\n",
        "data = f.read()\n",
        "print(data)\n",
        "f.close()"
      ],
      "metadata": {
        "colab": {
          "base_uri": "https://localhost:8080/"
        },
        "id": "z_7A_Fc5n3VS",
        "outputId": "c5b85e06-5bb7-41af-e34a-80dae50e0389"
      },
      "execution_count": 11,
      "outputs": [
        {
          "output_type": "stream",
          "name": "stdout",
          "text": [
            "1번째 줄입니다.\n",
            "\n",
            "1번째 줄입니다.\n",
            "\n",
            "2번째 줄입니다.\n",
            "\n",
            "3번째 줄입니다.\n",
            "\n",
            "4번째 줄입니다.\n",
            "\n",
            "5번째 줄입니다.\n",
            "\n",
            "6번째 줄입니다.\n",
            "\n",
            "7번째 줄입니다.\n",
            "\n",
            "8번째 줄입니다.\n",
            "\n",
            "9번째 줄입니다.\n",
            "\n",
            "10번째 줄입니다.\n",
            "\n",
            "1번째 줄입니다.\n",
            "2번째 줄입니다.\n",
            "3번째 줄입니다.\n",
            "4번째 줄입니다.\n",
            "5번째 줄입니다.\n",
            "6번째 줄입니다.\n",
            "7번째 줄입니다.\n",
            "8번째 줄입니다.\n",
            "9번째 줄입니다.\n",
            "10번째 줄입니다.\n",
            "\n"
          ]
        }
      ]
    },
    {
      "cell_type": "code",
      "source": [
        "#파일 내용 추가 'a'\n",
        "f = open('Newfile.txt', 'a') #추가 모드\n",
        "for i in range(11, 20):\n",
        "  data = '%d번째 줄입니다.\\n'%i\n",
        "  f.write(data)\n",
        "f.close()"
      ],
      "metadata": {
        "id": "3_ANWNRIn4jm"
      },
      "execution_count": 12,
      "outputs": []
    },
    {
      "cell_type": "code",
      "source": [
        "#Exercise\n",
        "import random\n",
        "\n",
        "f = open('lotto.txt', 'a')\n",
        "num = input('횟수를 입력해주세요: ')\n",
        "\n",
        "for i in range(int(num)):\n",
        "  lotto = random.sample(range(1, 46), 6)\n",
        "  print(lotto)\n",
        "  f.write(str(lotto) + '\\n')\n",
        "f.close()"
      ],
      "metadata": {
        "colab": {
          "base_uri": "https://localhost:8080/"
        },
        "id": "b0FecaInn6Qu",
        "outputId": "ee11b847-5cf0-4e95-e473-809d7a458b15"
      },
      "execution_count": 13,
      "outputs": [
        {
          "output_type": "stream",
          "name": "stdout",
          "text": [
            "횟수를 입력해주세요: 1\n",
            "[43, 39, 19, 11, 29, 17]\n"
          ]
        }
      ]
    },
    {
      "cell_type": "code",
      "source": [
        "#with문 사용하기\n",
        "f = open('Newfile2.txt', 'w')\n",
        "f.write('life is beautiful.')\n",
        "f.close()\n",
        "\n",
        "with(open('Newfile2.txt', 'w')) as f:\n",
        "     f.write('life is beautiful.\\n')\n",
        "\n",
        "# Exercise: with 사용\n",
        "with open('Newfile2.txt', 'r') as f:\n",
        "  line = f.readline()\n",
        "  print(line)\n",
        "  lines = f.readlines()\n",
        "  for line in lines:\n",
        "    print(line)\n",
        "  data = f.read()\n",
        "  print(data)\n",
        "\n",
        "# 내용 추가\n",
        "with open('Newfile2.txt', 'a') as f:\n",
        "  f.write('enjoy your life.\\n')"
      ],
      "metadata": {
        "colab": {
          "base_uri": "https://localhost:8080/"
        },
        "id": "xgqa2VqGn7az",
        "outputId": "6fb35ac3-1c47-476c-e6c7-870bc09361de"
      },
      "execution_count": 14,
      "outputs": [
        {
          "output_type": "stream",
          "name": "stdout",
          "text": [
            "life is beautiful.\n",
            "\n",
            "\n"
          ]
        }
      ]
    },
    {
      "cell_type": "code",
      "source": [
        "#예제: 랜덤하게 100명의 키와 몸무게 만들기\n",
        "import random\n",
        "hangle = list('가나다라마바사아자차카타파하')\n",
        "\n",
        "with open('Newfile3.txt', 'w') as f:\n",
        "  for i in range(10):\n",
        "    name = random.choice(hangle) + random.choice(hangle)\n",
        "    weight = random.randrange(40, 100)\n",
        "    height = random.randrange(140, 200)\n",
        "    f.write('{}, {}, {}\\n'.format(name, weight, height))"
      ],
      "metadata": {
        "id": "95lEQaOfn90_"
      },
      "execution_count": 15,
      "outputs": []
    },
    {
      "cell_type": "code",
      "source": [
        "#예제: 파일 한 줄씩 읽기\n",
        "with open('Newfile3.txt', 'r') as f:\n",
        "  for line in f:\n",
        "    (name, weight, height) = line.strip().split(', ') #세 개의 문자열(이름, 몸무게, 키)로 구성된 list\n",
        "    if (not name) or (not weight) or (not height):\n",
        "      continue\n",
        "\n",
        "    bmi = int(weight)/((int(height)/100)**2)\n",
        "    if bmi >= 25:\n",
        "      result = '과체중'\n",
        "    elif bmi >= 18.5:\n",
        "      result = '정상체중'\n",
        "    else:\n",
        "      result = '저체중'\n",
        "    print('\\n'.join(['이름: {}', '몸무게: {}', '키: {}', 'bmi: {}', '결과: {}\\n']).format(name, weight, height, bmi, result))"
      ],
      "metadata": {
        "colab": {
          "base_uri": "https://localhost:8080/"
        },
        "id": "eMHeFgQqn_dp",
        "outputId": "f211ecf2-6d92-448a-ceca-683a241a989c"
      },
      "execution_count": 16,
      "outputs": [
        {
          "output_type": "stream",
          "name": "stdout",
          "text": [
            "이름: 바사\n",
            "몸무게: 54\n",
            "키: 193\n",
            "bmi: 14.49703347740879\n",
            "결과: 저체중\n",
            "\n",
            "이름: 바마\n",
            "몸무게: 50\n",
            "키: 186\n",
            "bmi: 14.452537865649207\n",
            "결과: 저체중\n",
            "\n",
            "이름: 아가\n",
            "몸무게: 81\n",
            "키: 187\n",
            "bmi: 23.163373273470786\n",
            "결과: 정상체중\n",
            "\n",
            "이름: 카차\n",
            "몸무게: 70\n",
            "키: 167\n",
            "bmi: 25.099501595611173\n",
            "결과: 과체중\n",
            "\n",
            "이름: 타차\n",
            "몸무게: 64\n",
            "키: 155\n",
            "bmi: 26.638917793964616\n",
            "결과: 과체중\n",
            "\n",
            "이름: 사자\n",
            "몸무게: 67\n",
            "키: 191\n",
            "bmi: 18.36572462377676\n",
            "결과: 저체중\n",
            "\n",
            "이름: 카카\n",
            "몸무게: 61\n",
            "키: 182\n",
            "bmi: 18.41565028378215\n",
            "결과: 저체중\n",
            "\n",
            "이름: 사다\n",
            "몸무게: 91\n",
            "키: 182\n",
            "bmi: 27.47252747252747\n",
            "결과: 과체중\n",
            "\n",
            "이름: 마하\n",
            "몸무게: 67\n",
            "키: 149\n",
            "bmi: 30.178820773839018\n",
            "결과: 과체중\n",
            "\n",
            "이름: 하라\n",
            "몸무게: 74\n",
            "키: 185\n",
            "bmi: 21.62162162162162\n",
            "결과: 정상체중\n",
            "\n"
          ]
        }
      ]
    },
    {
      "cell_type": "code",
      "source": [
        "#CSV란, Comma-seperated values의 줄임말로, 쉼표로 정보가 구분되어져 있는 파일을 의미함.\n",
        "#CSV란 정보가 콤마로 구분되어져 있다는 개념 뿐이고 실제로 CSV이지만, csv가 아닌 txt로 저장되어 있는 경우도 종종 있음\n",
        "#엑셀이 깔려져 있는 컴퓨터에서는 .csv파일들을 엑셀로 기본으로 보여줌\n",
        "\n",
        "import csv\n",
        "\n",
        "#파일 쓰기\n",
        "data = [\n",
        "    ['id', 'name', 'price', 'amount'],\n",
        "    ['1', 'apple', '5000', '5'],\n",
        "    ['2', 'pencil', '500', '42'],\n",
        "    ['3', 'pineapple', '8000', '5'],\n",
        "    ['4', 'pen', '1500', '10']]\n",
        "\n",
        "f = open('data.csv', 'w')\n",
        "g = csv.writer(f)\n",
        "g.writerows(data)\n",
        "f.close()"
      ],
      "metadata": {
        "id": "-MwLXpa1oB2a"
      },
      "execution_count": 17,
      "outputs": []
    },
    {
      "cell_type": "code",
      "source": [
        "#파일 읽기\n",
        "#for 문으로 reader를 읽어들이면 각 행을 콤마로 구분한 리스트를 불러옴\n",
        "f = open('data.csv', 'r')\n",
        "g = csv.reader(f)\n",
        "for row in g:\n",
        "  print(row)\n",
        "f.close()\n",
        "\n",
        "#data 변수에는 2차원의 리스트로 저장\n",
        "f = open('data.csv', 'r')\n",
        "g = csv.reader(f)\n",
        "data = list(g)\n",
        "print(data)"
      ],
      "metadata": {
        "colab": {
          "base_uri": "https://localhost:8080/"
        },
        "id": "jsZKhS_IoDpY",
        "outputId": "2d88db00-6270-46d6-c37d-a595f2867aab"
      },
      "execution_count": 18,
      "outputs": [
        {
          "output_type": "stream",
          "name": "stdout",
          "text": [
            "['id', 'name', 'price', 'amount']\n",
            "['1', 'apple', '5000', '5']\n",
            "['2', 'pencil', '500', '42']\n",
            "['3', 'pineapple', '8000', '5']\n",
            "['4', 'pen', '1500', '10']\n",
            "[['id', 'name', 'price', 'amount'], ['1', 'apple', '5000', '5'], ['2', 'pencil', '500', '42'], ['3', 'pineapple', '8000', '5'], ['4', 'pen', '1500', '10']]\n"
          ]
        }
      ]
    },
    {
      "cell_type": "code",
      "source": [
        "#파일 추가\n",
        "f = open('data.csv', 'a')\n",
        "g = csv.writer(f)\n",
        "g.writerow(['5', 'banana', '2000', '5'])\n",
        "f.close()"
      ],
      "metadata": {
        "id": "4yWy0grnoE8D"
      },
      "execution_count": 19,
      "outputs": []
    },
    {
      "cell_type": "code",
      "source": [
        "# dictionary 형태로 주어진 파일 쓰고 읽기\n",
        "# 위 방법들의 단점은 각 행이 리스트로 표현되다 보니 각 행별로 뜯어서 보면 몇번째 항목이 무슨 항목을 의미하는 것인지 직관적으로 알 수 없다.\n",
        "# 만약, 데이터를 알기 쉽게 딕셔너리의 형태로 제공했다면?\n",
        "'''\n",
        "[\n",
        "    {'id': '1', 'name': 'apple', 'price': '5000', 'amount': '5'},\n",
        "    {'id': '2', 'name': 'pencil', 'price': '500', 'amount': '42'},\n",
        "    {'id': '3', 'name': 'pineapple', 'price': '8000', 'amount': '5'},\n",
        "    {'id': '4', 'name': 'pen', 'price': '1500', 'amount': '10'}\n",
        "]\n",
        "'''"
      ],
      "metadata": {
        "colab": {
          "base_uri": "https://localhost:8080/",
          "height": 90
        },
        "id": "vQsFJvIhoGIF",
        "outputId": "2984bfee-ea2f-452f-b88b-0989c53a4679"
      },
      "execution_count": 20,
      "outputs": [
        {
          "output_type": "execute_result",
          "data": {
            "text/plain": [
              "\"\\n[\\n    {'id': '1', 'name': 'apple', 'price': '5000', 'amount': '5'},\\n    {'id': '2', 'name': 'pencil', 'price': '500', 'amount': '42'},\\n    {'id': '3', 'name': 'pineapple', 'price': '8000', 'amount': '5'},\\n    {'id': '4', 'name': 'pen', 'price': '1500', 'amount': '10'}\\n]\\n\""
            ],
            "application/vnd.google.colaboratory.intrinsic+json": {
              "type": "string"
            }
          },
          "metadata": {},
          "execution_count": 20
        }
      ]
    },
    {
      "cell_type": "code",
      "source": [
        "import csv\n",
        "\n",
        "import csv\n",
        "\n",
        "keys = ['id', 'name', 'price', 'amount']\n",
        "data = [\n",
        "    {'id': '1', 'name': 'apple', 'price': '5000', 'amount': '5'},\n",
        "    {'id': '2', 'name': 'pencil', 'price': '500', 'amount': '42'},\n",
        "    {'id': '3', 'name': 'pineapple', 'price': '8000', 'amount': '5'},\n",
        "    {'id': '4', 'name': 'pen', 'price': '1500', 'amount': '10'}\n",
        "]\n",
        "\n",
        "f = open(\"data2.csv\", \"w\")\n",
        "g = csv.DictWriter(f, fieldnames = keys)\n",
        "g.writeheader() #이 부분을 제거하면 파일을 저장할 때 항목 이름이 작성되지 않음\n",
        "g.writerows(data)\n",
        "f.close() "
      ],
      "metadata": {
        "id": "aIb_u2-DoHET"
      },
      "execution_count": 21,
      "outputs": []
    },
    {
      "cell_type": "code",
      "source": [
        "#(1)data4.csv 파일 만들기/읽기\n",
        "with open('data4.csv', 'w') as f:\n",
        "  g = csv.DictWriter(f. fieldnames = keys)\n",
        "  g.writeheader()\n",
        "  g.writerows(data)\n",
        "\n",
        "#with open('data4.csv', 'r') as f:\n",
        "#g = csv.DictReader(f)\n",
        "#data = list(g)\n",
        "\n",
        "#(2) average 추가해서 파일 업데이트 시키기\n",
        "#dict1 = data[0]\n",
        "#print(dict1)\n",
        "#average = (float(dict1['kor']))+float(dict1['eng'])+float(dict1['math']))/3\n",
        "#dict1['average'] = str(round(average,2))\n",
        "#print(dict1)"
      ],
      "metadata": {
        "colab": {
          "base_uri": "https://localhost:8080/",
          "height": 245
        },
        "id": "ZONqDb1VoI34",
        "outputId": "8c129480-08e2-40f7-a6d7-0073b115e0aa"
      },
      "execution_count": 23,
      "outputs": [
        {
          "output_type": "error",
          "ename": "AttributeError",
          "evalue": "ignored",
          "traceback": [
            "\u001b[0;31m---------------------------------------------------------------------------\u001b[0m",
            "\u001b[0;31mAttributeError\u001b[0m                            Traceback (most recent call last)",
            "\u001b[0;32m<ipython-input-23-9edc98b6c520>\u001b[0m in \u001b[0;36m<cell line: 2>\u001b[0;34m()\u001b[0m\n\u001b[1;32m      1\u001b[0m \u001b[0;31m#(1)data4.csv 파일 만들기/읽기\u001b[0m\u001b[0;34m\u001b[0m\u001b[0;34m\u001b[0m\u001b[0m\n\u001b[1;32m      2\u001b[0m \u001b[0;32mwith\u001b[0m \u001b[0mopen\u001b[0m\u001b[0;34m(\u001b[0m\u001b[0;34m'data4.csv'\u001b[0m\u001b[0;34m,\u001b[0m \u001b[0;34m'w'\u001b[0m\u001b[0;34m)\u001b[0m \u001b[0;32mas\u001b[0m \u001b[0mf\u001b[0m\u001b[0;34m:\u001b[0m\u001b[0;34m\u001b[0m\u001b[0;34m\u001b[0m\u001b[0m\n\u001b[0;32m----> 3\u001b[0;31m   \u001b[0mg\u001b[0m \u001b[0;34m=\u001b[0m \u001b[0mcsv\u001b[0m\u001b[0;34m.\u001b[0m\u001b[0mDictWriter\u001b[0m\u001b[0;34m(\u001b[0m\u001b[0mf\u001b[0m\u001b[0;34m.\u001b[0m \u001b[0mfieldnames\u001b[0m \u001b[0;34m==\u001b[0m \u001b[0mkeys\u001b[0m\u001b[0;34m)\u001b[0m\u001b[0;34m\u001b[0m\u001b[0;34m\u001b[0m\u001b[0m\n\u001b[0m\u001b[1;32m      4\u001b[0m   \u001b[0mg\u001b[0m\u001b[0;34m.\u001b[0m\u001b[0mwriteheader\u001b[0m\u001b[0;34m(\u001b[0m\u001b[0;34m)\u001b[0m\u001b[0;34m\u001b[0m\u001b[0;34m\u001b[0m\u001b[0m\n\u001b[1;32m      5\u001b[0m   \u001b[0mg\u001b[0m\u001b[0;34m.\u001b[0m\u001b[0mwriterows\u001b[0m\u001b[0;34m(\u001b[0m\u001b[0mdata\u001b[0m\u001b[0;34m)\u001b[0m\u001b[0;34m\u001b[0m\u001b[0;34m\u001b[0m\u001b[0m\n",
            "\u001b[0;31mAttributeError\u001b[0m: '_io.TextIOWrapper' object has no attribute 'fieldnames'"
          ]
        }
      ]
    },
    {
      "cell_type": "code",
      "source": [
        "with open('data4.csv', 'r') as f:\n",
        "  g = csv.DIctReader(f)\n",
        "  data2 = data\n",
        "\n",
        "  for dict1 in g:\n",
        "    dict1 = data[0]\n",
        "    average = (float(dict1['kor']) + float(dict1['eng']) + float(dict1['math']))/3\n",
        "    data2[i]['average'] = round(average,2)\n",
        "    i += 1\n",
        "\n",
        "#(3) data4.csv 파일 다시 쓰기\n",
        "keys = ['id', 'kor', 'eng', 'math', 'average']\n",
        "with open('data5.csv', 'w') as f:\n",
        "  g = csv.DictWriter(f, fieldname = keys)\n",
        "  g.writerheader()\n",
        "  g.writerow(data2)"
      ],
      "metadata": {
        "colab": {
          "base_uri": "https://localhost:8080/",
          "height": 245
        },
        "id": "2BYnBiMioM06",
        "outputId": "e4960aa1-a423-4d9d-880a-771748fadae5"
      },
      "execution_count": 24,
      "outputs": [
        {
          "output_type": "error",
          "ename": "AttributeError",
          "evalue": "ignored",
          "traceback": [
            "\u001b[0;31m---------------------------------------------------------------------------\u001b[0m",
            "\u001b[0;31mAttributeError\u001b[0m                            Traceback (most recent call last)",
            "\u001b[0;32m<ipython-input-24-7bf68d48ff05>\u001b[0m in \u001b[0;36m<cell line: 1>\u001b[0;34m()\u001b[0m\n\u001b[1;32m      1\u001b[0m \u001b[0;32mwith\u001b[0m \u001b[0mopen\u001b[0m\u001b[0;34m(\u001b[0m\u001b[0;34m'data4.csv'\u001b[0m\u001b[0;34m,\u001b[0m \u001b[0;34m'r'\u001b[0m\u001b[0;34m)\u001b[0m \u001b[0;32mas\u001b[0m \u001b[0mf\u001b[0m\u001b[0;34m:\u001b[0m\u001b[0;34m\u001b[0m\u001b[0;34m\u001b[0m\u001b[0m\n\u001b[0;32m----> 2\u001b[0;31m   \u001b[0mg\u001b[0m \u001b[0;34m=\u001b[0m \u001b[0mcsv\u001b[0m\u001b[0;34m.\u001b[0m\u001b[0mDIctReader\u001b[0m\u001b[0;34m(\u001b[0m\u001b[0mf\u001b[0m\u001b[0;34m)\u001b[0m\u001b[0;34m\u001b[0m\u001b[0;34m\u001b[0m\u001b[0m\n\u001b[0m\u001b[1;32m      3\u001b[0m   \u001b[0mdata2\u001b[0m \u001b[0;34m=\u001b[0m \u001b[0mdata\u001b[0m\u001b[0;34m\u001b[0m\u001b[0;34m\u001b[0m\u001b[0m\n\u001b[1;32m      4\u001b[0m \u001b[0;34m\u001b[0m\u001b[0m\n\u001b[1;32m      5\u001b[0m   \u001b[0;32mfor\u001b[0m \u001b[0mdict1\u001b[0m \u001b[0;32min\u001b[0m \u001b[0mg\u001b[0m\u001b[0;34m:\u001b[0m\u001b[0;34m\u001b[0m\u001b[0;34m\u001b[0m\u001b[0m\n",
            "\u001b[0;31mAttributeError\u001b[0m: module 'csv' has no attribute 'DIctReader'"
          ]
        }
      ]
    },
    {
      "cell_type": "code",
      "source": [
        "#Module(모듈): 함수, 변수, 클래스를 모아 놓은 파일\n",
        "\n",
        "#module: math\n",
        "import math\n",
        "\n",
        "print(math.sin(1))\n",
        "print(math.cos(1))\n",
        "print(math.ceil(1.5))\n",
        "print(math.floor(1.5))\n",
        "\n",
        "#round는 정수가 홀수일 때 올리고, 정수가 짝수일 때 내림\n",
        "#round는 반올림 함수가 아님 → 사용할 일이 거의 없음\n",
        "print(round(1.5))\n",
        "print(round(2.5))\n",
        "\n",
        "#from 모듈 이름 import 가져오고 싶은 함수 또는 변수\n",
        "from math import sin, cos, tan, floor, ceil\n",
        "\n",
        "#from 모듈 이름 import * (모듈 내부의 모든 것을 다 가져옴)\n",
        "# → 식별자 이름에서 충돌 발생할 수 있음\n",
        "# → 최대한 필요한 것만 가져와서 사용하는 것이 좋음\n",
        "\n",
        "#import 모듈이름 as 사용하고 싶은 식별자\n",
        "import math as m\n",
        "print(m.sin(1))\n",
        "print(m.cos(1))\n",
        "print(m.ceil(1.5))\n",
        "print(m.floor(1.5))"
      ],
      "metadata": {
        "colab": {
          "base_uri": "https://localhost:8080/"
        },
        "id": "wL80OBJfoWCu",
        "outputId": "b98b583b-cc5b-4f51-a386-0332b99accc1"
      },
      "execution_count": 25,
      "outputs": [
        {
          "output_type": "stream",
          "name": "stdout",
          "text": [
            "0.8414709848078965\n",
            "0.5403023058681398\n",
            "2\n",
            "1\n",
            "2\n",
            "2\n",
            "0.8414709848078965\n",
            "0.5403023058681398\n",
            "2\n",
            "1\n"
          ]
        }
      ]
    },
    {
      "cell_type": "code",
      "source": [
        "#module: random\n",
        "import random as rn\n",
        "\n",
        "#random(): 0 <= x < 1 사이의 float로 리턴\n",
        "print(rn.random())\n",
        "\n",
        "#uniform(min, max): 지정한 범위 사이의 float를 리턴\n",
        "print(rn.uniform(0, 10))\n",
        "\n",
        "#randrange(): 지정한 범위의 int를 리턴\n",
        "print(rn.randrange(0, 10))\n",
        "\n",
        "#choice(list): 리스트 내부 요소를 랜덤하게 선택\n",
        "print(rn.choice([1,2,3,4,5]))\n",
        "\n",
        "#shuffle(list): 리스트 내부 요소를 랜덤하게 섞음\n",
        "a = [1,2,3,4,5]\n",
        "rn.shuffle(a)\n",
        "print(a)\n",
        "\n",
        "#sample(list, k=숫자):\n",
        "print(rn.sample([1,2,3,4,5], 2))"
      ],
      "metadata": {
        "colab": {
          "base_uri": "https://localhost:8080/"
        },
        "id": "Tc7Cd-lcoaeS",
        "outputId": "5b5805af-7123-489c-80aa-f879992f3c1a"
      },
      "execution_count": 26,
      "outputs": [
        {
          "output_type": "stream",
          "name": "stdout",
          "text": [
            "0.3216461798894844\n",
            "5.562912060927703\n",
            "8\n",
            "3\n",
            "[3, 5, 1, 4, 2]\n",
            "[5, 2]\n"
          ]
        }
      ]
    },
    {
      "cell_type": "code",
      "source": [
        "#module: os\n",
        "#colab에서 google drive와 연결\n",
        "from google.colab import drive\n",
        "drive.mount('/content/drive')\n",
        "\n",
        "import os\n",
        "os.chdir('/content/drive/MyDrive/2023-1st/')\n",
        "\n",
        "print(os.name) #현재 운영체제\n",
        "print(os.getcwd()) #현재 폴더\n",
        "print(os.listdir()) #현재 폴더 내부요소\n",
        "\n",
        "#폴더 제거하고 만들기\n",
        "os.mkdir('New_folder')\n",
        "os.rmdir('New_folder')"
      ],
      "metadata": {
        "colab": {
          "base_uri": "https://localhost:8080/"
        },
        "id": "RDQl5gn_obro",
        "outputId": "56d63198-138c-4494-a4b9-57bc5f156926"
      },
      "execution_count": 27,
      "outputs": [
        {
          "output_type": "stream",
          "name": "stdout",
          "text": [
            "Drive already mounted at /content/drive; to attempt to forcibly remount, call drive.mount(\"/content/drive\", force_remount=True).\n",
            "posix\n",
            "/content/drive/MyDrive/2023-1st\n",
            "['전산수학 1-1.ipynb', '전산수학 과제(3 10)', '전산수학 1-2', '전산수학 2-1', '전산수학 2-2', '전산수학 4-1', '전산수학 3-1', '전산수학 3-2', '전산수학 4-2', '전산수학 5-1', '전산수학 7-2', 'Newfile.txt', 'lotto.txt', 'Newfile2.txt', 'Newfile3.txt', 'data.csv', 'data2.csv', '전산수학 10-1.ipynb', '전산수학 9-2', '전산수학 11-1', 'dd', 'New_folder5', 'kma.csv', '12-1.ipynb', 'final test', 'data4.csv']\n"
          ]
        }
      ]
    },
    {
      "cell_type": "code",
      "source": [
        "#파일을 생성하고 파일 이름을 변경\n",
        "with open('test10.txt', 'w') as f:\n",
        "  f.write('지금은 테스트 중입니다.')\n",
        "\n",
        "os.rename('test10.txt', 'new.txt')\n",
        "\n",
        "#파일 제거하기\n",
        "os.remove('new.txt')\n",
        "#os.unlink('new.txt') #어느 것을 사용해도 무방함\n",
        "\n",
        "#현재 디렉터리를 읽어들이고 디렉터리(폴더)인지 구분하기\n",
        "output = os.listdir()\n",
        "for item in output:\n",
        "  if os.path.isdir(item):\n",
        "    print('폴더:', item)\n",
        "  else:\n",
        "    print('파일:', item)\n",
        "print('='*20)\n",
        "\n",
        "#폴더의 요소 읽어들이기\n",
        "def reader_folder(path):\n",
        "  output = os.listdir(path)\n",
        "  for item in output:\n",
        "    if os.path.isdir(item):\n",
        "      reader_folder(item)\n",
        "    else:\n",
        "      print('파일:', item)\n",
        "\n",
        "\n",
        "print(os.getcwd())\n",
        "\n",
        "os.mkdir('New_folder5')\n",
        "file_path = '/content/drive/MyDrive/2023-1st/New_folder5/test5.txt'\n",
        "with open(os.path.join(file_path), 'w') as f:\n",
        "  f.write('지금은 테스트 중 입니다')\n",
        "\n",
        "reader_folder('.')"
      ],
      "metadata": {
        "colab": {
          "base_uri": "https://localhost:8080/",
          "height": 753
        },
        "id": "XF4zGaW7oc7R",
        "outputId": "d349032e-f638-4796-c12c-3b39d88ecf7d"
      },
      "execution_count": 28,
      "outputs": [
        {
          "output_type": "stream",
          "name": "stdout",
          "text": [
            "파일: 전산수학 1-1.ipynb\n",
            "파일: 전산수학 과제(3 10)\n",
            "파일: 전산수학 1-2\n",
            "파일: 전산수학 2-1\n",
            "파일: 전산수학 2-2\n",
            "파일: 전산수학 4-1\n",
            "파일: 전산수학 3-1\n",
            "파일: 전산수학 3-2\n",
            "파일: 전산수학 4-2\n",
            "파일: 전산수학 5-1\n",
            "파일: 전산수학 7-2\n",
            "파일: Newfile.txt\n",
            "파일: lotto.txt\n",
            "파일: Newfile2.txt\n",
            "파일: Newfile3.txt\n",
            "파일: data.csv\n",
            "파일: data2.csv\n",
            "파일: 전산수학 10-1.ipynb\n",
            "파일: 전산수학 9-2\n",
            "파일: 전산수학 11-1\n",
            "폴더: dd\n",
            "폴더: New_folder5\n",
            "파일: kma.csv\n",
            "파일: 12-1.ipynb\n",
            "파일: final test\n",
            "파일: data4.csv\n",
            "====================\n",
            "/content/drive/MyDrive/2023-1st\n"
          ]
        },
        {
          "output_type": "error",
          "ename": "FileExistsError",
          "evalue": "ignored",
          "traceback": [
            "\u001b[0;31m---------------------------------------------------------------------------\u001b[0m",
            "\u001b[0;31mFileExistsError\u001b[0m                           Traceback (most recent call last)",
            "\u001b[0;32m<ipython-input-28-e1eb419eae1d>\u001b[0m in \u001b[0;36m<cell line: 32>\u001b[0;34m()\u001b[0m\n\u001b[1;32m     30\u001b[0m \u001b[0mprint\u001b[0m\u001b[0;34m(\u001b[0m\u001b[0mos\u001b[0m\u001b[0;34m.\u001b[0m\u001b[0mgetcwd\u001b[0m\u001b[0;34m(\u001b[0m\u001b[0;34m)\u001b[0m\u001b[0;34m)\u001b[0m\u001b[0;34m\u001b[0m\u001b[0;34m\u001b[0m\u001b[0m\n\u001b[1;32m     31\u001b[0m \u001b[0;34m\u001b[0m\u001b[0m\n\u001b[0;32m---> 32\u001b[0;31m \u001b[0mos\u001b[0m\u001b[0;34m.\u001b[0m\u001b[0mmkdir\u001b[0m\u001b[0;34m(\u001b[0m\u001b[0;34m'New_folder5'\u001b[0m\u001b[0;34m)\u001b[0m\u001b[0;34m\u001b[0m\u001b[0;34m\u001b[0m\u001b[0m\n\u001b[0m\u001b[1;32m     33\u001b[0m \u001b[0mfile_path\u001b[0m \u001b[0;34m=\u001b[0m \u001b[0;34m'/content/drive/MyDrive/2023-1st/New_folder5/test5.txt'\u001b[0m\u001b[0;34m\u001b[0m\u001b[0;34m\u001b[0m\u001b[0m\n\u001b[1;32m     34\u001b[0m \u001b[0;32mwith\u001b[0m \u001b[0mopen\u001b[0m\u001b[0;34m(\u001b[0m\u001b[0mos\u001b[0m\u001b[0;34m.\u001b[0m\u001b[0mpath\u001b[0m\u001b[0;34m.\u001b[0m\u001b[0mjoin\u001b[0m\u001b[0;34m(\u001b[0m\u001b[0mfile_path\u001b[0m\u001b[0;34m)\u001b[0m\u001b[0;34m,\u001b[0m \u001b[0;34m'w'\u001b[0m\u001b[0;34m)\u001b[0m \u001b[0;32mas\u001b[0m \u001b[0mf\u001b[0m\u001b[0;34m:\u001b[0m\u001b[0;34m\u001b[0m\u001b[0;34m\u001b[0m\u001b[0m\n",
            "\u001b[0;31mFileExistsError\u001b[0m: [Errno 17] File exists: 'New_folder5'"
          ]
        }
      ]
    },
    {
      "cell_type": "code",
      "source": [
        "#module: urllib 모듈\n",
        "from urllib import request\n",
        "\n",
        "#urlopen()함수로 링크 열기\n",
        "target = request.urlopen('https://google.com')\n",
        "output = target.read()\n",
        "print(output)"
      ],
      "metadata": {
        "colab": {
          "base_uri": "https://localhost:8080/"
        },
        "id": "8bJpGMJXoeAj",
        "outputId": "f815c388-8a65-498a-a70d-b4a95fd45e3f"
      },
      "execution_count": 29,
      "outputs": [
        {
          "output_type": "stream",
          "name": "stdout",
          "text": [
            "b'<!doctype html><html itemscope=\"\" itemtype=\"http://schema.org/WebPage\" lang=\"nl\"><head><meta content=\"text/html; charset=UTF-8\" http-equiv=\"Content-Type\"><meta content=\"/images/branding/googleg/1x/googleg_standard_color_128dp.png\" itemprop=\"image\"><title>Google</title><script nonce=\"n9YahNq_Qq-_0q4pvQTn6g\">(function(){var _g={kEI:\\'o4VvZN6nHanjkgX7qYPoAw\\',kEXPI:\\'0,18167,1341242,6059,206,4804,896,1420,383,246,5,1129120,1704,1196070,117,303071,77529,16114,28684,22430,1362,12311,17588,4998,15066,2009,38444,889,1983,2891,3926,7828,606,58287,2403,2614,3783,9708,230,20583,4,1528,2304,38934,3191,13660,4437,9357,7429,5809,2548,4094,7596,1,42157,2,14019,2558,23181,5679,1020,31122,4569,6258,17111,6307,1252,5835,14968,4332,5017,2467,11407,15675,8155,7381,15970,872,19634,7,1922,5608,4173,22897,19560,252,1755,18191,5797,8,14428,20206,3370,5007,18988,5375,3030,6111,9705,1804,7760,2712,2276,608,142,308,2047,215,4944,3537,8548,1896,275,1542,7245,3027,342,1290,2484,3323,2,2141,5911,1128,7344,1188,98,1109,1974,2129,1227,278,2937,552,128,658,2,452,598,281,2544,3,1085,4671,940,600,1068,8,3,13,289,824,268,819,1980,440,643,227,100,36,214,51,135,807,1099,372,1023,174,24,535,20,531,1448,5200621,13,6217,50,557,45,4,81,2,8798154,3311,141,795,19736,1,298,48,5997,99,96,5,8,7,8,1,6,8,21,13,85,90,20724021,3220019,397,182,4041564,1964,16673,2893,6250,14715,5173,1720,747,1408441,260490,23499456,6,84,94,134,1568,2,1292,292,767,1913,5,195,455,2982,180,1,571,146,1436,501,74,428,1365,13,327,8,3,316,627,55,41,497,122,60,84,135,351,123,144,207,759,451,9,113,218,506,13,49,61,107,321,5,334,656,1342,246,569,154,683,62,428,347,37,247,319,906,37,199,167,20,61,2,540,5,308,352,298,40,151,397,1144,34,811,48,130,166,2,1012,2,2,428,182\\',kBL:\\'Pz-6\\',kOPI:89978449};if (!window.google || !window.google.stvsc){window.google = _g;}\\n})();(function(){google.sn=\\'webhp\\';google.kHL=\\'nl\\';})();(function(){\\nvar h=this||self;function l(){return void 0!==window.google&&void 0!==window.google.kOPI&&0!==window.google.kOPI?window.google.kOPI:null};var m,n=[];function p(a){for(var b;a&&(!a.getAttribute||!(b=a.getAttribute(\"eid\")));)a=a.parentNode;return b||m}function q(a){for(var b=null;a&&(!a.getAttribute||!(b=a.getAttribute(\"leid\")));)a=a.parentNode;return b}function r(a){/^http:/i.test(a)&&\"https:\"===window.location.protocol&&(google.ml&&google.ml(Error(\"a\"),!1,{src:a,glmm:1}),a=\"\");return a}\\nfunction t(a,b,c,d,k){var e=\"\";-1===b.search(\"&ei=\")&&(e=\"&ei=\"+p(d),-1===b.search(\"&lei=\")&&(d=q(d))&&(e+=\"&lei=\"+d));d=\"\";var g=-1===b.search(\"&cshid=\")&&\"slh\"!==a,f=[];f.push([\"zx\",Date.now().toString()]);h._cshid&&g&&f.push([\"cshid\",h._cshid]);c=c();null!=c&&f.push([\"opi\",c.toString()]);for(c=0;c<f.length;c++){if(0===c||0<c)d+=\"&\";d+=f[c][0]+\"=\"+f[c][1]}return\"/\"+(k||\"gen_204\")+\"?atyp=i&ct=\"+String(a)+\"&cad=\"+(b+e+d)};m=google.kEI;google.getEI=p;google.getLEI=q;google.ml=function(){return null};google.log=function(a,b,c,d,k,e){e=void 0===e?l:e;c||(c=t(a,b,e,d,k));if(c=r(c)){a=new Image;var g=n.length;n[g]=a;a.onerror=a.onload=a.onabort=function(){delete n[g]};a.src=c}};google.logUrl=function(a,b){b=void 0===b?l:b;return t(\"\",a,b)};}).call(this);(function(){google.y={};google.sy=[];google.x=function(a,b){if(a)var c=a.id;else{do c=Math.random();while(google.y[c])}google.y[c]=[a,b];return!1};google.sx=function(a){google.sy.push(a)};google.lm=[];google.plm=function(a){google.lm.push.apply(google.lm,a)};google.lq=[];google.load=function(a,b,c){google.lq.push([[a],b,c])};google.loadAll=function(a,b){google.lq.push([a,b])};google.bx=!1;google.lx=function(){};}).call(this);google.f={};(function(){\\ndocument.documentElement.addEventListener(\"submit\",function(b){var a;if(a=b.target){var c=a.getAttribute(\"data-submitfalse\");a=\"1\"===c||\"q\"===c&&!a.elements.q.value?!0:!1}else a=!1;a&&(b.preventDefault(),b.stopPropagation())},!0);document.documentElement.addEventListener(\"click\",function(b){var a;a:{for(a=b.target;a&&a!==document.documentElement;a=a.parentElement)if(\"A\"===a.tagName){a=\"1\"===a.getAttribute(\"data-nohref\");break a}a=!1}a&&b.preventDefault()},!0);}).call(this);</script><style>#gbar,#guser{font-size:13px;padding-top:1px !important;}#gbar{height:22px}#guser{padding-bottom:7px !important;text-align:right}.gbh,.gbd{border-top:1px solid #c9d7f1;font-size:1px}.gbh{height:0;position:absolute;top:24px;width:100%}@media all{.gb1{height:22px;margin-right:.5em;vertical-align:top}#gbar{float:left}}a.gb1,a.gb4{text-decoration:underline !important}a.gb1,a.gb4{color:#00c !important}.gbi .gb4{color:#dd8e27 !important}.gbf .gb4{color:#900 !important}\\n</style><style>body,td,a,p,.h{font-family:arial,sans-serif}body{margin:0;overflow-y:scroll}#gog{padding:3px 8px 0}td{line-height:.8em}.gac_m td{line-height:17px}form{margin-bottom:20px}.h{color:#1558d6}em{font-weight:bold;font-style:normal}.lst{height:25px;width:496px}.gsfi,.lst{font:18px arial,sans-serif}.gsfs{font:17px arial,sans-serif}.ds{display:inline-box;display:inline-block;margin:3px 0 4px;margin-left:4px}input{font-family:inherit}body{background:#fff;color:#000}a{color:#4b11a8;text-decoration:none}a:hover,a:active{text-decoration:underline}.fl a{color:#1558d6}a:visited{color:#4b11a8}.sblc{padding-top:5px}.sblc a{display:block;margin:2px 0;margin-left:13px;font-size:11px}.lsbb{background:#f8f9fa;border:solid 1px;border-color:#dadce0 #70757a #70757a #dadce0;height:30px}.lsbb{display:block}#WqQANb a{display:inline-block;margin:0 12px}.lsb{background:url(/images/nav_logo229.png) 0 -261px repeat-x;color:#000;border:none;cursor:pointer;height:30px;margin:0;outline:0;font:15px arial,sans-serif;vertical-align:top}.lsb:active{background:#dadce0}.lst:focus{outline:none}</style><script nonce=\"n9YahNq_Qq-_0q4pvQTn6g\">(function(){window.google.erd={jsr:1,bv:1800,de:true};\\nvar h=this||self;var k,l=null!=(k=h.mei)?k:1,n,p=null!=(n=h.sdo)?n:!0,q=0,r,t=google.erd,v=t.jsr;google.ml=function(a,b,d,m,e){e=void 0===e?2:e;b&&(r=a&&a.message);if(google.dl)return google.dl(a,e,d),null;if(0>v){window.console&&console.error(a,d);if(-2===v)throw a;b=!1}else b=!a||!a.message||\"Error loading script\"===a.message||q>=l&&!m?!1:!0;if(!b)return null;q++;d=d||{};b=encodeURIComponent;var c=\"/gen_204?atyp=i&ei=\"+b(google.kEI);google.kEXPI&&(c+=\"&jexpid=\"+b(google.kEXPI));c+=\"&srcpg=\"+b(google.sn)+\"&jsr=\"+b(t.jsr)+\"&bver=\"+b(t.bv);var f=a.lineNumber;void 0!==f&&(c+=\"&line=\"+f);var g=\\na.fileName;g&&(0<g.indexOf(\"-extension:/\")&&(e=3),c+=\"&script=\"+b(g),f&&g===window.location.href&&(f=document.documentElement.outerHTML.split(\"\\\\n\")[f],c+=\"&cad=\"+b(f?f.substring(0,300):\"No script found.\")));c+=\"&jsel=\"+e;for(var u in d)c+=\"&\",c+=b(u),c+=\"=\",c+=b(d[u]);c=c+\"&emsg=\"+b(a.name+\": \"+a.message);c=c+\"&jsst=\"+b(a.stack||\"N/A\");12288<=c.length&&(c=c.substr(0,12288));a=c;m||google.log(0,\"\",a);return a};window.onerror=function(a,b,d,m,e){r!==a&&(a=e instanceof Error?e:Error(a),void 0===d||\"lineNumber\"in a||(a.lineNumber=d),void 0===b||\"fileName\"in a||(a.fileName=b),google.ml(a,!1,void 0,!1,\"SyntaxError\"===a.name||\"SyntaxError\"===a.message.substring(0,11)||-1!==a.message.indexOf(\"Script error\")?3:0));r=null;p&&q>=l&&(window.onerror=null)};})();</script></head><body bgcolor=\"#fff\"><script nonce=\"n9YahNq_Qq-_0q4pvQTn6g\">(function(){var src=\\'/images/nav_logo229.png\\';var iesg=false;document.body.onload = function(){window.n && window.n();if (document.images){new Image().src=src;}\\nif (!iesg){document.f&&document.f.q.focus();document.gbqf&&document.gbqf.q.focus();}\\n}\\n})();</script><div id=\"mngb\"><div id=gbar><nobr><b class=gb1>Zoeken</b> <a class=gb1 href=\"https://www.google.nl/imghp?hl=nl&tab=wi\">Afbeeldingen</a> <a class=gb1 href=\"https://maps.google.nl/maps?hl=nl&tab=wl\">Maps</a> <a class=gb1 href=\"https://play.google.com/?hl=nl&tab=w8\">Play</a> <a class=gb1 href=\"https://www.youtube.com/?tab=w1\">YouTube</a> <a class=gb1 href=\"https://news.google.com/?tab=wn\">Nieuws</a> <a class=gb1 href=\"https://mail.google.com/mail/?tab=wm\">Gmail</a> <a class=gb1 href=\"https://drive.google.com/?tab=wo\">Drive</a> <a class=gb1 style=\"text-decoration:none\" href=\"https://www.google.nl/intl/nl/about/products?tab=wh\"><u>Meer</u> &raquo;</a></nobr></div><div id=guser width=100%><nobr><span id=gbn class=gbi></span><span id=gbf class=gbf></span><span id=gbe></span><a href=\"http://www.google.nl/history/optout?hl=nl\" class=gb4>Webgeschiedenis</a> | <a  href=\"/preferences?hl=nl\" class=gb4>Instellingen</a> | <a target=_top id=gb_70 href=\"https://accounts.google.com/ServiceLogin?hl=nl&passive=true&continue=https://www.google.com/&ec=GAZAAQ\" class=gb4>Inloggen</a></nobr></div><div class=gbh style=left:0></div><div class=gbh style=right:0></div></div><center><br clear=\"all\" id=\"lgpd\"><div id=\"lga\"><img alt=\"Google\" height=\"92\" src=\"/images/branding/googlelogo/1x/googlelogo_white_background_color_272x92dp.png\" style=\"padding:28px 0 14px\" width=\"272\" id=\"hplogo\"><br><br></div><form action=\"/search\" name=\"f\"><table cellpadding=\"0\" cellspacing=\"0\"><tr valign=\"top\"><td width=\"25%\">&nbsp;</td><td align=\"center\" nowrap=\"\"><input name=\"ie\" value=\"ISO-8859-1\" type=\"hidden\"><input value=\"nl\" name=\"hl\" type=\"hidden\"><input name=\"source\" type=\"hidden\" value=\"hp\"><input name=\"biw\" type=\"hidden\"><input name=\"bih\" type=\"hidden\"><div class=\"ds\" style=\"height:32px;margin:4px 0\"><input class=\"lst\" style=\"margin:0;padding:5px 8px 0 6px;vertical-align:top;color:#000\" autocomplete=\"off\" value=\"\" title=\"Google Zoeken\" maxlength=\"2048\" name=\"q\" size=\"57\"></div><br style=\"line-height:0\"><span class=\"ds\"><span class=\"lsbb\"><input class=\"lsb\" value=\"Google Zoeken\" name=\"btnG\" type=\"submit\"></span></span><span class=\"ds\"><span class=\"lsbb\"><input class=\"lsb\" id=\"tsuid_1\" value=\"Ik doe een gok\" name=\"btnI\" type=\"submit\"><script nonce=\"n9YahNq_Qq-_0q4pvQTn6g\">(function(){var id=\\'tsuid_1\\';document.getElementById(id).onclick = function(){if (this.form.q.value){this.checked = 1;if (this.form.iflsig)this.form.iflsig.disabled = false;}\\nelse top.location=\\'/doodles/\\';};})();</script><input value=\"AOEireoAAAAAZG-Ts9swRepxQhFBZqdMOu6JhD-4ap8D\" name=\"iflsig\" type=\"hidden\"></span></span></td><td class=\"fl sblc\" align=\"left\" nowrap=\"\" width=\"25%\"><a href=\"/advanced_search?hl=nl&amp;authuser=0\">Geavanceerd zoeken</a></td></tr></table><input id=\"gbv\" name=\"gbv\" type=\"hidden\" value=\"1\"><script nonce=\"n9YahNq_Qq-_0q4pvQTn6g\">(function(){var a,b=\"1\";if(document&&document.getElementById)if(\"undefined\"!=typeof XMLHttpRequest)b=\"2\";else if(\"undefined\"!=typeof ActiveXObject){var c,d,e=[\"MSXML2.XMLHTTP.6.0\",\"MSXML2.XMLHTTP.3.0\",\"MSXML2.XMLHTTP\",\"Microsoft.XMLHTTP\"];for(c=0;d=e[c++];)try{new ActiveXObject(d),b=\"2\"}catch(h){}}a=b;if(\"2\"==a&&-1==location.search.indexOf(\"&gbv=2\")){var f=google.gbvu,g=document.getElementById(\"gbv\");g&&(g.value=a);f&&window.setTimeout(function(){location.href=f},0)};}).call(this);</script></form><div id=\"gac_scont\"></div><div style=\"font-size:83%;min-height:3.5em\"><br><div id=\"gws-output-pages-elements-homepage_additional_languages__als\"><style>#gws-output-pages-elements-homepage_additional_languages__als{font-size:small;margin-bottom:24px}#SIvCob{color:#3c4043;display:inline-block;line-height:28px;}#SIvCob a{padding:0 3px;}.H6sW5{display:inline-block;margin:0 2px;white-space:nowrap}.z4hgWe{display:inline-block;margin:0 2px}</style><div id=\"SIvCob\">Google aangeboden in:  <a href=\"https://www.google.com/setprefs?sig=0_q49ionrmxtACoFNv7QrVBGPO-gs%3D&amp;hl=fy&amp;source=homepage&amp;sa=X&amp;ved=0ahUKEwiehaeH65D_AhWpsaQKHfvUAD0Q2ZgBCAU\">Frysk</a>  </div></div></div><span id=\"footer\"><div style=\"font-size:10pt\"><div style=\"margin:19px auto;text-align:center\" id=\"WqQANb\"><a href=\"/intl/nl/ads/\">Adverteren</a><a href=\"http://www.google.nl/intl/nl/services/\">Bedrijfsoplossingen</a><a href=\"/intl/nl/about.html\">Alles over Google</a><a href=\"https://www.google.com/setprefdomain?prefdom=NL&amp;prev=https://www.google.nl/&amp;sig=K_NF7Wa5Yurp9bO0P_-mCDGw78FeY%3D\">Google.nl</a></div></div><p style=\"font-size:8pt;color:#70757a\">&copy; 2023 - <a href=\"/intl/nl/policies/privacy/\">Privacy</a> - <a href=\"/intl/nl/policies/terms/\">Voorwaarden</a></p></span></center><script nonce=\"n9YahNq_Qq-_0q4pvQTn6g\">(function(){window.google.cdo={height:757,width:1440};(function(){var a=window.innerWidth,b=window.innerHeight;if(!a||!b){var c=window.document,d=\"CSS1Compat\"==c.compatMode?c.documentElement:c.body;a=d.clientWidth;b=d.clientHeight}\\nif(a&&b&&(a!=google.cdo.width||b!=google.cdo.height)){var e=google,f=e.log,g=\"/client_204?&atyp=i&biw=\"+a+\"&bih=\"+b+\"&ei=\"+google.kEI,h=\"\",k=[],l=void 0!==window.google&&void 0!==window.google.kOPI&&0!==window.google.kOPI?window.google.kOPI:null;null!=l&&k.push([\"opi\",l.toString()]);for(var m=0;m<k.length;m++){if(0===m||0<m)h+=\"&\";h+=k[m][0]+\"=\"+k[m][1]}f.call(e,\"\",\"\",g+h)};}).call(this);})();</script> <script nonce=\"n9YahNq_Qq-_0q4pvQTn6g\">(function(){google.xjs={ck:\\'xjs.hp.t7rKxWS_HtE.L.X.O\\',cs:\\'ACT90oGfCEiiReskj8FK3tPtqQ27okzpvA\\',csss:\\'ACT90oGLqVKo5CQUMWi7lf55wckZgg5pqw\\',excm:[],sepcss:false};})();</script>  <script nonce=\"n9YahNq_Qq-_0q4pvQTn6g\">(function(){var u=\\'/xjs/_/js/k\\\\x3dxjs.hp.en.AVR0hGrCVGs.O/am\\\\x3dAAAA6AQAUABgAQ/d\\\\x3d1/ed\\\\x3d1/rs\\\\x3dACT90oHCJdGcARzpNH4ZZe9SohhN4iV9sQ/m\\\\x3dsb_he,d\\';var amd=0;\\nvar e=this||self,f=function(c){return c};var g;var k=function(c){this.g=c};k.prototype.toString=function(){return this.g+\"\"};var m={};\\nfunction q(){var c=u,n=function(){};google.lx=google.stvsc?n:function(){google.timers&&google.timers.load&&google.tick&&google.tick(\"load\",\"xjsls\");var a=document;var b=\"SCRIPT\";\"application/xhtml+xml\"===a.contentType&&(b=b.toLowerCase());b=a.createElement(b);a=null===c?\"null\":void 0===c?\"undefined\":c;if(void 0===g){var d=null;var l=e.trustedTypes;if(l&&l.createPolicy){try{d=l.createPolicy(\"goog#html\",{createHTML:f,createScript:f,createScriptURL:f})}catch(r){e.console&&e.console.error(r.message)}g=\\nd}else g=d}a=(d=g)?d.createScriptURL(a):a;a=new k(a,m);b.src=a instanceof k&&a.constructor===k?a.g:\"type_error:TrustedResourceUrl\";var h,p;(h=(a=null==(p=(h=(b.ownerDocument&&b.ownerDocument.defaultView||window).document).querySelector)?void 0:p.call(h,\"script[nonce]\"))?a.nonce||a.getAttribute(\"nonce\")||\"\":\"\")&&b.setAttribute(\"nonce\",h);document.body.appendChild(b);google.psa=!0;google.lx=n};google.bx||google.lx()};google.xjsu=u;e._F_jsUrl=u;setTimeout(function(){0<amd?google.caft(function(){return q()},amd):q()},0);})();window._ = window._ || {};window._DumpException = _._DumpException = function(e){throw e;};window._s = window._s || {};_s._DumpException = _._DumpException;window._qs = window._qs || {};_qs._DumpException = _._DumpException;function _F_installCss(c){}\\n(function(){google.jl={blt:\\'none\\',chnk:0,dw:false,dwu:true,emtn:0,end:0,ico:false,ikb:0,ine:false,injs:\\'none\\',injt:0,injth:0,injv2:false,lls:\\'default\\',pdt:0,rep:0,snet:true,strt:0,ubm:false,uwp:true};})();(function(){var pmc=\\'{\\\\x22d\\\\x22:{},\\\\x22sb_he\\\\x22:{\\\\x22agen\\\\x22:true,\\\\x22cgen\\\\x22:true,\\\\x22client\\\\x22:\\\\x22heirloom-hp\\\\x22,\\\\x22dh\\\\x22:true,\\\\x22ds\\\\x22:\\\\x22\\\\x22,\\\\x22fl\\\\x22:true,\\\\x22host\\\\x22:\\\\x22google.com\\\\x22,\\\\x22jsonp\\\\x22:true,\\\\x22msgs\\\\x22:{\\\\x22cibl\\\\x22:\\\\x22Zoekopdracht wissen\\\\x22,\\\\x22dym\\\\x22:\\\\x22Bedoelde je:\\\\x22,\\\\x22lcky\\\\x22:\\\\x22Ik doe een gok\\\\x22,\\\\x22lml\\\\x22:\\\\x22Meer informatie\\\\x22,\\\\x22psrc\\\\x22:\\\\x22Deze zoekopdracht is verwijderd uit je \\\\\\\\u003Ca href\\\\x3d\\\\\\\\\\\\x22/history\\\\\\\\\\\\x22\\\\\\\\u003EWebgeschiedenis\\\\\\\\u003C/a\\\\\\\\u003E\\\\x22,\\\\x22psrl\\\\x22:\\\\x22Verwijderen\\\\x22,\\\\x22sbit\\\\x22:\\\\x22Zoeken op afbeelding\\\\x22,\\\\x22srch\\\\x22:\\\\x22Google Zoeken\\\\x22},\\\\x22ovr\\\\x22:{},\\\\x22pq\\\\x22:\\\\x22\\\\x22,\\\\x22rfs\\\\x22:[],\\\\x22sbas\\\\x22:\\\\x220 3px 8px 0 rgba(0,0,0,0.2),0 0 0 1px rgba(0,0,0,0.08)\\\\x22,\\\\x22stok\\\\x22:\\\\x22ACkIlDajxwlwvT_ofUGIxKZGwpk\\\\x22}}\\';google.pmc=JSON.parse(pmc);})();(function(){\\nvar b=function(a){var c=0;return function(){return c<a.length?{done:!1,value:a[c++]}:{done:!0}}},e=this||self;var g,h;a:{for(var k=[\"CLOSURE_FLAGS\"],l=e,n=0;n<k.length;n++)if(l=l[k[n]],null==l){h=null;break a}h=l}var p=h&&h[610401301];g=null!=p?p:!1;var q,r=e.navigator;q=r?r.userAgentData||null:null;function t(a){return g?q?q.brands.some(function(c){return(c=c.brand)&&-1!=c.indexOf(a)}):!1:!1}function u(a){var c;a:{if(c=e.navigator)if(c=c.userAgent)break a;c=\"\"}return-1!=c.indexOf(a)};function v(){return g?!!q&&0<q.brands.length:!1}function w(){return u(\"Safari\")&&!(x()||(v()?0:u(\"Coast\"))||(v()?0:u(\"Opera\"))||(v()?0:u(\"Edge\"))||(v()?t(\"Microsoft Edge\"):u(\"Edg/\"))||(v()?t(\"Opera\"):u(\"OPR\"))||u(\"Firefox\")||u(\"FxiOS\")||u(\"Silk\")||u(\"Android\"))}function x(){return v()?t(\"Chromium\"):(u(\"Chrome\")||u(\"CriOS\"))&&!(v()?0:u(\"Edge\"))||u(\"Silk\")}function y(){return u(\"Android\")&&!(x()||u(\"Firefox\")||u(\"FxiOS\")||(v()?0:u(\"Opera\"))||u(\"Silk\"))};var z=v()?!1:u(\"Trident\")||u(\"MSIE\");y();x();w();var A=!z&&!w(),D=function(a){if(/-[a-z]/.test(\"ved\"))return null;if(A&&a.dataset){if(y()&&!(\"ved\"in a.dataset))return null;a=a.dataset.ved;return void 0===a?null:a}return a.getAttribute(\"data-\"+\"ved\".replace(/([A-Z])/g,\"-$1\").toLowerCase())};var E=[],F=null;function G(a){a=a.target;var c=performance.now(),f=[],H=f.concat,d=E;if(!(d instanceof Array)){var m=\"undefined\"!=typeof Symbol&&Symbol.iterator&&d[Symbol.iterator];if(m)d=m.call(d);else if(\"number\"==typeof d.length)d={next:b(d)};else throw Error(\"a`\"+String(d));for(var B=[];!(m=d.next()).done;)B.push(m.value);d=B}E=H.call(f,d,[c]);if(a&&a instanceof HTMLElement)if(a===F){if(c=4<=E.length)c=5>(E[E.length-1]-E[E.length-4])/1E3;if(c){c=google.getEI(a);a.hasAttribute(\"data-ved\")?f=a?D(a)||\"\":\"\":f=(f=\\na.closest(\"[data-ved]\"))?D(f)||\"\":\"\";f=f||\"\";if(a.hasAttribute(\"jsname\"))a=a.getAttribute(\"jsname\");else{var C;a=null==(C=a.closest(\"[jsname]\"))?void 0:C.getAttribute(\"jsname\")}google.log(\"rcm\",\"&ei=\"+c+\"&ved=\"+f+\"&jsname=\"+(a||\"\"))}}else F=a,E=[c]}window.document.addEventListener(\"DOMContentLoaded\",function(){document.body.addEventListener(\"click\",G)});}).call(this);</script></body></html>'\n"
          ]
        }
      ]
    },
    {
      "cell_type": "code",
      "source": [
        "#BeautifulSoup\n",
        "#Beautiful Soup is Python library for pulling data\n",
        "#out of HTML and XML files\n",
        "\n",
        "from urllib import request\n",
        "from bs4 import BeautifulSoup\n",
        "\n",
        "#urlopen() 함수로 기상청의 전국날씨 읽기\n",
        "target = request.urlopen('https://www.kma.go.kr/weather/forecast/mid-term-rss3.jsp?stnld=108')\n",
        "\n",
        "#BeautifulSoup을 사용해 웹페이지를 분석 (parser: 문장의 구조 분석·오류 점검 프로그램)\n",
        "soup = BeautifulSoup(target, 'html.parser')\n",
        "\n",
        "#location 태그를 찾음 / select() 함수는 여러개를 선택 / select_one() 함수는 원하는 값을 추출\n",
        "for location in soup.select('location'):\n",
        "  print('도시:', location.select_one('city').string)\n",
        "  print('날씨:', location.select_one('wf').string)\n",
        "  print('최저기온:', location.select_one('tmn').string)\n",
        "  print('최고기온:', location.select_one('tmx').string)\n",
        "  print()"
      ],
      "metadata": {
        "colab": {
          "base_uri": "https://localhost:8080/"
        },
        "id": "PSBL251HogMP",
        "outputId": "8d8c2656-bbb4-4903-8ec3-77ba0a5568e9"
      },
      "execution_count": 30,
      "outputs": [
        {
          "output_type": "stream",
          "name": "stderr",
          "text": [
            "/usr/local/lib/python3.10/dist-packages/bs4/builder/__init__.py:545: XMLParsedAsHTMLWarning: It looks like you're parsing an XML document using an HTML parser. If this really is an HTML document (maybe it's XHTML?), you can ignore or filter this warning. If it's XML, you should know that using an XML parser will be more reliable. To parse this document as XML, make sure you have the lxml package installed, and pass the keyword argument `features=\"xml\"` into the BeautifulSoup constructor.\n",
            "  warnings.warn(\n"
          ]
        },
        {
          "output_type": "stream",
          "name": "stdout",
          "text": [
            "도시: 서울\n",
            "날씨: 흐리고 비\n",
            "최저기온: 18\n",
            "최고기온: 23\n",
            "\n",
            "도시: 인천\n",
            "날씨: 흐리고 비\n",
            "최저기온: 18\n",
            "최고기온: 22\n",
            "\n",
            "도시: 수원\n",
            "날씨: 흐리고 비\n",
            "최저기온: 18\n",
            "최고기온: 23\n",
            "\n",
            "도시: 파주\n",
            "날씨: 흐리고 비\n",
            "최저기온: 17\n",
            "최고기온: 23\n",
            "\n",
            "도시: 이천\n",
            "날씨: 흐리고 비\n",
            "최저기온: 18\n",
            "최고기온: 24\n",
            "\n",
            "도시: 평택\n",
            "날씨: 흐리고 비\n",
            "최저기온: 19\n",
            "최고기온: 25\n",
            "\n",
            "도시: 춘천\n",
            "날씨: 흐리고 비\n",
            "최저기온: 18\n",
            "최고기온: 23\n",
            "\n",
            "도시: 원주\n",
            "날씨: 흐리고 비\n",
            "최저기온: 18\n",
            "최고기온: 23\n",
            "\n",
            "도시: 강릉\n",
            "날씨: 흐리고 비\n",
            "최저기온: 20\n",
            "최고기온: 24\n",
            "\n",
            "도시: 대전\n",
            "날씨: 흐리고 비\n",
            "최저기온: 18\n",
            "최고기온: 24\n",
            "\n",
            "도시: 세종\n",
            "날씨: 흐리고 비\n",
            "최저기온: 18\n",
            "최고기온: 25\n",
            "\n",
            "도시: 홍성\n",
            "날씨: 흐리고 비\n",
            "최저기온: 18\n",
            "최고기온: 24\n",
            "\n",
            "도시: 청주\n",
            "날씨: 흐리고 비\n",
            "최저기온: 19\n",
            "최고기온: 25\n",
            "\n",
            "도시: 충주\n",
            "날씨: 흐리고 비\n",
            "최저기온: 17\n",
            "최고기온: 24\n",
            "\n",
            "도시: 영동\n",
            "날씨: 흐리고 비\n",
            "최저기온: 16\n",
            "최고기온: 25\n",
            "\n",
            "도시: 광주\n",
            "날씨: 흐리고 비\n",
            "최저기온: 19\n",
            "최고기온: 25\n",
            "\n",
            "도시: 목포\n",
            "날씨: 흐리고 비\n",
            "최저기온: 19\n",
            "최고기온: 23\n",
            "\n",
            "도시: 여수\n",
            "날씨: 흐리고 비\n",
            "최저기온: 18\n",
            "최고기온: 22\n",
            "\n",
            "도시: 순천\n",
            "날씨: 흐리고 비\n",
            "최저기온: 18\n",
            "최고기온: 22\n",
            "\n",
            "도시: 광양\n",
            "날씨: 흐리고 비\n",
            "최저기온: 18\n",
            "최고기온: 22\n",
            "\n",
            "도시: 나주\n",
            "날씨: 흐리고 비\n",
            "최저기온: 19\n",
            "최고기온: 23\n",
            "\n",
            "도시: 전주\n",
            "날씨: 흐리고 비\n",
            "최저기온: 19\n",
            "최고기온: 24\n",
            "\n",
            "도시: 군산\n",
            "날씨: 흐리고 비\n",
            "최저기온: 19\n",
            "최고기온: 24\n",
            "\n",
            "도시: 정읍\n",
            "날씨: 흐리고 비\n",
            "최저기온: 18\n",
            "최고기온: 24\n",
            "\n",
            "도시: 남원\n",
            "날씨: 흐리고 비\n",
            "최저기온: 18\n",
            "최고기온: 24\n",
            "\n",
            "도시: 고창\n",
            "날씨: 흐리고 비\n",
            "최저기온: 19\n",
            "최고기온: 24\n",
            "\n",
            "도시: 무주\n",
            "날씨: 흐리고 비\n",
            "최저기온: 16\n",
            "최고기온: 24\n",
            "\n",
            "도시: 부산\n",
            "날씨: 흐림\n",
            "최저기온: 18\n",
            "최고기온: 23\n",
            "\n",
            "도시: 울산\n",
            "날씨: 흐림\n",
            "최저기온: 17\n",
            "최고기온: 24\n",
            "\n",
            "도시: 창원\n",
            "날씨: 흐림\n",
            "최저기온: 17\n",
            "최고기온: 23\n",
            "\n",
            "도시: 진주\n",
            "날씨: 흐림\n",
            "최저기온: 17\n",
            "최고기온: 23\n",
            "\n",
            "도시: 거창\n",
            "날씨: 흐림\n",
            "최저기온: 16\n",
            "최고기온: 23\n",
            "\n",
            "도시: 통영\n",
            "날씨: 흐림\n",
            "최저기온: 17\n",
            "최고기온: 22\n",
            "\n",
            "도시: 대구\n",
            "날씨: 흐림\n",
            "최저기온: 18\n",
            "최고기온: 24\n",
            "\n",
            "도시: 안동\n",
            "날씨: 흐림\n",
            "최저기온: 17\n",
            "최고기온: 25\n",
            "\n",
            "도시: 포항\n",
            "날씨: 흐림\n",
            "최저기온: 19\n",
            "최고기온: 24\n",
            "\n",
            "도시: 경주\n",
            "날씨: 흐림\n",
            "최저기온: 17\n",
            "최고기온: 23\n",
            "\n",
            "도시: 울진\n",
            "날씨: 흐림\n",
            "최저기온: 17\n",
            "최고기온: 22\n",
            "\n",
            "도시: 울릉도\n",
            "날씨: 흐림\n",
            "최저기온: 17\n",
            "최고기온: 21\n",
            "\n",
            "도시: 제주\n",
            "날씨: 흐리고 비\n",
            "최저기온: 19\n",
            "최고기온: 25\n",
            "\n",
            "도시: 서귀포\n",
            "날씨: 흐리고 비\n",
            "최저기온: 19\n",
            "최고기온: 22\n",
            "\n"
          ]
        }
      ]
    },
    {
      "cell_type": "code",
      "source": [
        "import csv\n",
        "\n",
        "data = []\n",
        "keys = ['도시', '날씨', '최저기온', '최고기온']\n",
        "data.append(keys)\n",
        "\n",
        "for location in soup.select('location'):\n",
        "  row = []\n",
        "  row.append(location.select_one('city').string)\n",
        "  row.append(location.select_one('wf').string)\n",
        "  row.append(location.select_one('tmn').string)\n",
        "  row.append(location.select_one('tmx').string)\n",
        "  data.append(row)\n",
        "\n",
        "f = open('kma.csv', 'w')\n",
        "g = csv.writer(f)\n",
        "g.writerows(data)\n",
        "f.close()"
      ],
      "metadata": {
        "id": "_EnjPreKoiB7"
      },
      "execution_count": 31,
      "outputs": []
    },
    {
      "cell_type": "code",
      "source": [
        "#module: os\n",
        "#colab에서 google drive와 연결\n",
        "from google.colab import drive\n",
        "drive.mount('/content/drive')\n",
        "\n",
        "import os\n",
        "os.chdir('/content/drive/MyDrive/2023-1st/')"
      ],
      "metadata": {
        "colab": {
          "base_uri": "https://localhost:8080/"
        },
        "id": "ZcE18ZYookVs",
        "outputId": "70f25bb3-54d3-4d19-ccf3-f8884e2a2988"
      },
      "execution_count": 32,
      "outputs": [
        {
          "output_type": "stream",
          "name": "stdout",
          "text": [
            "Drive already mounted at /content/drive; to attempt to forcibly remount, call drive.mount(\"/content/drive\", force_remount=True).\n"
          ]
        }
      ]
    },
    {
      "cell_type": "code",
      "source": [
        "#오류(error):\n",
        "#a.프로그램 실행 전에 발생하는 오류 → 구문 오류 → 프로그램 자체가 실행되지 않음\n",
        "#b.프로그램 실행 후에 발생하는 오류 → 예외/런타임 오류\n",
        "print('프로그램이 시작되었습니다.')\n",
        "A = [1,2,3]\n",
        "A[1]"
      ],
      "metadata": {
        "colab": {
          "base_uri": "https://localhost:8080/"
        },
        "id": "kHRWceFtolc9",
        "outputId": "75095e01-a780-4d8a-ef0c-83b066a5ba4a"
      },
      "execution_count": 33,
      "outputs": [
        {
          "output_type": "stream",
          "name": "stdout",
          "text": [
            "프로그램이 시작되었습니다.\n"
          ]
        },
        {
          "output_type": "execute_result",
          "data": {
            "text/plain": [
              "2"
            ]
          },
          "metadata": {},
          "execution_count": 33
        }
      ]
    },
    {
      "cell_type": "code",
      "source": [
        "#예외를 처리하는 방법: 조건문을 사용 또는 try 구문 사용\n",
        "#조건문 사용:\n",
        "user_input = input('정수 입력: ')\n",
        "num_input = int(user_input)\n",
        "print('원의 둘레:', 2*3.14*num_input)\n",
        "\n",
        "user_input = input('정수 입력:')\n",
        "if user_input.isdigit():\n",
        "  num_input = int(user_input)\n",
        "  print('원의 둘레:', 2*3.14*num_input)\n",
        "else:\n",
        "  print('정수를 입력하지 않았습니다.')"
      ],
      "metadata": {
        "colab": {
          "base_uri": "https://localhost:8080/"
        },
        "id": "fASiTsbKooPe",
        "outputId": "d7c941d5-9ac1-43b0-cf50-b8336633a8ff"
      },
      "execution_count": 34,
      "outputs": [
        {
          "output_type": "stream",
          "name": "stdout",
          "text": [
            "정수 입력: 3\n",
            "원의 둘레: 18.84\n",
            "정수 입력:0\n",
            "원의 둘레: 0.0\n"
          ]
        }
      ]
    },
    {
      "cell_type": "code",
      "source": [
        "# 프로그램을 작성할때 항상 예외적인 상황까지 모두 생각하는 게 좋음 \n",
        "# 조건문처럼 예외가 발생할 모든 상황을 예측하기 쉽지 않음\n",
        "# => try/ except 구문을 사용!\n",
        "# try:\n",
        "#   예외가 발생할 가능성이 있는 코드\n",
        "# except:\n",
        "#   예외가 발생했을 때 실행할 코드\n",
        "\n",
        "try:\n",
        "  user_input = input('정수 입력:')\n",
        "  num_input = int(user_input)\n",
        "  print('원의 둘레:', 2*3.14*num_input)\n",
        "except:\n",
        "  print('정수를 입력하지 않았습니다.')"
      ],
      "metadata": {
        "colab": {
          "base_uri": "https://localhost:8080/"
        },
        "id": "HpDPmsHcopyG",
        "outputId": "95755149-3cc3-44af-c29d-90bdbbd5ec41"
      },
      "execution_count": 35,
      "outputs": [
        {
          "output_type": "stream",
          "name": "stdout",
          "text": [
            "정수 입력:3\n",
            "원의 둘레: 18.84\n"
          ]
        }
      ]
    },
    {
      "cell_type": "code",
      "source": [
        "# try:\n",
        "#   예외가 발생할 가능성이 있는 코드\n",
        "# except:\n",
        "#   예외가 발생했을 때 실행할 코드\n",
        "# else:\n",
        "#  예외가 발생하지 않았을때 실행할 코드 \n",
        "try:\n",
        "  user_input = input('정수 입력:')\n",
        "  num_input = int(user_input)\n",
        "except:\n",
        "  print('정수를 입력하지 않았습니다.')\n",
        "else:\n",
        "  print('원의 둘레:', 2*3.14*num_input)"
      ],
      "metadata": {
        "colab": {
          "base_uri": "https://localhost:8080/"
        },
        "id": "V2istcqDosMY",
        "outputId": "2d0a75f5-7459-48e5-a69a-70d74ed40474"
      },
      "execution_count": 36,
      "outputs": [
        {
          "output_type": "stream",
          "name": "stdout",
          "text": [
            "정수 입력:0\n",
            "원의 둘레: 0.0\n"
          ]
        }
      ]
    },
    {
      "cell_type": "code",
      "source": [
        "# try:\n",
        "#   예외가 발생할 가능성이 있는 코드\n",
        "# except:\n",
        "#   예외가 발생했을 때 실행할 코드\n",
        "# else:\n",
        "#  예외가 발생하지 않았을때 실행할 코드 \n",
        "# finally:\n",
        "# 무조건 실행할 코드\n",
        "\n",
        "try:\n",
        "  user_input = input('정수 입력:')\n",
        "  num_input = int(user_input)\n",
        "except:\n",
        "  print('정수를 입력하지 않았습니다.')\n",
        "else:\n",
        "  print('원의 둘레:', 2*3.14*num_input)\n",
        "finally:\n",
        "  print('예외이든 아니든 코딩을 마치겠음')"
      ],
      "metadata": {
        "colab": {
          "base_uri": "https://localhost:8080/"
        },
        "id": "EYxftEzSov4X",
        "outputId": "016fb1d2-a94e-4444-ef38-b2c8bd20e1b6"
      },
      "execution_count": 37,
      "outputs": [
        {
          "output_type": "stream",
          "name": "stdout",
          "text": [
            "정수 입력:3.14\n",
            "정수를 입력하지 않았습니다.\n",
            "예외이든 아니든 코딩을 마치겠음\n"
          ]
        }
      ]
    },
    {
      "cell_type": "code",
      "source": [
        "#Exercise\n",
        "#input함수를 써서 어떤 숫자를 입력받고, a가 정수이면 a^2+4를 계산하고,\n",
        "#정수가 아니면 '숫자가 아닙니다'를 프린트하게끔 try/except/else\n",
        "#써서 코딩하여라. Finally 구문을 추가하여 '정수든 아니든 코딩을 마치겠음'을 추가하세요.\n",
        "\n",
        "try:\n",
        "  A = input('숫자 입력: ')\n",
        "  a = int(A)\n",
        "except:\n",
        "  print('정수가 아닙니다.')\n",
        "else:\n",
        "  print('정수입니다. a^2+4 =', a**2+4)\n",
        "finally:\n",
        "  print('정수든 아니든 코딩을 마치겠음')"
      ],
      "metadata": {
        "colab": {
          "base_uri": "https://localhost:8080/"
        },
        "id": "BN6X3rNvoxmu",
        "outputId": "0e2bdb14-310b-402b-f3c8-6b201e827bc9"
      },
      "execution_count": 38,
      "outputs": [
        {
          "output_type": "stream",
          "name": "stdout",
          "text": [
            "숫자 입력: 3.5\n",
            "정수가 아닙니다.\n",
            "정수든 아니든 코딩을 마치겠음\n"
          ]
        }
      ]
    },
    {
      "cell_type": "code",
      "source": [
        "# try:\n",
        "#   예외가 발생할 가능성이 있는 코드\n",
        "# except 예외의 종류 as 변수:\n",
        "#   예외가 발생했을 때 실행할 구문\n",
        "user_input = input('정수 입력: ')\n",
        "num_input = int(user_input)\n",
        "print('원의 둘레', 2*3.14*num_input)\n",
        "#얘는 에러가 나면 멈춤\n",
        "\n",
        "try:\n",
        "  user_input = input('정수 입력: ')\n",
        "  num_input = int(user_input)\n",
        "  print('원의 둘레:', 2*3.14*num_input)\n",
        "except Exception as e:\n",
        "  print(type(e), e)\n",
        "#<class 'ValueError'>\n",
        "#얘는 에러가 나면 일단 뒤도 실행하고 어디가 잘못됐는지 알려줌"
      ],
      "metadata": {
        "colab": {
          "base_uri": "https://localhost:8080/",
          "height": 263
        },
        "id": "n_nPHqv9ozfS",
        "outputId": "0cdfd203-4b9a-41cb-ae7e-f1752b60558a"
      },
      "execution_count": 39,
      "outputs": [
        {
          "name": "stdout",
          "output_type": "stream",
          "text": [
            "정수 입력: 3.5\n"
          ]
        },
        {
          "output_type": "error",
          "ename": "ValueError",
          "evalue": "ignored",
          "traceback": [
            "\u001b[0;31m---------------------------------------------------------------------------\u001b[0m",
            "\u001b[0;31mValueError\u001b[0m                                Traceback (most recent call last)",
            "\u001b[0;32m<ipython-input-39-deacd3ea758f>\u001b[0m in \u001b[0;36m<cell line: 6>\u001b[0;34m()\u001b[0m\n\u001b[1;32m      4\u001b[0m \u001b[0;31m#   예외가 발생했을 때 실행할 구문\u001b[0m\u001b[0;34m\u001b[0m\u001b[0;34m\u001b[0m\u001b[0m\n\u001b[1;32m      5\u001b[0m \u001b[0muser_input\u001b[0m \u001b[0;34m=\u001b[0m \u001b[0minput\u001b[0m\u001b[0;34m(\u001b[0m\u001b[0;34m'정수 입력: '\u001b[0m\u001b[0;34m)\u001b[0m\u001b[0;34m\u001b[0m\u001b[0;34m\u001b[0m\u001b[0m\n\u001b[0;32m----> 6\u001b[0;31m \u001b[0mnum_input\u001b[0m \u001b[0;34m=\u001b[0m \u001b[0mint\u001b[0m\u001b[0;34m(\u001b[0m\u001b[0muser_input\u001b[0m\u001b[0;34m)\u001b[0m\u001b[0;34m\u001b[0m\u001b[0;34m\u001b[0m\u001b[0m\n\u001b[0m\u001b[1;32m      7\u001b[0m \u001b[0mprint\u001b[0m\u001b[0;34m(\u001b[0m\u001b[0;34m'원의 둘레'\u001b[0m\u001b[0;34m,\u001b[0m \u001b[0;36m2\u001b[0m\u001b[0;34m*\u001b[0m\u001b[0;36m3.14\u001b[0m\u001b[0;34m*\u001b[0m\u001b[0mnum_input\u001b[0m\u001b[0;34m)\u001b[0m\u001b[0;34m\u001b[0m\u001b[0;34m\u001b[0m\u001b[0m\n\u001b[1;32m      8\u001b[0m \u001b[0;31m#얘는 에러가 나면 멈춤\u001b[0m\u001b[0;34m\u001b[0m\u001b[0;34m\u001b[0m\u001b[0m\n",
            "\u001b[0;31mValueError\u001b[0m: invalid literal for int() with base 10: '3.5'"
          ]
        }
      ]
    },
    {
      "cell_type": "code",
      "source": [
        "# 예제 -----------------------\n",
        "list_num = [52, 34, 31,100]\n",
        "num_input = int(input('정수 입력: '))\n",
        "print(f'{num_input}번째 요소: {list_num[num_input-1]}')\n",
        "\n",
        "try:\n",
        "  num_input = int(input('정수 입력: '))\n",
        "  print(f'{num_input}번째 요소: {list_num[num_input-1]}')\n",
        "except Exception as e:\n",
        "  print(type(e), e)\n",
        "\n",
        "#정수입력:3.14\n",
        "#<class 'ValueError'> invalid literal for int() with base 10: '3.14'\n",
        "#정수입력:5\n",
        "#<class 'IndexError'> list index out of range"
      ],
      "metadata": {
        "colab": {
          "base_uri": "https://localhost:8080/"
        },
        "id": "9A0G6lbro1rK",
        "outputId": "6227f572-2da9-459f-916b-82bb6669e9b6"
      },
      "execution_count": 40,
      "outputs": [
        {
          "output_type": "stream",
          "name": "stdout",
          "text": [
            "정수 입력: 3\n",
            "3번째 요소: 31\n",
            "정수 입력: 3.14\n",
            "<class 'ValueError'> invalid literal for int() with base 10: '3.14'\n"
          ]
        }
      ]
    },
    {
      "cell_type": "code",
      "source": [],
      "metadata": {
        "id": "og5uBARoo43S"
      },
      "execution_count": null,
      "outputs": []
    }
  ]
}