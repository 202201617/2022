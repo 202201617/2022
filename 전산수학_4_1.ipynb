{
  "nbformat": 4,
  "nbformat_minor": 0,
  "metadata": {
    "colab": {
      "provenance": [],
      "authorship_tag": "ABX9TyPJ5+WpOEb5Ndw8Sf8mSjnY",
      "include_colab_link": true
    },
    "kernelspec": {
      "name": "python3",
      "display_name": "Python 3"
    },
    "language_info": {
      "name": "python"
    }
  },
  "cells": [
    {
      "cell_type": "markdown",
      "metadata": {
        "id": "view-in-github",
        "colab_type": "text"
      },
      "source": [
        "<a href=\"https://colab.research.google.com/github/202201617/2022/blob/main/%EC%A0%84%EC%82%B0%EC%88%98%ED%95%99_4_1.ipynb\" target=\"_parent\"><img src=\"https://colab.research.google.com/assets/colab-badge.svg\" alt=\"Open In Colab\"/></a>"
      ]
    },
    {
      "cell_type": "code",
      "execution_count": null,
      "metadata": {
        "colab": {
          "base_uri": "https://localhost:8080/"
        },
        "id": "k_ZvuYCdHiIP",
        "outputId": "67f02019-b38f-4816-a4d8-78e56c879bdb"
      },
      "outputs": [
        {
          "output_type": "stream",
          "name": "stdout",
          "text": [
            "7\n",
            "7\n",
            "7\n"
          ]
        }
      ],
      "source": [
        "'''\n",
        "함수\n",
        "'''\n",
        "\n",
        "#함수 생성\n",
        "def A(a, b):\n",
        "  return a + b\n",
        "\n",
        "\n",
        "#함수 실행\n",
        "a = 3\n",
        "b = 4\n",
        "c = A(a, b)\n",
        "print(c)\n",
        "\n",
        "print(A(3, 4))\n",
        "\n",
        "c = A(a=3,  b=4)\n",
        "print(c)"
      ]
    },
    {
      "cell_type": "code",
      "source": [
        "#입력값이 없는 함수\n",
        "def B():\n",
        "  return 'hi'\n",
        "\n",
        "a = B()\n",
        "print(a)"
      ],
      "metadata": {
        "colab": {
          "base_uri": "https://localhost:8080/"
        },
        "id": "3Zp4JPstH8_k",
        "outputId": "e2774a04-b5c1-4afa-ed50-c0201ddc6490"
      },
      "execution_count": null,
      "outputs": [
        {
          "output_type": "stream",
          "name": "stdout",
          "text": [
            "hi\n"
          ]
        }
      ]
    },
    {
      "cell_type": "code",
      "source": [
        "#결과값이 없는 함수 (return이 없음)\n",
        "def C(a,b):\n",
        "  print(f'{a} + {b} = {a+b}')\n",
        "\n",
        "C(3, 4)\n",
        "\n",
        "c = C(3, 4)\n",
        "\n",
        "print(c) #non값이 나옴"
      ],
      "metadata": {
        "colab": {
          "base_uri": "https://localhost:8080/"
        },
        "id": "9dFAP7d6IsUZ",
        "outputId": "4d6c3ffb-875f-4285-ee71-61b31a3b86e1"
      },
      "execution_count": null,
      "outputs": [
        {
          "output_type": "stream",
          "name": "stdout",
          "text": [
            "3 + 4 = 7\n",
            "None\n"
          ]
        }
      ]
    },
    {
      "cell_type": "code",
      "source": [
        "#Exercise 1\n",
        "# f(x) = x^2 + 2x + 1에 대한 함수 만들고 f(10)값 구하기\n",
        "def f(x):\n",
        "  return x**2 + 2*x + 1\n",
        "\n",
        "f(10)"
      ],
      "metadata": {
        "colab": {
          "base_uri": "https://localhost:8080/"
        },
        "id": "zWgA95x4I9hh",
        "outputId": "805a8ac9-9d8a-42c7-839e-54829a945aea"
      },
      "execution_count": null,
      "outputs": [
        {
          "output_type": "execute_result",
          "data": {
            "text/plain": [
              "121"
            ]
          },
          "metadata": {},
          "execution_count": 6
        }
      ]
    },
    {
      "cell_type": "code",
      "source": [
        "#Exercise 2\n",
        "#입력값으로 자연수를 넣고 자연수가 홀수인지 짝수인지 판별해주는 함수 만들기\n",
        "def A(x):\n",
        "  if x%2 == 0:\n",
        "    c = '짝수입니다'\n",
        "  else:\n",
        "    c = '홀수입니다'\n",
        "  return c\n",
        "\n",
        "print(A(7))\n",
        "\n",
        "print(A(88))"
      ],
      "metadata": {
        "colab": {
          "base_uri": "https://localhost:8080/"
        },
        "id": "SCesStFMJcCh",
        "outputId": "1faad19b-6f6f-4509-9bd7-9989849ed40f"
      },
      "execution_count": null,
      "outputs": [
        {
          "output_type": "stream",
          "name": "stdout",
          "text": [
            "홀수입니다\n",
            "짝수입니다\n"
          ]
        }
      ]
    },
    {
      "cell_type": "code",
      "source": [
        "#Exercise 2\n",
        "#입력값으로 자연수를 넣고 자연수가 홀수인지 짝수인지 판별해주는 함수 만들기\n",
        "def A(x):\n",
        "  if x%2 == 0:\n",
        "    c = '%d는 짝수입니다'%x\n",
        "  else:\n",
        "    c = '%d는 홀수입니다'%x\n",
        "  print(c)\n",
        "\n",
        "A(7)\n",
        "A(10)"
      ],
      "metadata": {
        "colab": {
          "base_uri": "https://localhost:8080/"
        },
        "id": "DvS73Y1kJ1ai",
        "outputId": "34ae93a8-8bab-4ceb-a1b1-e2598ba5309e"
      },
      "execution_count": null,
      "outputs": [
        {
          "output_type": "stream",
          "name": "stdout",
          "text": [
            "7는 홀수입니다\n",
            "10는 짝수입니다\n"
          ]
        }
      ]
    },
    {
      "cell_type": "code",
      "source": [
        "#두 개의 값을 return\n",
        "def k(a, b):\n",
        "  return a+b, a*b\n",
        "\n",
        "result = k(3, 4)\n",
        "print(result)\n",
        "\n",
        "result1, result2 = k(3, 4)\n",
        "print(result1, result2)"
      ],
      "metadata": {
        "colab": {
          "base_uri": "https://localhost:8080/"
        },
        "id": "s2hLx716LMGw",
        "outputId": "682b7b6c-75c9-42a9-e803-72e3ccb97b6a"
      },
      "execution_count": null,
      "outputs": [
        {
          "output_type": "stream",
          "name": "stdout",
          "text": [
            "(7, 12)\n",
            "7 12\n"
          ]
        }
      ]
    },
    {
      "cell_type": "code",
      "source": [
        "def s(a):\n",
        "  if s == 'stupid':\n",
        "    return\n",
        "  print('My nickname is %s.'%a)\n",
        "\n",
        "s('wow')\n",
        "s('stupid')"
      ],
      "metadata": {
        "colab": {
          "base_uri": "https://localhost:8080/"
        },
        "id": "w6cGRKgoLhZw",
        "outputId": "649cf683-2eac-4beb-8608-17e03b224fd2"
      },
      "execution_count": null,
      "outputs": [
        {
          "output_type": "stream",
          "name": "stdout",
          "text": [
            "My nickname is wow.\n",
            "My nickname is stupid.\n"
          ]
        }
      ]
    },
    {
      "cell_type": "code",
      "source": [
        "#가변매개변수를 받는 함수\n",
        "def m(*args):\n",
        "  sum = 0\n",
        "  for i in args:\n",
        "    sum += i\n",
        "  return sum\n",
        "\n",
        "result = m(1, 2, 3)\n",
        "print(result)\n",
        "\n",
        "result2 = m(1, 2, 3, 4, 5, 6, 7, 8, 9)\n",
        "print(result2)"
      ],
      "metadata": {
        "colab": {
          "base_uri": "https://localhost:8080/"
        },
        "id": "sHmTunsLN6m3",
        "outputId": "485b8938-af4e-44a6-ccce-a8beb958f797"
      },
      "execution_count": null,
      "outputs": [
        {
          "output_type": "stream",
          "name": "stdout",
          "text": [
            "6\n",
            "45\n"
          ]
        }
      ]
    },
    {
      "cell_type": "code",
      "source": [
        "#Exercise 1\n",
        "#전달한 값들을 모두 곱해서 리턴하는 함수 mul을 만든 후 mul(1, 2, 3, 4, 5, 6, 7, 8, 9)\n",
        "def mul(*args):\n",
        "  total = 1\n",
        "  for i in args:\n",
        "    total *= i\n",
        "  print(total)\n",
        "\n",
        "mul(1, 2, 3, 4, 5, 6, 7, 8, 9)\n",
        "\n",
        "print( )\n",
        "#Exercise 2\n",
        "#여러 개의 자연수를 입력받아 (1, 4, 6, 7, 18, 19)가 홀수인지 짝수인지 판별해주고 홀수/짝수 갯수를 리턴하는 함수\n",
        "def v(*args):\n",
        "  count1 = 0\n",
        "  count2 = 0\n",
        "  for i in args:\n",
        "    if i%2 == 0:\n",
        "      print(f'{i}은(는) 짝수입니다')\n",
        "      count1 += 1\n",
        "    else:\n",
        "      print(f'{i}은(는) 홀수입니다')\n",
        "      count2 += 1\n",
        "  print(f'홀수의 갯수는 {count1}개이고, 짝수의 갯수는 {count2}개입니다.')\n",
        "\n",
        "v(1, 4, 6, 7, 18, 19)    "
      ],
      "metadata": {
        "colab": {
          "base_uri": "https://localhost:8080/"
        },
        "id": "IdTRErHrQ9Yv",
        "outputId": "9c8ad6d2-c7de-4214-fb9e-d74413fed3f0"
      },
      "execution_count": null,
      "outputs": [
        {
          "output_type": "stream",
          "name": "stdout",
          "text": [
            "362880\n",
            "\n",
            "1은(는) 홀수입니다\n",
            "4은(는) 짝수입니다\n",
            "6은(는) 짝수입니다\n",
            "7은(는) 홀수입니다\n",
            "18은(는) 짝수입니다\n",
            "19은(는) 홀수입니다\n",
            "홀수의 갯수는 3개이고, 짝수의 갯수는 3개입니다.\n"
          ]
        }
      ]
    },
    {
      "cell_type": "code",
      "source": [
        "#여러 개의 입력값(가변매개변수 포함)을 받는 함수\n",
        "def l(choice, *args):\n",
        "  if choice == 'add':\n",
        "    total = 0\n",
        "    for i in args:\n",
        "      total += i\n",
        "\n",
        "  elif choice == 'mul':\n",
        "    total = 1\n",
        "    for i in args:\n",
        "      total *= i\n",
        "  \n",
        "  return total\n",
        "\n",
        "result = l('add', 1, 2, 3)\n",
        "print(result)\n",
        "result = l('mul', 1, 2, 3, 4, 5)\n",
        "print(result)"
      ],
      "metadata": {
        "colab": {
          "base_uri": "https://localhost:8080/"
        },
        "id": "fE7EgzgPSF2n",
        "outputId": "22ab3ce4-7b79-444b-f689-4adb00a87581"
      },
      "execution_count": null,
      "outputs": [
        {
          "output_type": "stream",
          "name": "stdout",
          "text": [
            "6\n",
            "120\n"
          ]
        }
      ]
    },
    {
      "cell_type": "code",
      "source": [
        "#3.31 연습 문제\n",
        "#input 값으로 'name, 학번, 국, 영, 수, 과학 성적'을 입력받아 다음 출력값을 갖도록 하는 함수(score) 만들기\n",
        "#(1)'score('홍길동', 2020030, 100, 80, 90, 70)을 실행했을 때 다음 출력 결과가 나오도록 하고\n",
        "#출력 결과: ***학생(학번)은 평균**.0점입니다.\n",
        "#평균값을 return하도록 하여라.\n",
        "\n",
        "name = input('name: ')\n",
        "number = input('학번: ')\n",
        "korean = int(input('국어 점수: '))\n",
        "english = int(input('영어 점수: '))\n",
        "math = int(input('수학 점수: '))\n",
        "science = int(input('과학 점수: '))\n",
        "\n",
        "def score(name, number, korean, english, math, science):\n",
        "  average = (korean + english + math + science)/4\n",
        "  print(f'{name} 학생({number})은 평균 {average:0.1f}점 입니다.')\n",
        "  return average\n",
        "\n",
        "score('홍길동', 2020030, 100, 80, 90, 70)"
      ],
      "metadata": {
        "id": "Ptn0_llSW8ct",
        "colab": {
          "base_uri": "https://localhost:8080/"
        },
        "outputId": "b1688a67-7784-49c8-90f8-95cfa5c8db2e"
      },
      "execution_count": null,
      "outputs": [
        {
          "output_type": "stream",
          "name": "stdout",
          "text": [
            "name: 홍길동\n",
            "학번: 2020030\n",
            "국어 점수: 100\n",
            "영어 점수: 80\n",
            "수학 점수: 90\n",
            "과학 점수: 70\n",
            "홍길동 학생(2020030)은 평균 85.00점 입니다.\n"
          ]
        },
        {
          "output_type": "execute_result",
          "data": {
            "text/plain": [
              "85.0"
            ]
          },
          "metadata": {},
          "execution_count": 2
        }
      ]
    },
    {
      "cell_type": "code",
      "source": [
        "name = input('name: ')\n",
        "number = input('학번: ')\n",
        "korean = int(input('국어 점수: '))\n",
        "english = int(input('영어 점수: '))\n",
        "math = int(input('수학 점수: '))\n",
        "science = int(input('과학 점수: '))\n",
        "\n",
        "def score(name, number, *args):\n",
        "  average = (korean + english + math + science)/4\n",
        "  print(f'{name} 학생({number})은 평균 {average:0.1f}점 입니다.')\n",
        "  return average\n",
        "\n",
        "score('홍길동', 2020030, 100, 80, 90, 70)"
      ],
      "metadata": {
        "colab": {
          "base_uri": "https://localhost:8080/"
        },
        "id": "wuv2J5jCKCXt",
        "outputId": "9d05c815-0e23-44ba-e8fb-37b8cfe6c82d"
      },
      "execution_count": null,
      "outputs": [
        {
          "output_type": "stream",
          "name": "stdout",
          "text": [
            "name: 홍길동\n",
            "학번: 2020030\n",
            "국어 점수: 100\n",
            "영어 점수: 80\n",
            "수학 점수: 90\n",
            "과학 점수: 70\n",
            "홍길동 학생(2020030)은 평균 85.0점 입니다.\n"
          ]
        },
        {
          "output_type": "execute_result",
          "data": {
            "text/plain": [
              "85.0"
            ]
          },
          "metadata": {},
          "execution_count": 3
        }
      ]
    },
    {
      "cell_type": "code",
      "source": [
        "def score(name, number, *args):\n",
        "  scores = list(args)\n",
        "  average = sum(scores) / len(scores)\n",
        "  print(f'{name} 학생({number})은 평균 {average:0.2f}점 입니다.')\n",
        "\n",
        "score('홍길동', 2020030, 100, 80, 90, 70)"
      ],
      "metadata": {
        "id": "QcRlhcx0Lt12",
        "colab": {
          "base_uri": "https://localhost:8080/"
        },
        "outputId": "d7a8bba2-f7ad-4e05-b5be-157623718a1d"
      },
      "execution_count": null,
      "outputs": [
        {
          "output_type": "stream",
          "name": "stdout",
          "text": [
            "홍길동 학생(2020030)은 평균 85.00점 입니다.\n"
          ]
        }
      ]
    },
    {
      "cell_type": "code",
      "source": [
        "def socre(name, num, *args):\n",
        "  total = 0\n",
        "  for a in args:\n",
        "    total += a\n",
        "  average = total/len(args)\n",
        "\n",
        "  print(f'{name}({number}) 학생은 평균 {average:0.2f}점 입니다.')\n",
        "  \n",
        "score('홍길동', 2020030, 100, 80, 90, 70)"
      ],
      "metadata": {
        "colab": {
          "base_uri": "https://localhost:8080/"
        },
        "id": "t1a3x279Lmv8",
        "outputId": "b24e0bb1-1406-4d36-b8d6-c11ce122e11a"
      },
      "execution_count": null,
      "outputs": [
        {
          "output_type": "stream",
          "name": "stdout",
          "text": [
            "홍길동 학생(2020030)은 평균 85.00점 입니다.\n"
          ]
        }
      ]
    },
    {
      "cell_type": "code",
      "source": [
        "#예제 1\n",
        "def time(n, *values):\n",
        "  for i in range (n):\n",
        "    for value in values:\n",
        "      print(value, end = ' ')\n",
        "    print()\n",
        "\n",
        "time(3, 'hi', 'enjoy', 'python')"
      ],
      "metadata": {
        "colab": {
          "base_uri": "https://localhost:8080/"
        },
        "id": "yu-sjA41L-_D",
        "outputId": "983671f7-8af1-400b-e4fd-c21a68f9e0f6"
      },
      "execution_count": null,
      "outputs": [
        {
          "output_type": "stream",
          "name": "stdout",
          "text": [
            "hi enjoy python \n",
            "hi enjoy python \n",
            "hi enjoy python \n"
          ]
        }
      ]
    },
    {
      "cell_type": "code",
      "source": [
        "def time(*valuse, n):\n",
        "  for i in range(n):\n",
        "    for value in valuse:\n",
        "      print(value, end = ' ')\n",
        "    print()\n",
        "\n",
        "#time('hi', 'enjoy', 'python', 3) #error\n",
        "time('hi', 'enjoy', 'python', n = 3)"
      ],
      "metadata": {
        "colab": {
          "base_uri": "https://localhost:8080/"
        },
        "id": "3sVMqogjNsLF",
        "outputId": "9542d97e-970f-4f03-900f-810ebdf31d62"
      },
      "execution_count": null,
      "outputs": [
        {
          "output_type": "stream",
          "name": "stdout",
          "text": [
            "hi enjoy python \n",
            "hi enjoy python \n",
            "hi enjoy python \n"
          ]
        }
      ]
    },
    {
      "cell_type": "code",
      "source": [
        "#매개변수에 초깃값 미리 설정 (제일 마지막에 위치해야 함)\n",
        "def myself(name, age, man = True):\n",
        "  print(f'나의 이름은 {name}입니다.')\n",
        "  print(f'나이는 {age}살입니다.')\n",
        "  if man:\n",
        "    print('나는 남자입니다.')\n",
        "    print( )\n",
        "  else:\n",
        "    print('나는 여자입니다.')\n",
        "    print( )\n",
        "\n",
        "myself('홍길동', 27)\n",
        "myself('홍길동', 27, True)\n",
        "myself('홍길순', 25, False)"
      ],
      "metadata": {
        "colab": {
          "base_uri": "https://localhost:8080/"
        },
        "id": "fwROdZPrONA8",
        "outputId": "0786fc55-501e-4c6a-d309-86196a8b9091"
      },
      "execution_count": null,
      "outputs": [
        {
          "output_type": "stream",
          "name": "stdout",
          "text": [
            "나의 이름은 홍길동입니다.\n",
            "나이는 27살입니다.\n",
            "나는 남자입니다.\n",
            "\n",
            "나의 이름은 홍길동입니다.\n",
            "나이는 27살입니다.\n",
            "나는 남자입니다.\n",
            "\n",
            "나의 이름은 홍길순입니다.\n",
            "나이는 25살입니다.\n",
            "나는 여자입니다.\n",
            "\n"
          ]
        }
      ]
    },
    {
      "cell_type": "code",
      "source": [
        "#예제\n",
        "def test(a, b = 10, c = 100):\n",
        "  print(a + b + c)\n",
        "\n",
        "test(10)\n",
        "test(10, 20, 30)\n",
        "test(c = 10, a = 100, b = 200)\n",
        "test(10, c = 200)"
      ],
      "metadata": {
        "colab": {
          "base_uri": "https://localhost:8080/"
        },
        "id": "Sjf2Jq5sO618",
        "outputId": "a73d91a1-2712-4a23-d48e-ab5788a59124"
      },
      "execution_count": null,
      "outputs": [
        {
          "output_type": "stream",
          "name": "stdout",
          "text": [
            "120\n",
            "60\n",
            "310\n",
            "220\n"
          ]
        }
      ]
    },
    {
      "cell_type": "code",
      "source": [
        "#Exercise 1. 오타가 발생하는 코드 찾기\n",
        "# def f2(*values, A, B):\n",
        "  #print(values)\n",
        "#f2(1, 2, 3, 4, 5)\n",
        "#values가 어디까진지 모르기에 erros\n",
        "\n",
        "def f2(*values, A = 10, B = 20):\n",
        "  print(values)\n",
        "f2(1, 2, 3, 4, 5)\n",
        "#(1, 2, 3, 4, 5)\n",
        "\n",
        "def f2(A, B, *values):\n",
        "  print(values)\n",
        "f2(1, 2, 3, 4, 5)\n",
        "#(3, 4, 5)\n",
        "\n",
        "def f2(A = 10, B = 20, *values):\n",
        "  print(values)\n",
        "f2(1, 2, 3, 4, 5)\n",
        "#(3, 4, 5) "
      ],
      "metadata": {
        "colab": {
          "base_uri": "https://localhost:8080/"
        },
        "id": "7abPz2lWPJLL",
        "outputId": "099742ce-5c1e-4ec2-c708-2b18c38a9d3a"
      },
      "execution_count": null,
      "outputs": [
        {
          "output_type": "stream",
          "name": "stdout",
          "text": [
            "(1, 2, 3, 4, 5)\n",
            "(3, 4, 5)\n",
            "(3, 4, 5)\n"
          ]
        }
      ]
    },
    {
      "cell_type": "code",
      "source": [
        "#함수 앞에서 선언한 변수의 효력 범위\n",
        "a = 1\n",
        "def var(a):\n",
        "  a += 1\n",
        "  return a\n",
        "\n",
        "result = var(a)\n",
        "print(result)\n",
        "print(a)"
      ],
      "metadata": {
        "colab": {
          "base_uri": "https://localhost:8080/"
        },
        "id": "Ff_Ja8BWQer0",
        "outputId": "0a363736-102d-4a78-b73d-57487171ba17"
      },
      "execution_count": null,
      "outputs": [
        {
          "output_type": "stream",
          "name": "stdout",
          "text": [
            "2\n",
            "1\n"
          ]
        }
      ]
    },
    {
      "cell_type": "code",
      "source": [
        "#global 명령어\n",
        "a = 1\n",
        "def var():\n",
        "  global a\n",
        "  a += 1\n",
        "  return a\n",
        "\n",
        "var()\n",
        "print(a)"
      ],
      "metadata": {
        "colab": {
          "base_uri": "https://localhost:8080/"
        },
        "id": "dLF0dZq7RIkc",
        "outputId": "ce4e7fd8-8c48-4098-f7ae-22eb89194f97"
      },
      "execution_count": null,
      "outputs": [
        {
          "output_type": "stream",
          "name": "stdout",
          "text": [
            "2\n"
          ]
        }
      ]
    },
    {
      "cell_type": "code",
      "source": [
        "def mod(a, b):\n",
        "  return a + b\n",
        "\n",
        "#lambda 사용하여 함수 만들기 (= def)\n",
        "#함수 이름 = lambda 변수 : 함수 계산\n",
        "add = lambda a, b: a + b\n",
        "result = add(3, 4)\n",
        "print(result)"
      ],
      "metadata": {
        "id": "99HmMZTsRiY7"
      },
      "execution_count": null,
      "outputs": []
    },
    {
      "cell_type": "code",
      "source": [
        "#Exercise\n",
        "#1. f(x) = x^2 + 2x + 1을 lambda 이용하여 함수 만들고, f(10) 출력\n",
        "f = lambda a : a**2 + 2 * a + 1\n",
        "print(f(10))\n",
        "\n",
        "#2. lambda 이용해서 입력값을 x = [10, -2, 3, 4, 0]으로 받고 x > 0인 값들만 찾아내는 함수\n",
        "k = []\n",
        "def positive(x):\n",
        "  for i in x:\n",
        "    if i > 0:\n",
        "      k.append(i)\n",
        "  return k\n",
        "\n",
        "f = lambda x: for i in x\n",
        "\n",
        "positive([10, -2, 3, 4, 0])"
      ],
      "metadata": {
        "colab": {
          "base_uri": "https://localhost:8080/"
        },
        "id": "GQjh0kciR44E",
        "outputId": "694f1fa8-8b3e-4244-cd02-d96d97741231"
      },
      "execution_count": null,
      "outputs": [
        {
          "output_type": "stream",
          "name": "stdout",
          "text": [
            "121\n"
          ]
        },
        {
          "output_type": "execute_result",
          "data": {
            "text/plain": [
              "[10, 3, 4]"
            ]
          },
          "metadata": {},
          "execution_count": 30
        }
      ]
    },
    {
      "cell_type": "code",
      "source": [],
      "metadata": {
        "id": "rTmHLC6xSoX8"
      },
      "execution_count": null,
      "outputs": []
    }
  ]
}