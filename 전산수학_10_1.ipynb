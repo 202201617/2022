{
  "nbformat": 4,
  "nbformat_minor": 0,
  "metadata": {
    "colab": {
      "provenance": [],
      "authorship_tag": "ABX9TyPrXl/9mR7hdL7zZU78tOjI",
      "include_colab_link": true
    },
    "kernelspec": {
      "name": "python3",
      "display_name": "Python 3"
    },
    "language_info": {
      "name": "python"
    }
  },
  "cells": [
    {
      "cell_type": "markdown",
      "metadata": {
        "id": "view-in-github",
        "colab_type": "text"
      },
      "source": [
        "<a href=\"https://colab.research.google.com/github/202201617/2022/blob/main/%EC%A0%84%EC%82%B0%EC%88%98%ED%95%99_10_1.ipynb\" target=\"_parent\"><img src=\"https://colab.research.google.com/assets/colab-badge.svg\" alt=\"Open In Colab\"/></a>"
      ]
    },
    {
      "cell_type": "code",
      "execution_count": null,
      "metadata": {
        "colab": {
          "base_uri": "https://localhost:8080/"
        },
        "id": "oWQVKZDJTfxY",
        "outputId": "11be1007-bca1-429b-c9c8-5876d7716ccb"
      },
      "outputs": [
        {
          "output_type": "stream",
          "name": "stdout",
          "text": [
            "Drive already mounted at /content/drive; to attempt to forcibly remount, call drive.mount(\"/content/drive\", force_remount=True).\n"
          ]
        }
      ],
      "source": [
        "#구글 Drive 연동 & 현재 directory 설정\n",
        "#colab에서 google drive와 연결\n",
        "from google.colab import drive\n",
        "drive.mount('/content/drive')\n",
        "\n",
        "import os\n",
        "os.chdir('/content/drive/MyDrive/2023-1st/')"
      ]
    },
    {
      "cell_type": "code",
      "source": [
        "#파일 생성하기 'w'\n",
        "\n",
        "f = open('Newfile.txt', 'w') #write\n",
        "for i in range(1, 11):\n",
        "  data = '%d번째 줄입니다.\\n'%i\n",
        "  f.write(data)\n",
        "f.close()"
      ],
      "metadata": {
        "id": "3qXdzA9bUkhA"
      },
      "execution_count": null,
      "outputs": []
    },
    {
      "cell_type": "code",
      "source": [
        "#파일 읽기 'r'\n",
        "#readline 함수: 가장 첫번째 줄이 화면에 출력\n",
        "f = open('Newfile.txt', 'r') #read\n",
        "line = f.readline()\n",
        "print(line)\n",
        "f.close()\n",
        "\n",
        "f = open('Newfile.txt', 'r')\n",
        "lines = f.readlines()\n",
        "#print(lines) #문자열로 구성된 리스트\n",
        "for line in lines: #한줄씩 읽고 싶을 때\n",
        "  print(line)\n",
        "f.close()\n",
        "\n",
        "f = open('Newfile.txt', 'r')\n",
        "data = f.read()\n",
        "print(data)\n",
        "f.close()"
      ],
      "metadata": {
        "colab": {
          "base_uri": "https://localhost:8080/"
        },
        "id": "Zf6zbawoXIi8",
        "outputId": "47562b4f-51f1-4ff8-f16e-e22a873b3455"
      },
      "execution_count": null,
      "outputs": [
        {
          "output_type": "stream",
          "name": "stdout",
          "text": [
            "1번째 줄입니다.\n",
            "\n",
            "1번째 줄입니다.\n",
            "\n",
            "2번째 줄입니다.\n",
            "\n",
            "3번째 줄입니다.\n",
            "\n",
            "4번째 줄입니다.\n",
            "\n",
            "5번째 줄입니다.\n",
            "\n",
            "6번째 줄입니다.\n",
            "\n",
            "7번째 줄입니다.\n",
            "\n",
            "8번째 줄입니다.\n",
            "\n",
            "9번째 줄입니다.\n",
            "\n",
            "10번째 줄입니다.\n",
            "\n",
            "1번째 줄입니다.\n",
            "2번째 줄입니다.\n",
            "3번째 줄입니다.\n",
            "4번째 줄입니다.\n",
            "5번째 줄입니다.\n",
            "6번째 줄입니다.\n",
            "7번째 줄입니다.\n",
            "8번째 줄입니다.\n",
            "9번째 줄입니다.\n",
            "10번째 줄입니다.\n",
            "\n"
          ]
        }
      ]
    },
    {
      "cell_type": "code",
      "source": [
        "#파일 내용 추가 'a'\n",
        "f = open('Newfile.txt', 'a') #추가 모드\n",
        "for i in range(11, 20):\n",
        "  data = '%d번째 줄입니다.\\n'%i\n",
        "  f.write(data)\n",
        "f.close()"
      ],
      "metadata": {
        "id": "yECIdl-AXodz"
      },
      "execution_count": null,
      "outputs": []
    },
    {
      "cell_type": "code",
      "source": [
        "#Exercise\n",
        "import random\n",
        "\n",
        "f = open('lotto.txt', 'a')\n",
        "num = input('횟수를 입력해주세요: ')\n",
        "\n",
        "for i in range(int(num)):\n",
        "  lotto = random.sample(range(1, 46), 6)\n",
        "  print(lotto)\n",
        "  f.write(str(lotto) + '\\n')\n",
        "f.close()"
      ],
      "metadata": {
        "colab": {
          "base_uri": "https://localhost:8080/"
        },
        "id": "Ry1RheY6Yr9M",
        "outputId": "5667d971-5363-4f28-ca01-381a718dccb1"
      },
      "execution_count": null,
      "outputs": [
        {
          "output_type": "stream",
          "name": "stdout",
          "text": [
            "횟수를 입력해주세요: 10\n",
            "[32, 27, 7, 33, 30, 34]\n",
            "[35, 6, 10, 39, 32, 12]\n",
            "[17, 12, 6, 32, 42, 43]\n",
            "[22, 41, 28, 33, 6, 5]\n",
            "[42, 45, 7, 28, 15, 4]\n",
            "[21, 16, 44, 9, 4, 7]\n",
            "[33, 32, 41, 19, 39, 28]\n",
            "[9, 42, 25, 23, 24, 10]\n",
            "[11, 14, 28, 29, 41, 15]\n",
            "[2, 43, 9, 37, 8, 44]\n"
          ]
        }
      ]
    },
    {
      "cell_type": "code",
      "source": [
        "#with문 사용하기\n",
        "f = open('Newfile2.txt', 'w')\n",
        "f.write('life is beautiful.')\n",
        "f.close()\n",
        "\n",
        "with(open('Newfile2.txt', 'w')) as f:\n",
        "     f.write('life is beautiful.\\n')\n",
        "\n",
        "# Exercise: with 사용\n",
        "with open('Newfile2.txt', 'r') as f:\n",
        "  line = f.readline()\n",
        "  print(line)\n",
        "  lines = f.readlines()\n",
        "  for line in lines:\n",
        "    print(line)\n",
        "  data = f.read()\n",
        "  print(data)\n",
        "\n",
        "# 내용 추가\n",
        "with open('Newfile2.txt', 'a') as f:\n",
        "  f.write('enjoy your life.\\n')"
      ],
      "metadata": {
        "colab": {
          "base_uri": "https://localhost:8080/"
        },
        "id": "ofPGJFe3aSnn",
        "outputId": "8fdd5323-5310-4c65-877c-4c4c3379b7cb"
      },
      "execution_count": null,
      "outputs": [
        {
          "output_type": "stream",
          "name": "stdout",
          "text": [
            "life is beautiful.\n",
            "\n",
            "\n"
          ]
        }
      ]
    },
    {
      "cell_type": "code",
      "source": [
        "#예제: 랜덤하게 100명의 키와 몸무게 만들기\n",
        "import random\n",
        "hangle = list('가나다라마바사아자차카타파하')\n",
        "\n",
        "with open('Newfile3.txt', 'w') as f:\n",
        "  for i in range(10):\n",
        "    name = random.choice(hangle) + random.choice(hangle)\n",
        "    weight = random.randrange(40, 100)\n",
        "    height = random.randrange(140, 200)\n",
        "    f.write('{}, {}, {}\\n'.format(name, weight, height))"
      ],
      "metadata": {
        "id": "_usc5fiObNaA"
      },
      "execution_count": null,
      "outputs": []
    },
    {
      "cell_type": "markdown",
      "source": [],
      "metadata": {
        "id": "Ssk18pKfoAAz"
      }
    },
    {
      "cell_type": "code",
      "source": [
        "#예제: 파일 한 줄씩 읽기\n",
        "with open('Newfile3.txt', 'r') as f:\n",
        "  for line in f:\n",
        "    (name, weight, height) = line.strip().split(', ') #세 개의 문자열(이름, 몸무게, 키)로 구성된 list\n",
        "    if (not name) or (not weight) or (not height):\n",
        "      continue\n",
        "\n",
        "    bmi = int(weight)/((int(height)/100)**2)\n",
        "    if bmi >= 25:\n",
        "      result = '과체중'\n",
        "    elif bmi >= 18.5:\n",
        "      result = '정상체중'\n",
        "    else:\n",
        "      result = '저체중'\n",
        "    print('\\n'.join(['이름: {}', '몸무게: {}', '키: {}', 'bmi: {}', '결과: {}\\n']).format(name, weight, height, bmi, result))"
      ],
      "metadata": {
        "colab": {
          "base_uri": "https://localhost:8080/"
        },
        "id": "Moa3JYSDgGMU",
        "outputId": "4bb3f831-e764-4088-ce7e-fc6a73ea515a"
      },
      "execution_count": null,
      "outputs": [
        {
          "output_type": "stream",
          "name": "stdout",
          "text": [
            "이름: 타라\n",
            "몸무게: 82\n",
            "키: 179\n",
            "bmi: 25.592209980961893\n",
            "결과: 과체중\n",
            "\n",
            "이름: 타타\n",
            "몸무게: 75\n",
            "키: 143\n",
            "bmi: 36.676610103183535\n",
            "결과: 과체중\n",
            "\n",
            "이름: 사차\n",
            "몸무게: 47\n",
            "키: 187\n",
            "bmi: 13.440475850038604\n",
            "결과: 저체중\n",
            "\n",
            "이름: 바차\n",
            "몸무게: 63\n",
            "키: 173\n",
            "bmi: 21.04981790236894\n",
            "결과: 정상체중\n",
            "\n",
            "이름: 차차\n",
            "몸무게: 80\n",
            "키: 165\n",
            "bmi: 29.384756657483933\n",
            "결과: 과체중\n",
            "\n",
            "이름: 마가\n",
            "몸무게: 55\n",
            "키: 147\n",
            "bmi: 25.45235781387385\n",
            "결과: 과체중\n",
            "\n",
            "이름: 카타\n",
            "몸무게: 63\n",
            "키: 181\n",
            "bmi: 19.230182228869694\n",
            "결과: 정상체중\n",
            "\n",
            "이름: 가차\n",
            "몸무게: 40\n",
            "키: 197\n",
            "bmi: 10.306887577623748\n",
            "결과: 저체중\n",
            "\n",
            "이름: 파아\n",
            "몸무게: 56\n",
            "키: 149\n",
            "bmi: 25.224089004999776\n",
            "결과: 과체중\n",
            "\n",
            "이름: 가카\n",
            "몸무게: 93\n",
            "키: 175\n",
            "bmi: 30.367346938775512\n",
            "결과: 과체중\n",
            "\n"
          ]
        }
      ]
    },
    {
      "cell_type": "code",
      "source": [
        "#CSV란, Comma-seperated values의 줄임말로, 쉼표로 정보가 구분되어져 있는 파일을 의미함.\n",
        "#CSV란 정보가 콤마로 구분되어져 있다는 개념 뿐이고 실제로 CSV이지만, csv가 아닌 txt로 저장되어 있는 경우도 종종 있음\n",
        "#엑셀이 깔려져 있는 컴퓨터에서는 .csv파일들을 엑셀로 기본으로 보여줌\n",
        "\n",
        "import csv\n",
        "\n",
        "#파일 쓰기\n",
        "data = [\n",
        "    ['id', 'name', 'price', 'amount'],\n",
        "    ['1', 'apple', '5000', '5'],\n",
        "    ['2', 'pencil', '500', '42'],\n",
        "    ['3', 'pineapple', '8000', '5'],\n",
        "    ['4', 'pen', '1500', '10']]\n",
        "\n",
        "f = open('data.csv', 'w')\n",
        "g = csv.writer(f)\n",
        "g.writerows(data)\n",
        "f.close()"
      ],
      "metadata": {
        "id": "JT-y0aaZgZoe"
      },
      "execution_count": null,
      "outputs": []
    },
    {
      "cell_type": "code",
      "source": [
        "#파일 읽기\n",
        "#for 문으로 reader를 읽어들이면 각 행을 콤마로 구분한 리스트를 불러옴\n",
        "f = open('data.csv', 'r')\n",
        "g = csv.reader(f)\n",
        "for row in g:\n",
        "  print(row)\n",
        "f.close()\n",
        "\n",
        "#data 변수에는 2차원의 리스트로 저장\n",
        "f = open('data.csv', 'r')\n",
        "g = csv.reader(f)\n",
        "data = list(g)\n",
        "print(data)"
      ],
      "metadata": {
        "colab": {
          "base_uri": "https://localhost:8080/"
        },
        "id": "-ucfy14SmTQX",
        "outputId": "e8428a5f-b58b-40c0-d9bf-258638555de3"
      },
      "execution_count": null,
      "outputs": [
        {
          "output_type": "stream",
          "name": "stdout",
          "text": [
            "['id', 'name', 'price', 'amount']\n",
            "['1', 'apple', '5000', '5']\n",
            "['2', 'pencil', '500', '42']\n",
            "['3', 'pineapple', '8000', '5']\n",
            "['4', 'pen', '1500', '10']\n",
            "[['id', 'name', 'price', 'amount'], ['1', 'apple', '5000', '5'], ['2', 'pencil', '500', '42'], ['3', 'pineapple', '8000', '5'], ['4', 'pen', '1500', '10']]\n"
          ]
        }
      ]
    },
    {
      "cell_type": "code",
      "source": [
        "#파일 추가\n",
        "f = open('data.csv', 'a')\n",
        "g = csv.writer(f)\n",
        "g.writerow(['5', 'banana', '2000', '5'])\n",
        "f.close()"
      ],
      "metadata": {
        "id": "hQ01VOrvmt6G"
      },
      "execution_count": null,
      "outputs": []
    },
    {
      "cell_type": "code",
      "source": [
        "# dictionary 형태로 주어진 파일 쓰고 읽기\n",
        "# 위 방법들의 단점은 각 행이 리스트로 표현되다 보니 각 행별로 뜯어서 보면 몇번째 항목이 무슨 항목을 의미하는 것인지 직관적으로 알 수 없다.\n",
        "# 만약, 데이터를 알기 쉽게 딕셔너리의 형태로 제공했다면?\n",
        "'''\n",
        "[\n",
        "    {'id': '1', 'name': 'apple', 'price': '5000', 'amount': '5'},\n",
        "    {'id': '2', 'name': 'pencil', 'price': '500', 'amount': '42'},\n",
        "    {'id': '3', 'name': 'pineapple', 'price': '8000', 'amount': '5'},\n",
        "    {'id': '4', 'name': 'pen', 'price': '1500', 'amount': '10'}\n",
        "]\n",
        "'''"
      ],
      "metadata": {
        "colab": {
          "base_uri": "https://localhost:8080/",
          "height": 54
        },
        "id": "iuSnAwoXnhrJ",
        "outputId": "711038bf-d505-4a69-fb5d-f0ab9cd17154"
      },
      "execution_count": null,
      "outputs": [
        {
          "output_type": "execute_result",
          "data": {
            "text/plain": [
              "\"\\n[\\n    {'id': '1', 'name': 'apple', 'price': '5000', 'amount': '5'},\\n    {'id': '2', 'name': 'pencil', 'price': '500', 'amount': '42'},\\n    {'id': '3', 'name': 'pineapple', 'price': '8000', 'amount': '5'},\\n    {'id': '4', 'name': 'pen', 'price': '1500', 'amount': '10'}\\n]\\n\""
            ],
            "application/vnd.google.colaboratory.intrinsic+json": {
              "type": "string"
            }
          },
          "metadata": {},
          "execution_count": 43
        }
      ]
    },
    {
      "cell_type": "code",
      "source": [
        "import csv\n",
        "\n",
        "import csv\n",
        "\n",
        "keys = ['id', 'name', 'price', 'amount']\n",
        "data = [\n",
        "    {'id': '1', 'name': 'apple', 'price': '5000', 'amount': '5'},\n",
        "    {'id': '2', 'name': 'pencil', 'price': '500', 'amount': '42'},\n",
        "    {'id': '3', 'name': 'pineapple', 'price': '8000', 'amount': '5'},\n",
        "    {'id': '4', 'name': 'pen', 'price': '1500', 'amount': '10'}\n",
        "]\n",
        "\n",
        "f = open(\"data2.csv\", \"w\")\n",
        "g = csv.DictWriter(f, fieldnames = keys)\n",
        "g.writeheader() #이 부분을 제거하면 파일을 저장할 때 항목 이름이 작성되지 않음\n",
        "g.writerows(data)\n",
        "f.close() "
      ],
      "metadata": {
        "id": "bd54L-MUpLd_"
      },
      "execution_count": null,
      "outputs": []
    },
    {
      "cell_type": "code",
      "source": [],
      "metadata": {
        "id": "pvTkhSJrpday"
      },
      "execution_count": null,
      "outputs": []
    }
  ]
}