{
  "nbformat": 4,
  "nbformat_minor": 0,
  "metadata": {
    "colab": {
      "provenance": [],
      "authorship_tag": "ABX9TyMLfrKzBz5zg6FFsqOfEHNP",
      "include_colab_link": true
    },
    "kernelspec": {
      "name": "python3",
      "display_name": "Python 3"
    },
    "language_info": {
      "name": "python"
    }
  },
  "cells": [
    {
      "cell_type": "markdown",
      "metadata": {
        "id": "view-in-github",
        "colab_type": "text"
      },
      "source": [
        "<a href=\"https://colab.research.google.com/github/202201617/2022/blob/main/%EC%A0%84%EC%82%B0%EC%88%98%ED%95%99_5_1.ipynb\" target=\"_parent\"><img src=\"https://colab.research.google.com/assets/colab-badge.svg\" alt=\"Open In Colab\"/></a>"
      ]
    },
    {
      "cell_type": "code",
      "execution_count": null,
      "metadata": {
        "colab": {
          "base_uri": "https://localhost:8080/",
          "height": 284
        },
        "id": "ZQzyR6WZFmxK",
        "outputId": "9400c6d7-f135-4fb4-c24d-e30c77265930"
      },
      "outputs": [
        {
          "output_type": "stream",
          "name": "stdout",
          "text": [
            "1.4142135623730951\n",
            "1.4142135623730951\n"
          ]
        },
        {
          "output_type": "error",
          "ename": "TypeError",
          "evalue": "ignored",
          "traceback": [
            "\u001b[0;31m---------------------------------------------------------------------------\u001b[0m",
            "\u001b[0;31mTypeError\u001b[0m                                 Traceback (most recent call last)",
            "\u001b[0;32m<ipython-input-1-8edc4980159e>\u001b[0m in \u001b[0;36m<cell line: 21>\u001b[0;34m()\u001b[0m\n\u001b[1;32m     19\u001b[0m \u001b[0;34m\u001b[0m\u001b[0m\n\u001b[1;32m     20\u001b[0m \u001b[0;34m\u001b[0m\u001b[0m\n\u001b[0;32m---> 21\u001b[0;31m \u001b[0mls\u001b[0m \u001b[0;34m+\u001b[0m \u001b[0;36m4\u001b[0m\u001b[0;34m\u001b[0m\u001b[0;34m\u001b[0m\u001b[0m\n\u001b[0m\u001b[1;32m     22\u001b[0m \u001b[0marr\u001b[0m \u001b[0;34m+\u001b[0m \u001b[0;36m4\u001b[0m\u001b[0;34m\u001b[0m\u001b[0;34m\u001b[0m\u001b[0m\n\u001b[1;32m     23\u001b[0m \u001b[0;34m\u001b[0m\u001b[0m\n",
            "\u001b[0;31mTypeError\u001b[0m: can only concatenate list (not \"int\") to list"
          ]
        }
      ],
      "source": [
        "#math 모듈은 인수가 실수 (스칼라) 에 대해서만 적용\n",
        "#cmath 모듈은 복소수 (스칼라) 인 경우에만 적용\n",
        "#만약 행렬 연산이 필요하다면 이 두 모듈은 사용할 수 없으며 numpy 를 사용해야 한다. \n",
        "#이 모듈은 파이썬의 고급 연산 분야의 기본 모듈로서 벡터 혹은 행렬에 대한 요소간 \n",
        "#연산을 지원하므로 가장 적용 범위가 넓다.\n",
        "\n",
        "import numpy as np\n",
        "import math\n",
        "\n",
        "print(math.sqrt(2))\n",
        "print(np.sqrt(2))\n",
        "\n",
        "#============================================\n",
        "##list vs np.array() \n",
        "#============================================\n",
        "\n",
        "ls =[1, 2, 3]\n",
        "# converting the list into a Numpy array\n",
        "\n",
        "\n",
        "ls + 4 \n",
        "arr + 4 \n",
        "\n",
        "## np.dot/ np.cross\n",
        "a=np.array([1,2,3])\n",
        "b=np.array([3,4,5])"
      ]
    },
    {
      "cell_type": "code",
      "source": [
        "## 예제 1: 함수 그래프 그리기 =======================\n",
        "import numpy as np\n",
        "import matplotlib.pyplot as plt\n",
        "\n",
        "\n",
        "\n",
        "print('g(f(2))=', g(f(2)))\n",
        "print('f(g(2))=', f(g(2)))\n",
        "\n",
        "\n",
        "#======================================================\n",
        "\n",
        "## 예제 2: 로그함수/ 삼각함수 그리기  =======================\n",
        "\n",
        "\n",
        "\n",
        "## 예제 3: 함수 그래프 그리기 =======================\n",
        "#퀴즈\n",
        "\n",
        "def f(x):\n",
        "  if x>=-1 and x<1:\n",
        "    return -x**2+2\n",
        "  if x>=1 and x<=3:\n",
        "    return x**2-4*x+3\n",
        "  if x>3 and x<=5:\n",
        "    return -x**2 + 8*x-14\n",
        "\n",
        "x = np.linspace(-1, 5, 6-1)\n",
        "#plt.plot(x,f(x))\n",
        "#plt.show()\n",
        "\n",
        "#해결방법1\n",
        "fx = list(map(f,x))\n",
        "plt.plot(x,fx,'.')\n",
        "plt.show()\n",
        "\n",
        "#해결방법2\n",
        "#fx 초기화 및 fx 값을 계산\n",
        "x = np.linspace(-1, 5, 601)\n",
        "fx = np.zeros_like(x)\n",
        "for i in range(101):\n",
        "  fx[i] = f(x[i])\n",
        "plt.plot(x, fx, '.')\n",
        "plt.show()\n",
        "#자료가 없음"
      ],
      "metadata": {
        "colab": {
          "base_uri": "https://localhost:8080/",
          "height": 248
        },
        "id": "axCiNUdbFtr4",
        "outputId": "46cd67e7-2076-4c95-a85e-d16595aeb4fc"
      },
      "execution_count": null,
      "outputs": [
        {
          "output_type": "error",
          "ename": "NameError",
          "evalue": "ignored",
          "traceback": [
            "\u001b[0;31m---------------------------------------------------------------------------\u001b[0m",
            "\u001b[0;31mNameError\u001b[0m                                 Traceback (most recent call last)",
            "\u001b[0;32m<ipython-input-2-1df13d11f99b>\u001b[0m in \u001b[0;36m<cell line: 6>\u001b[0;34m()\u001b[0m\n\u001b[1;32m      4\u001b[0m \u001b[0;34m\u001b[0m\u001b[0m\n\u001b[1;32m      5\u001b[0m \u001b[0;34m\u001b[0m\u001b[0m\n\u001b[0;32m----> 6\u001b[0;31m \u001b[0mprint\u001b[0m\u001b[0;34m(\u001b[0m\u001b[0;34m'g(f(2))='\u001b[0m\u001b[0;34m,\u001b[0m \u001b[0mg\u001b[0m\u001b[0;34m(\u001b[0m\u001b[0mf\u001b[0m\u001b[0;34m(\u001b[0m\u001b[0;36m2\u001b[0m\u001b[0;34m)\u001b[0m\u001b[0;34m)\u001b[0m\u001b[0;34m)\u001b[0m\u001b[0;34m\u001b[0m\u001b[0;34m\u001b[0m\u001b[0m\n\u001b[0m\u001b[1;32m      7\u001b[0m \u001b[0mprint\u001b[0m\u001b[0;34m(\u001b[0m\u001b[0;34m'f(g(2))='\u001b[0m\u001b[0;34m,\u001b[0m \u001b[0mf\u001b[0m\u001b[0;34m(\u001b[0m\u001b[0mg\u001b[0m\u001b[0;34m(\u001b[0m\u001b[0;36m2\u001b[0m\u001b[0;34m)\u001b[0m\u001b[0;34m)\u001b[0m\u001b[0;34m)\u001b[0m\u001b[0;34m\u001b[0m\u001b[0;34m\u001b[0m\u001b[0m\n\u001b[1;32m      8\u001b[0m \u001b[0;34m\u001b[0m\u001b[0m\n",
            "\u001b[0;31mNameError\u001b[0m: name 'g' is not defined"
          ]
        }
      ]
    },
    {
      "cell_type": "code",
      "source": [
        "# fx 초기화 및 fx 값을 계산\n",
        "\n",
        "\n",
        "#======================================================\n",
        "\n",
        "\n",
        "## 예제 4: 정규확률밀도함수 그리기 =======================\n",
        "\n",
        "\n",
        "\n",
        "## 예제 5: 함수의 미분 ===============================\n",
        "# forward difference: D_{+}f = (f(a+h)-f(a))/h \n",
        "# backward difference: D_{-}f = (f(a)-f(a+h))/h\n",
        "# central difference: D_{0}f = (f(a+h)-f(a+h))/(2*h)\n",
        "\n",
        "\n",
        "## 예제 6: 함수의 적분 ===============================\n",
        "# Simpson's rule: [a,b] 구간을 n등분한 뒤, 각 구간을 2차 함수로 근사한 후, 2차 함수의 넓이를 더해 적분함\n",
        "# int_a^b f(x) dx = 1/3*h*[f(0)+2*sigma_{i=1}^{n/2-1}f(x_{2i}) +4*sigma_{i=1}^{n/2}f(x_{2i-1})+f(x_n)]"
      ],
      "metadata": {
        "id": "YocUpW2iFx2f"
      },
      "execution_count": null,
      "outputs": []
    },
    {
      "cell_type": "code",
      "source": [],
      "metadata": {
        "id": "fCX-ifERF0s3"
      },
      "execution_count": null,
      "outputs": []
    }
  ]
}