{
  "nbformat": 4,
  "nbformat_minor": 0,
  "metadata": {
    "colab": {
      "provenance": [],
      "collapsed_sections": [],
      "authorship_tag": "ABX9TyMqghhPrPtCOotNd/y7LyJM",
      "include_colab_link": true
    },
    "kernelspec": {
      "name": "python3",
      "display_name": "Python 3"
    },
    "language_info": {
      "name": "python"
    }
  },
  "cells": [
    {
      "cell_type": "markdown",
      "metadata": {
        "id": "view-in-github",
        "colab_type": "text"
      },
      "source": [
        "<a href=\"https://colab.research.google.com/github/gundaminpde/2022/blob/main/3rd_python.ipynb\" target=\"_parent\"><img src=\"https://colab.research.google.com/assets/colab-badge.svg\" alt=\"Open In Colab\"/></a>"
      ]
    },
    {
      "cell_type": "code",
      "execution_count": null,
      "metadata": {
        "colab": {
          "base_uri": "https://localhost:8080/"
        },
        "id": "GmV3SjUMW0b7",
        "outputId": "88f9fe53-6a18-4d91-f2c9-bd729cec87f3"
      },
      "outputs": [
        {
          "output_type": "stream",
          "name": "stdout",
          "text": [
            "[('a', '벰'), ('b', '베라'), ('c', '베로')]\n",
            "{'a': '벰', 'b': '베라', 'c': '베로'}\n"
          ]
        }
      ],
      "source": [
        "# tuple => dictionary\n",
        "\n",
        "exmpl = [('a', '벰'), ('b', '베라'), ('c', '베로')]\n",
        "\n",
        "print(exmpl)\n",
        "\n",
        "dic_exmpl = dict(exmpl)\n",
        "\n",
        "print(dic_exmpl)"
      ]
    },
    {
      "cell_type": "code",
      "source": [
        "print(type(dic_exmpl))\n",
        "\n",
        "print(dic_exmpl['b'])"
      ],
      "metadata": {
        "colab": {
          "base_uri": "https://localhost:8080/"
        },
        "id": "ky9MoZ-yi74w",
        "outputId": "17c0ffd9-c88a-4e52-de65-58a674a5956c"
      },
      "execution_count": null,
      "outputs": [
        {
          "output_type": "stream",
          "name": "stdout",
          "text": [
            "<class 'dict'>\n",
            "베라\n"
          ]
        }
      ]
    },
    {
      "cell_type": "code",
      "source": [
        "indx = 0,1,2,3,4,5\n",
        "\n",
        "for i in indx:\n",
        "  print(i)\n",
        "\n",
        "print()\n",
        "\n",
        "for j in range(1,10,2):\n",
        "  print(j)\n",
        "\n",
        "print()\n"
      ],
      "metadata": {
        "colab": {
          "base_uri": "https://localhost:8080/"
        },
        "id": "TNfONI4PzTpI",
        "outputId": "fc23ac9a-0703-4670-f8c5-b75bc12b6946"
      },
      "execution_count": 11,
      "outputs": [
        {
          "output_type": "stream",
          "name": "stdout",
          "text": [
            "0\n",
            "1\n",
            "2\n",
            "3\n",
            "4\n",
            "5\n",
            "\n",
            "1\n",
            "3\n",
            "5\n",
            "7\n",
            "9\n",
            "\n"
          ]
        }
      ]
    },
    {
      "cell_type": "code",
      "source": [
        "print( [x**2 for x in range(1,10,2)])"
      ],
      "metadata": {
        "colab": {
          "base_uri": "https://localhost:8080/"
        },
        "id": "cnNIT57azlce",
        "outputId": "ced9bb65-a2de-410c-982e-b59c7755be17"
      },
      "execution_count": 16,
      "outputs": [
        {
          "output_type": "stream",
          "name": "stdout",
          "text": [
            "[1, 9, 25, 49, 81]\n"
          ]
        }
      ]
    },
    {
      "cell_type": "code",
      "source": [
        "B=[x for x in 'wgfq2ghuhwedf' if x not in 'whd']\n",
        "\n",
        "B"
      ],
      "metadata": {
        "colab": {
          "base_uri": "https://localhost:8080/"
        },
        "id": "kqMn9ZSrPpFU",
        "outputId": "028242a3-cbff-47b7-f5bc-bad8cca40c73"
      },
      "execution_count": null,
      "outputs": [
        {
          "output_type": "execute_result",
          "data": {
            "text/plain": [
              "['g', 'f', 'q', '2', 'g', 'u', 'e', 'f']"
            ]
          },
          "metadata": {},
          "execution_count": 6
        }
      ]
    },
    {
      "cell_type": "code",
      "source": [
        "## enumerate()\n",
        "\n",
        "AAA = ['AAA는', '자동차', '협회']\n",
        "\n",
        "BBB = enumerate(AAA)\n",
        "\n",
        "print(BBB)\n",
        "\n",
        "for i in BBB:\n",
        "   print(i)\n",
        "\n",
        "\n",
        "\n",
        "for j, k in BBB:\n",
        "    print(j, k)"
      ],
      "metadata": {
        "colab": {
          "base_uri": "https://localhost:8080/"
        },
        "id": "53BkCaXm1WRq",
        "outputId": "f2edd214-c176-48f7-bb3e-47115abb7225"
      },
      "execution_count": 17,
      "outputs": [
        {
          "output_type": "stream",
          "name": "stdout",
          "text": [
            "<enumerate object at 0x7f68a68848c0>\n",
            "(0, 'AAA는')\n",
            "(1, '자동차')\n",
            "(2, '협회')\n"
          ]
        }
      ]
    },
    {
      "cell_type": "code",
      "source": [
        "## enumerate()\n",
        "\n",
        "AAA = ['AAA는', '자동차', '협회']\n",
        "\n",
        "BBB = enumerate(AAA)\n",
        "\n",
        "print(BBB)\n",
        "\n",
        "for i in BBB:\n",
        "   print(i)\n",
        "\n",
        "print(type(BBB))\n",
        "\n",
        "for j, k in BBB:\n",
        "    print(j, k)\n"
      ],
      "metadata": {
        "colab": {
          "base_uri": "https://localhost:8080/"
        },
        "id": "ZhgJhFKmUT1l",
        "outputId": "c4d3ae57-bbf8-4f4a-b30b-c25e0087dd6e"
      },
      "execution_count": null,
      "outputs": [
        {
          "output_type": "stream",
          "name": "stdout",
          "text": [
            "<enumerate object at 0x7f70e86bcbe0>\n",
            "(0, 'AAA는')\n",
            "(1, '자동차')\n",
            "(2, '협회')\n",
            "<class 'enumerate'>\n"
          ]
        }
      ]
    },
    {
      "cell_type": "code",
      "source": [],
      "metadata": {
        "id": "lXuV6LSm1e4L"
      },
      "execution_count": null,
      "outputs": []
    }
  ]
}