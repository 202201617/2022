{
  "nbformat": 4,
  "nbformat_minor": 0,
  "metadata": {
    "colab": {
      "provenance": [],
      "collapsed_sections": [],
      "authorship_tag": "ABX9TyM1gP61/iK18QA6EyM8KKUm",
      "include_colab_link": true
    },
    "kernelspec": {
      "name": "python3",
      "display_name": "Python 3"
    },
    "language_info": {
      "name": "python"
    }
  },
  "cells": [
    {
      "cell_type": "markdown",
      "metadata": {
        "id": "view-in-github",
        "colab_type": "text"
      },
      "source": [
        "<a href=\"https://colab.research.google.com/github/gundaminpde/2022/blob/main/Copy_of_4thLecture.ipynb\" target=\"_parent\"><img src=\"https://colab.research.google.com/assets/colab-badge.svg\" alt=\"Open In Colab\"/></a>"
      ]
    },
    {
      "cell_type": "code",
      "execution_count": null,
      "metadata": {
        "id": "AdlSIfGVoZTz",
        "outputId": "d7536dad-707d-4c49-a70e-493f4afdabec",
        "colab": {
          "base_uri": "https://localhost:8080/"
        }
      },
      "outputs": [
        {
          "output_type": "stream",
          "name": "stdout",
          "text": [
            "A1= [0, 1, 2, 3, 4, 5, 6, 7, 8, 9]\n",
            "A2= [2, 3, 4, 5, 6, 7, 8, 9]\n",
            "A3= [2, 5, 8]\n"
          ]
        }
      ],
      "source": [
        "# 학생들이 좋아하는 range() 함수와 인수\n",
        "\n",
        "\n",
        "A1= list (range(10)) # 인수 한 개\n",
        "\n",
        "A2= list (range(2,10)) # 인수 한 개\n",
        "\n",
        "A3= list (range(2,10,3)) # 인수 한 개\n",
        "\n",
        "\n",
        "print('A1=',A1)\n",
        "\n",
        "print('A2=',A2)\n",
        "\n",
        "print('A3=',A3)"
      ]
    },
    {
      "cell_type": "code",
      "source": [
        "# 기본적인 함수 반사\n",
        "\n",
        "def BanSa(word):\n",
        "  return word\n",
        "\n",
        "BanSa('펭수')\n"
      ],
      "metadata": {
        "id": "ALRI41kgp863",
        "outputId": "9b43cadb-dcbf-4ced-a8d8-a90e4dd05a3b",
        "colab": {
          "base_uri": "https://localhost:8080/",
          "height": 36
        }
      },
      "execution_count": null,
      "outputs": [
        {
          "output_type": "execute_result",
          "data": {
            "text/plain": [
              "'펭수'"
            ],
            "application/vnd.google.colaboratory.intrinsic+json": {
              "type": "string"
            }
          },
          "metadata": {},
          "execution_count": 2
        }
      ]
    },
    {
      "cell_type": "code",
      "source": [
        "BanSa()"
      ],
      "metadata": {
        "id": "EgJzKjCrqpW1",
        "outputId": "c8a9174a-6254-4e78-bf43-bf4811b87a3c",
        "colab": {
          "base_uri": "https://localhost:8080/",
          "height": 169
        }
      },
      "execution_count": null,
      "outputs": [
        {
          "output_type": "error",
          "ename": "TypeError",
          "evalue": "ignored",
          "traceback": [
            "\u001b[0;31m---------------------------------------------------------------------------\u001b[0m",
            "\u001b[0;31mTypeError\u001b[0m                                 Traceback (most recent call last)",
            "\u001b[0;32m<ipython-input-3-2ccb33d38d45>\u001b[0m in \u001b[0;36m<module>\u001b[0;34m\u001b[0m\n\u001b[0;32m----> 1\u001b[0;31m \u001b[0mBanSa\u001b[0m\u001b[0;34m(\u001b[0m\u001b[0;34m)\u001b[0m\u001b[0;34m\u001b[0m\u001b[0;34m\u001b[0m\u001b[0m\n\u001b[0m",
            "\u001b[0;31mTypeError\u001b[0m: BanSa() missing 1 required positional argument: 'word'"
          ]
        }
      ]
    },
    {
      "cell_type": "code",
      "source": [
        "# 기본적인 함수 반사을 위한 기본(default) 값\n",
        "\n",
        "def BanSa2(word='침묵'):\n",
        "  return word\n",
        "\n",
        "print(BanSa2('펭수'))\n",
        "print(BanSa2())"
      ],
      "metadata": {
        "id": "ChBtD3VPqu01",
        "outputId": "d724f2d1-b49c-4d16-ad64-47368344d598",
        "colab": {
          "base_uri": "https://localhost:8080/"
        }
      },
      "execution_count": null,
      "outputs": [
        {
          "output_type": "stream",
          "name": "stdout",
          "text": [
            "펭수\n",
            "침묵\n"
          ]
        }
      ]
    },
    {
      "cell_type": "code",
      "source": [
        "def personal_info(name='홍길동',age=30,ctzshp='한국'):\n",
        "  print('이름:',name, '나이:', age,'국적:',ctzshp)\n",
        "\n",
        "personal_info()\n",
        "\n",
        "personal_info('미스터빈',67,'영국')\n",
        "\n",
        "\n",
        "personal_info(age=20,name='김수한무')"
      ],
      "metadata": {
        "colab": {
          "base_uri": "https://localhost:8080/"
        },
        "id": "ntDBBQLyw2cq",
        "outputId": "31f48959-d6dc-4694-f283-463811ca9da7"
      },
      "execution_count": 9,
      "outputs": [
        {
          "output_type": "stream",
          "name": "stdout",
          "text": [
            "이름: 홍길동 나이: 30 국적: 한국\n",
            "이름: 미스터빈 나이: 67 국적: 영국\n",
            "이름: 김수한무 나이: 20 국적: 한국\n"
          ]
        }
      ]
    },
    {
      "cell_type": "code",
      "source": [
        "# 위치인수 positional arguments와 가변인수 variable length arguments\n",
        "\n",
        "def print_movies(*movies):\n",
        "  for title in movies:\n",
        "    print(title)\n",
        "\n",
        "print_movies('당산대형','정무문','맹룡과강','용쟁호투','사망유희')"
      ],
      "metadata": {
        "colab": {
          "base_uri": "https://localhost:8080/"
        },
        "id": "ylPjE1unzOmw",
        "outputId": "1dbdba7e-a50d-4990-a416-ddfebe380ad8"
      },
      "execution_count": 11,
      "outputs": [
        {
          "output_type": "stream",
          "name": "stdout",
          "text": [
            "당산대형\n",
            "정무문\n",
            "맹룡과강\n",
            "용쟁호투\n",
            "사망유희\n"
          ]
        }
      ]
    },
    {
      "cell_type": "code",
      "source": [
        "## 개수가 자유롭게 dictionary type도 입력 ** 사용\n",
        "\n",
        "def print_movies2(**movies):\n",
        "  for title in movies.keys():\n",
        "    print(title, movies[title])\n",
        "\n",
        "print_movies2(당산대형=1971,정무문=1972,맹룡과강=1972,용쟁호투=1973,사망유희=1973) # 따옴표 '' 표시가 없음.\n"
      ],
      "metadata": {
        "colab": {
          "base_uri": "https://localhost:8080/"
        },
        "id": "62DY-FNj02y6",
        "outputId": "fad324ae-f46a-472b-fe72-71ae27725735"
      },
      "execution_count": 16,
      "outputs": [
        {
          "output_type": "stream",
          "name": "stdout",
          "text": [
            "당산대형 1971\n",
            "정무문 1972\n",
            "맹룡과강 1972\n",
            "용쟁호투 1973\n",
            "사망유희 1973\n"
          ]
        }
      ]
    },
    {
      "cell_type": "code",
      "source": [
        "#### 순서가 바뀌니 안된다.\n",
        "\n",
        "\n",
        "def separation(*words, sep='*'):\n",
        "  return sep.join(words)\n",
        "\n",
        "separation('ahrada','dsgf','ujyhgtds')"
      ],
      "metadata": {
        "colab": {
          "base_uri": "https://localhost:8080/",
          "height": 36
        },
        "id": "Yrhhcw5F46oL",
        "outputId": "ab81d1cc-63a0-4e36-de57-68e78ff6107b"
      },
      "execution_count": 19,
      "outputs": [
        {
          "output_type": "execute_result",
          "data": {
            "text/plain": [
              "'ahrada*dsgf*ujyhgtds'"
            ],
            "application/vnd.google.colaboratory.intrinsic+json": {
              "type": "string"
            }
          },
          "metadata": {},
          "execution_count": 19
        }
      ]
    },
    {
      "cell_type": "code",
      "source": [
        "separation('ahrada','dsgf','ujyhgtds',sep='%%%%%%%')"
      ],
      "metadata": {
        "colab": {
          "base_uri": "https://localhost:8080/",
          "height": 36
        },
        "id": "uElaXsTR5kRc",
        "outputId": "3d5974e2-ce03-4d11-daeb-e784d1014639"
      },
      "execution_count": 20,
      "outputs": [
        {
          "output_type": "execute_result",
          "data": {
            "text/plain": [
              "'ahrada%%%%%%%dsgf%%%%%%%ujyhgtds'"
            ],
            "application/vnd.google.colaboratory.intrinsic+json": {
              "type": "string"
            }
          },
          "metadata": {},
          "execution_count": 20
        }
      ]
    },
    {
      "cell_type": "code",
      "source": [
        "separation(sep='%%%%%%%','ahrada','dsgf','ujyhgtds') ### 순서가 바뀌니 안된다."
      ],
      "metadata": {
        "colab": {
          "base_uri": "https://localhost:8080/",
          "height": 133
        },
        "id": "BNAFKgBj50LC",
        "outputId": "793e8fb2-de3e-4e03-e111-569462157324"
      },
      "execution_count": 21,
      "outputs": [
        {
          "output_type": "error",
          "ename": "SyntaxError",
          "evalue": "ignored",
          "traceback": [
            "\u001b[0;36m  File \u001b[0;32m\"<ipython-input-21-91a4a04e77b1>\"\u001b[0;36m, line \u001b[0;32m1\u001b[0m\n\u001b[0;31m    separation(sep='%%%%%%%','ahrada','dsgf','ujyhgtds')\u001b[0m\n\u001b[0m                            ^\u001b[0m\n\u001b[0;31mSyntaxError\u001b[0m\u001b[0;31m:\u001b[0m positional argument follows keyword argument\n"
          ]
        }
      ]
    },
    {
      "cell_type": "code",
      "source": [
        "### 언패킹을 통해 튜플 대입하기\n",
        "\n",
        "numbers = 3, 15\n",
        "\n",
        "list(range(*numbers)) ## '*'를 사용하여 unpacking하여 넣었다."
      ],
      "metadata": {
        "colab": {
          "base_uri": "https://localhost:8080/"
        },
        "id": "1PHqXtGB6H4e",
        "outputId": "d099bd48-e934-42fe-d349-9c0a3c76891b"
      },
      "execution_count": 24,
      "outputs": [
        {
          "output_type": "execute_result",
          "data": {
            "text/plain": [
              "[3, 4, 5, 6, 7, 8, 9, 10, 11, 12, 13, 14]"
            ]
          },
          "metadata": {},
          "execution_count": 24
        }
      ]
    },
    {
      "cell_type": "code",
      "source": [
        "## 앞에서 사용한 example \n",
        "\n",
        "def personal_info(name='홍길동',age=30,ctzshp='한국'):\n",
        "  print('이름:',name, '나이:', age,'국적:',ctzshp)\n",
        "\n",
        "\n",
        "\n",
        "## dictionary도 넣어 보기\n",
        "\n",
        "info={'name':'거북이와두루미','age':'100','ctzshp':'대자연' }\n",
        "\n",
        "personal_info(**info)"
      ],
      "metadata": {
        "colab": {
          "base_uri": "https://localhost:8080/"
        },
        "id": "P17QOTwL6kvd",
        "outputId": "be3f99b0-e96f-4522-cca1-750213dfd202"
      },
      "execution_count": 26,
      "outputs": [
        {
          "output_type": "stream",
          "name": "stdout",
          "text": [
            "이름: 거북이와두루미 나이: 100 국적: 대자연\n"
          ]
        }
      ]
    }
  ]
}